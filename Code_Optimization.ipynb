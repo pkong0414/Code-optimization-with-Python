{
  "nbformat": 4,
  "nbformat_minor": 0,
  "metadata": {
    "colab": {
      "name": "Code_Optimization.ipynb",
      "version": "0.3.2",
      "provenance": [],
      "collapsed_sections": [],
      "include_colab_link": true
    },
    "kernelspec": {
      "name": "python3",
      "display_name": "Python 3"
    }
  },
  "cells": [
    {
      "cell_type": "markdown",
      "metadata": {
        "id": "view-in-github",
        "colab_type": "text"
      },
      "source": [
        "<a href=\"https://colab.research.google.com/github/pkong0414/Code-optimization-with-Python/blob/master/Code_Optimization.ipynb\" target=\"_parent\"><img src=\"https://colab.research.google.com/assets/colab-badge.svg\" alt=\"Open In Colab\"/></a>"
      ]
    },
    {
      "cell_type": "code",
      "metadata": {
        "id": "N1hAfxm3W_K1",
        "colab_type": "code",
        "colab": {}
      },
      "source": [
        "import random , os\n",
        "import multiprocessing as mp\n",
        "from queue import Empty\n",
        "import math\n",
        "import time"
      ],
      "execution_count": 0,
      "outputs": []
    },
    {
      "cell_type": "markdown",
      "metadata": {
        "id": "OoIWrFsFZNWk",
        "colab_type": "text"
      },
      "source": [
        "I took the speeding up python notebook: Speeding up Python and expanded it further.\n",
        "\n",
        "Here is the link to the original notebook:\n",
        "( https://colab.research.google.com/drive/1nMDtWcVZCT9q1VWen5rXL8ZHVlxn2KnL )\n",
        "\n",
        "All the documentations are linked in the relevant section.\n",
        "\n",
        "**-Patrick Kong**\n",
        "\n"
      ]
    },
    {
      "cell_type": "markdown",
      "metadata": {
        "id": "VZ6SAE46grx5",
        "colab_type": "text"
      },
      "source": [
        "#This is the presentation for code optimization for python. We will explore the tools we need in order to do this."
      ]
    },
    {
      "cell_type": "markdown",
      "metadata": {
        "id": "1TYJ4-PEgf35",
        "colab_type": "text"
      },
      "source": [
        "#Code timing"
      ]
    },
    {
      "cell_type": "markdown",
      "metadata": {
        "id": "68jbc-KqgwC_",
        "colab_type": "text"
      },
      "source": [
        "Noticing the run time on a code is a good start towards optimizing a code since\n",
        "we can see how fast it will run.\n",
        "\n",
        "So we'll be looking at these commands:\n",
        "\n",
        "%time :  times the execution time of a single statement.\n",
        "\n",
        "%timeit: times the execution in loops for a single statement. This is done to get more timing accuracy. \n",
        "\n",
        "**user time:** is the time spent on the user code itself.\n",
        "\n",
        "**sys time:** is the time spent on the kernel.\n",
        "\n",
        "**Wall time:** is the overall time spent to execute the code. This includes the waiting time before the execution to the total time it takes to execute the code."
      ]
    },
    {
      "cell_type": "code",
      "metadata": {
        "id": "Izb112AUiCp0",
        "colab_type": "code",
        "outputId": "5d472d9c-530b-4891-e2e1-15380865b917",
        "colab": {
          "base_uri": "https://localhost:8080/",
          "height": 51
        }
      },
      "source": [
        "#for this example we'll use a simple function to demonstrate the %time command\n",
        "\n",
        "%time sigma = sum( range( 100 ) )"
      ],
      "execution_count": 0,
      "outputs": [
        {
          "output_type": "stream",
          "text": [
            "CPU times: user 8 µs, sys: 1e+03 ns, total: 9 µs\n",
            "Wall time: 12.9 µs\n"
          ],
          "name": "stdout"
        }
      ]
    },
    {
      "cell_type": "markdown",
      "metadata": {
        "id": "vulFTjYMi6jC",
        "colab_type": "text"
      },
      "source": [
        "For a simple statement we can use %time like this. If we need to use it over a loop iterations\n",
        "we will need to change the way it will be called.\n",
        "\n",
        "if we use %%time, this will wrap around everything."
      ]
    },
    {
      "cell_type": "code",
      "metadata": {
        "id": "ebGhKM_3jGwj",
        "colab_type": "code",
        "outputId": "7046d164-dceb-421c-9001-d13c77de8388",
        "colab": {
          "base_uri": "https://localhost:8080/",
          "height": 52
        }
      },
      "source": [
        "#let's try doing a looped statement of the same thing\n",
        "\n",
        "%%time\n",
        "\n",
        "\n",
        "sigma = 0\n",
        "for i in range( 100 ):\n",
        "  sigma += i\n",
        "\n",
        "def fluff( x ):\n",
        "  summation = sum( range( x ) )\n",
        "  return summation\n",
        "\n",
        "#fluff( 10000 )"
      ],
      "execution_count": 13,
      "outputs": [
        {
          "output_type": "stream",
          "text": [
            "CPU times: user 17 µs, sys: 1 µs, total: 18 µs\n",
            "Wall time: 21.5 µs\n"
          ],
          "name": "stdout"
        }
      ]
    },
    {
      "cell_type": "markdown",
      "metadata": {
        "id": "E0F1wjlQjsyT",
        "colab_type": "text"
      },
      "source": [
        "Next we'll be using the %timeit function. We could also use the same functions to demonstrate\n",
        "the difference between the two commands."
      ]
    },
    {
      "cell_type": "code",
      "metadata": {
        "id": "oJgA6zD3kD2E",
        "colab_type": "code",
        "outputId": "aeaae3dd-1925-41dd-b298-18aecb49a9b4",
        "colab": {
          "base_uri": "https://localhost:8080/",
          "height": 34
        }
      },
      "source": [
        "%timeit sigma = sum( range( 100 ) )"
      ],
      "execution_count": 0,
      "outputs": [
        {
          "output_type": "stream",
          "text": [
            "1000000 loops, best of 3: 1.27 µs per loop\n"
          ],
          "name": "stdout"
        }
      ]
    },
    {
      "cell_type": "markdown",
      "metadata": {
        "id": "PqPpVC9akPTf",
        "colab_type": "text"
      },
      "source": [
        "So %timeit tests the statement by running through loops and gives us the best of 3 timings for the loops"
      ]
    },
    {
      "cell_type": "code",
      "metadata": {
        "id": "8jxuj8oGkqEq",
        "colab_type": "code",
        "outputId": "e6f6b488-2b2a-458d-c45e-5d86085f1ae0",
        "colab": {
          "base_uri": "https://localhost:8080/",
          "height": 34
        }
      },
      "source": [
        "%%timeit\n",
        "\n",
        "sigma = 0\n",
        "for i in range( 100 ):\n",
        "  sigma += i\n"
      ],
      "execution_count": 0,
      "outputs": [
        {
          "output_type": "stream",
          "text": [
            "100000 loops, best of 3: 6.53 µs per loop\n"
          ],
          "name": "stdout"
        }
      ]
    },
    {
      "cell_type": "markdown",
      "metadata": {
        "id": "JjJ1RKZ9nbIv",
        "colab_type": "text"
      },
      "source": [
        "Notice how %timeit lowered the number of loops. \n",
        "\n",
        "For slower codes, %timeit will lower the number of\n",
        "loops it will test."
      ]
    },
    {
      "cell_type": "markdown",
      "metadata": {
        "id": "tFOXvJLvmWt9",
        "colab_type": "text"
      },
      "source": [
        "#Decorators\n",
        "\n",
        "For documentations: https://realpython.com/primer-on-python-decorators/\n",
        "\n",
        "Before we start diving into this. Let's start talking about decorators.\n",
        "\n",
        "Decorators are functions that takes in another function and extends the behavior of the function.\n",
        "\n",
        "This is great for programming even if you aren't using it for optimizations.\n",
        "\n",
        "Here, we will look at a simple function:"
      ]
    },
    {
      "cell_type": "code",
      "metadata": {
        "id": "eksrVYfLuGCr",
        "colab_type": "code",
        "outputId": "28075e2b-00df-487f-bb6c-c0cf68af558a",
        "colab": {
          "base_uri": "https://localhost:8080/",
          "height": 221
        }
      },
      "source": [
        "#coding example\n",
        "\n",
        "def decoratorExample( func ):\n",
        "  def wrapperFunc( *args, **kwargs ):\n",
        "    print( \"this is before the function in the wrapper goes off.\" )\n",
        "    func()\n",
        "    print( \"the function in the wrapper has activated.\" )\n",
        "    \n",
        "  return wrapperFunc\n",
        "  \n",
        "def beep():\n",
        "  for x in range( 10 ):\n",
        "    print( x )\n",
        "    \n",
        "#two ways to call on a decorator\n",
        "\n",
        "#first way:\n",
        "beep = decoratorExample( beep )\n",
        "beep()\n"
      ],
      "execution_count": 0,
      "outputs": [
        {
          "output_type": "stream",
          "text": [
            "this is before the function in the wrapper goes off.\n",
            "0\n",
            "1\n",
            "2\n",
            "3\n",
            "4\n",
            "5\n",
            "6\n",
            "7\n",
            "8\n",
            "9\n",
            "the function in the wrapper has activated.\n"
          ],
          "name": "stdout"
        }
      ]
    },
    {
      "cell_type": "markdown",
      "metadata": {
        "id": "GvrGq_bdexne",
        "colab_type": "text"
      },
      "source": [
        "#There is another way to call the decorator function.\n",
        "\n",
        "By using @ we an call the decorator to wrap around a specific function."
      ]
    },
    {
      "cell_type": "code",
      "metadata": {
        "id": "ItUu5fxUV_h-",
        "colab_type": "code",
        "outputId": "fdc6fcf6-4ee9-45b7-fb14-c6ebaa81a903",
        "colab": {
          "base_uri": "https://localhost:8080/",
          "height": 221
        }
      },
      "source": [
        "#coding example\n",
        "\n",
        "def decoratorFunc( func ):\n",
        "  def wrapperFunc( *args, **kwargs ):\n",
        "    print( \"this is before the function in the wrapper goes off.\" )\n",
        "    func( )\n",
        "    print( \"the function in the wrapper has activated.\" )\n",
        "    \n",
        "  return wrapperFunc\n",
        "\n",
        "#second way is to use syntactic sugar:\n",
        "\n",
        "@decoratorExample\n",
        "def beep():\n",
        "  for x in range( 10 ):\n",
        "    print( x )\n",
        "    \n",
        "#doing it this way allows us to just call the function itself\n",
        "\n",
        "beep()"
      ],
      "execution_count": 0,
      "outputs": [
        {
          "output_type": "stream",
          "text": [
            "this is before the function in the wrapper goes off.\n",
            "0\n",
            "1\n",
            "2\n",
            "3\n",
            "4\n",
            "5\n",
            "6\n",
            "7\n",
            "8\n",
            "9\n",
            "the function in the wrapper has activated.\n"
          ],
          "name": "stdout"
        }
      ]
    },
    {
      "cell_type": "markdown",
      "metadata": {
        "id": "HOo8V1vjYs-U",
        "colab_type": "text"
      },
      "source": [
        "#We could also use decorator to make a Register or Plugins for functions.\n",
        "\n"
      ]
    },
    {
      "cell_type": "code",
      "metadata": {
        "id": "a1_tt-PnfHe8",
        "colab_type": "code",
        "outputId": "5380fd20-b81e-4706-ca18-5a943c00ea3d",
        "colab": {
          "base_uri": "https://localhost:8080/",
          "height": 51
        }
      },
      "source": [
        "import random\n",
        "\n",
        "#global dictionary for registers\n",
        "PLUGINS = dict()\n",
        "\n",
        "def registerFunc( func ):\n",
        "  #Register a function as a plug-in\n",
        "  PLUGINS[ func.__name__ ] = func\n",
        "  \n",
        "@registerFunc\n",
        "def hello_func( name ):\n",
        "  return f\"Hi { name }!\"\n",
        "\n",
        "@registerFunc\n",
        "def second_function( name ):\n",
        "  return f\"this is the second function. { name }\"\n",
        "\n",
        "def random_result( name ):\n",
        "  result, result_function = random.choice( list( PLUGINS.items() ) )\n",
        "  print( f\"Using {result!r}\" )\n",
        "  return result_function( name )\n",
        "\n",
        "#if we use PLUGINS we get a list of registered functions\n",
        "\n",
        "PLUGINS\n",
        "\n",
        "random_result( \"Patrick\" )\n",
        "\n",
        "#if we use globals() we will see all the global variables involved in the current scope\n",
        "#globals()"
      ],
      "execution_count": 0,
      "outputs": [
        {
          "output_type": "stream",
          "text": [
            "Using 'hello_func'\n"
          ],
          "name": "stdout"
        },
        {
          "output_type": "execute_result",
          "data": {
            "text/plain": [
              "'Hi Patrick!'"
            ]
          },
          "metadata": {
            "tags": []
          },
          "execution_count": 10
        }
      ]
    },
    {
      "cell_type": "markdown",
      "metadata": {
        "id": "cffUUrPakvd_",
        "colab_type": "text"
      },
      "source": [
        "#Let's use a decorator to make a custom Timing function.\n",
        "\n",
        "We've learned about timing function. We could literally use this to make a custom timing!\n",
        "\n",
        "\n",
        "*Please note that if you want more thorough testing, use **timeit** since it disables the garbage collector during the loops that are ran.*"
      ]
    },
    {
      "cell_type": "code",
      "metadata": {
        "id": "o6sqlCYmk2Zi",
        "colab_type": "code",
        "outputId": "aa867aef-913d-4725-a68b-ad67a1ec44fa",
        "colab": {
          "base_uri": "https://localhost:8080/",
          "height": 136
        }
      },
      "source": [
        "import time\n",
        "\n",
        "def custom_timing( func ):\n",
        "  \n",
        "  def timing_func( *args, **kwargs ):\n",
        "    \n",
        "    #start timing\n",
        "    start = time.perf_counter()\n",
        "    result = func( *args, **kwargs )\n",
        "    end = time.perf_counter()\n",
        "    \n",
        "    timing = end - start\n",
        "    print( f'function name: { func.__name__ }' )\n",
        "    print( f'runtime: { timing }' )\n",
        "    \n",
        "    return result\n",
        "  \n",
        "  return timing_func\n",
        "\n",
        "@custom_timing\n",
        "def fibonacci( n ):\n",
        "  if n == 0:\n",
        "    return 0\n",
        "  elif n == 1:\n",
        "    return 1\n",
        "  return fibonacci( n - 1 ) + fibonacci( n - 2 )\n",
        "\n",
        "#you'll notice that in order to make this work we'll have to use a different timing function\n",
        "#because recursion will cause the decorator to wrap each instance of fibonacci!\n",
        "\n",
        "fibonacci( 2 )"
      ],
      "execution_count": 0,
      "outputs": [
        {
          "output_type": "stream",
          "text": [
            "function name: fibonacci\n",
            "runtime: 4.67000063508749e-07\n",
            "function name: fibonacci\n",
            "runtime: 1.13999999484804e-06\n",
            "function name: fibonacci\n",
            "runtime: 0.0016499359999215812\n"
          ],
          "name": "stdout"
        },
        {
          "output_type": "execute_result",
          "data": {
            "text/plain": [
              "1"
            ]
          },
          "metadata": {
            "tags": []
          },
          "execution_count": 20
        }
      ]
    },
    {
      "cell_type": "markdown",
      "metadata": {
        "id": "gOOh9Lelof1U",
        "colab_type": "text"
      },
      "source": [
        "#Code Profiling\n",
        "\n",
        "We understand how to time our codes now. \n",
        "\n",
        "Timing the code gives us more information and is fine for understanding the run times.\n",
        "\n",
        "However, we can take this a step further. This is the next step after we've timed our code.\n",
        "\n",
        "Here is where we will identify performance bottlenecks that exist in codes.\n",
        "\n",
        "To accomplish this, we will look at **cProfiler** and **line_profiler**"
      ]
    },
    {
      "cell_type": "markdown",
      "metadata": {
        "id": "4K8kFELzsz6O",
        "colab_type": "text"
      },
      "source": [
        "#cProfiler.\n",
        "\n",
        "This is a built-in profiler and should be the first alternative after you've gained some intuition timing the functions.\n",
        "\n",
        "The reason is because this will be a little slower than using the timing functions. You'll use this if you need to gain more insight about the run times for your code.\n",
        "\n",
        "We'll use a bubble sort for code profiling.\n",
        "\n",
        "A decorator function is a function that takes in a function as an input and returns a function for output.\n",
        "\n",
        "we'll be using a decorator function to control what our cprofiler will do.\n",
        "\n",
        "\n",
        "For more information on commands we'll use this documentation:\n",
        "\n",
        "Python 3: https://docs.python.org/3/library/profile.html\n",
        "\n"
      ]
    },
    {
      "cell_type": "code",
      "metadata": {
        "id": "zBuag1BoeMau",
        "colab_type": "code",
        "colab": {}
      },
      "source": [
        "import cProfile\n",
        "import numpy as np"
      ],
      "execution_count": 0,
      "outputs": []
    },
    {
      "cell_type": "markdown",
      "metadata": {
        "id": "K-NvqDt_ePLc",
        "colab_type": "text"
      },
      "source": [
        "An import will be needed to make this work."
      ]
    },
    {
      "cell_type": "code",
      "metadata": {
        "id": "pXiAtIfbY3pU",
        "colab_type": "code",
        "outputId": "d6193791-8b80-4b99-ec84-2b9a1c6fe466",
        "colab": {
          "base_uri": "https://localhost:8080/",
          "height": 357
        }
      },
      "source": [
        "#start implementing cProfiler here!\n",
        "\n",
        "def cprofiler( function ):\n",
        "  \n",
        "  #the profiling function\n",
        "  def profile_func( *args, **kwargs ):\n",
        "    \n",
        "    \"\"\"Using it this way allows the profile to display results without\n",
        "    writing the profile data to a file\"\"\"\n",
        "    profile = cProfile.Profile()\n",
        "    try:\n",
        "      #starts the collecting of profile data\n",
        "      profile.enable()\n",
        "      \n",
        "      results = function( *args, **kwargs )\n",
        "      #stops collecting of profile data\n",
        "      profile.disable()\n",
        "      \n",
        "      return results\n",
        "    finally:\n",
        "      \"\"\"we use finally as a finish procedure\n",
        "      in this case print_stats will print results to standard out.\n",
        "      for the sake of the demo we'll comment this out\"\"\"\n",
        "      profile.print_stats()\n",
        "  return profile_func\n",
        "\n",
        "@cprofiler\n",
        "def bubble_sort( list ):\n",
        "    # TODO your code here\n",
        "    \n",
        "    \n",
        "    is_sorted = False\n",
        "    num_sort = 0\n",
        "    temp = 0\n",
        "    while is_sorted == False:\n",
        "      \n",
        "        #this variable is reset at the start of every loop\n",
        "        num_sort = 0\n",
        "        for index in range( len(list) - 1 ):\n",
        "          \n",
        "            #if the preceding number in the array is smaller\n",
        "            #a swap will be done.\n",
        "            if list[ index ] > list[ index + 1 ]:\n",
        "                temp = list[ index ]\n",
        "                list[ index ] = list[ index + 1 ]\n",
        "                list[ index + 1 ] = temp\n",
        "                num_sort += 1\n",
        "                \n",
        "        #if nothing is sorted then the flag is set true\n",
        "        #this will prevent another loop from starting\n",
        "        if num_sort == 0:\n",
        "                is_sorted = True\n",
        "            \n",
        "    #the newly sorted list is returned\n",
        "    return list\n",
        "\n",
        "@cprofiler\n",
        "def create_list():\n",
        "  list = np.zeros( 1000 )\n",
        "  x = 0\n",
        "\n",
        "  for i in range( 1000, 0, -1 ):\n",
        "    list[ x ] = i\n",
        "    x += 1\n",
        "  return list\n",
        "\n",
        "if __name__ == '__main__':\n",
        "  #we'll comment out the output for the sake of the demo\n",
        "  list = create_list()\n",
        "  #print( \"before: \", list )\n",
        "  bubble_sort( list )\n",
        "  #print( \"after: \", list )\n",
        "\n"
      ],
      "execution_count": 0,
      "outputs": [
        {
          "output_type": "stream",
          "text": [
            "         3 function calls in 0.000 seconds\n",
            "\n",
            "   Ordered by: standard name\n",
            "\n",
            "   ncalls  tottime  percall  cumtime  percall filename:lineno(function)\n",
            "        1    0.000    0.000    0.000    0.000 <ipython-input-22-77ab19654072>:56(create_list)\n",
            "        1    0.000    0.000    0.000    0.000 {built-in method numpy.zeros}\n",
            "        1    0.000    0.000    0.000    0.000 {method 'disable' of '_lsprof.Profiler' objects}\n",
            "\n",
            "\n",
            "         1002 function calls in 0.480 seconds\n",
            "\n",
            "   Ordered by: standard name\n",
            "\n",
            "   ncalls  tottime  percall  cumtime  percall filename:lineno(function)\n",
            "        1    0.479    0.479    0.480    0.480 <ipython-input-22-77ab19654072>:26(bubble_sort)\n",
            "     1000    0.000    0.000    0.000    0.000 {built-in method builtins.len}\n",
            "        1    0.000    0.000    0.000    0.000 {method 'disable' of '_lsprof.Profiler' objects}\n",
            "\n",
            "\n"
          ],
          "name": "stdout"
        }
      ]
    },
    {
      "cell_type": "markdown",
      "metadata": {
        "id": "L-n39BmplY28",
        "colab_type": "text"
      },
      "source": [
        "We can see the timing for both the create_list and bubble_sort method with this cProfile.\n",
        "\n",
        "**cProfiler**\n",
        "\n",
        "\n",
        "pros: \n",
        "- no external dependencies\n",
        "- fast\n",
        "- useful for quick checks.\n",
        "\n",
        "cons:\n",
        "- limited information which usually doesn't help if you need deeper debugging.\n",
        "- reports aren't easily understood."
      ]
    },
    {
      "cell_type": "markdown",
      "metadata": {
        "id": "et7jnwfroeO6",
        "colab_type": "text"
      },
      "source": [
        "#line_profiler\n",
        "\n",
        "Let's take a look at line profiler next. We'll use the same code for this one just to show what it can do.\n",
        "\n",
        "For documentation:\n",
        "\n",
        "visit: https://github.com/rkern/line_profiler#line-profiler"
      ]
    },
    {
      "cell_type": "code",
      "metadata": {
        "id": "gGC-ZSYop040",
        "colab_type": "code",
        "outputId": "f3e6bd5d-4d49-404a-f358-9a46adfce76d",
        "colab": {
          "base_uri": "https://localhost:8080/",
          "height": 411
        }
      },
      "source": [
        "!pip install line_profiler\n",
        "from line_profiler import LineProfiler"
      ],
      "execution_count": 0,
      "outputs": [
        {
          "output_type": "stream",
          "text": [
            "Collecting line_profiler\n",
            "\u001b[?25l  Downloading https://files.pythonhosted.org/packages/14/fc/ecf4e238bb601ff829068e5a72cd1bd67b0ee0ae379db172eb6a0779c6b6/line_profiler-2.1.2.tar.gz (83kB)\n",
            "\r\u001b[K     |████                            | 10kB 12.4MB/s eta 0:00:01\r\u001b[K     |███████▉                        | 20kB 3.2MB/s eta 0:00:01\r\u001b[K     |███████████▉                    | 30kB 4.6MB/s eta 0:00:01\r\u001b[K     |███████████████▊                | 40kB 3.0MB/s eta 0:00:01\r\u001b[K     |███████████████████▊            | 51kB 3.6MB/s eta 0:00:01\r\u001b[K     |███████████████████████▋        | 61kB 4.3MB/s eta 0:00:01\r\u001b[K     |███████████████████████████▋    | 71kB 4.9MB/s eta 0:00:01\r\u001b[K     |███████████████████████████████▌| 81kB 5.6MB/s eta 0:00:01\r\u001b[K     |████████████████████████████████| 92kB 5.6MB/s \n",
            "\u001b[?25hRequirement already satisfied: IPython>=0.13 in /usr/local/lib/python3.6/dist-packages (from line_profiler) (5.5.0)\n",
            "Requirement already satisfied: pexpect; sys_platform != \"win32\" in /usr/local/lib/python3.6/dist-packages (from IPython>=0.13->line_profiler) (4.7.0)\n",
            "Requirement already satisfied: pygments in /usr/local/lib/python3.6/dist-packages (from IPython>=0.13->line_profiler) (2.1.3)\n",
            "Requirement already satisfied: simplegeneric>0.8 in /usr/local/lib/python3.6/dist-packages (from IPython>=0.13->line_profiler) (0.8.1)\n",
            "Requirement already satisfied: prompt-toolkit<2.0.0,>=1.0.4 in /usr/local/lib/python3.6/dist-packages (from IPython>=0.13->line_profiler) (1.0.16)\n",
            "Requirement already satisfied: traitlets>=4.2 in /usr/local/lib/python3.6/dist-packages (from IPython>=0.13->line_profiler) (4.3.2)\n",
            "Requirement already satisfied: pickleshare in /usr/local/lib/python3.6/dist-packages (from IPython>=0.13->line_profiler) (0.7.5)\n",
            "Requirement already satisfied: setuptools>=18.5 in /usr/local/lib/python3.6/dist-packages (from IPython>=0.13->line_profiler) (41.0.1)\n",
            "Requirement already satisfied: decorator in /usr/local/lib/python3.6/dist-packages (from IPython>=0.13->line_profiler) (4.4.0)\n",
            "Requirement already satisfied: ptyprocess>=0.5 in /usr/local/lib/python3.6/dist-packages (from pexpect; sys_platform != \"win32\"->IPython>=0.13->line_profiler) (0.6.0)\n",
            "Requirement already satisfied: six>=1.9.0 in /usr/local/lib/python3.6/dist-packages (from prompt-toolkit<2.0.0,>=1.0.4->IPython>=0.13->line_profiler) (1.12.0)\n",
            "Requirement already satisfied: wcwidth in /usr/local/lib/python3.6/dist-packages (from prompt-toolkit<2.0.0,>=1.0.4->IPython>=0.13->line_profiler) (0.1.7)\n",
            "Requirement already satisfied: ipython-genutils in /usr/local/lib/python3.6/dist-packages (from traitlets>=4.2->IPython>=0.13->line_profiler) (0.2.0)\n",
            "Building wheels for collected packages: line-profiler\n",
            "  Building wheel for line-profiler (setup.py) ... \u001b[?25l\u001b[?25hdone\n",
            "  Stored in directory: /root/.cache/pip/wheels/05/7d/9b/aafbe8d78dc2b2c644d2efd2f060ab3258143860142575193a\n",
            "Successfully built line-profiler\n",
            "Installing collected packages: line-profiler\n",
            "Successfully installed line-profiler-2.1.2\n"
          ],
          "name": "stdout"
        }
      ]
    },
    {
      "cell_type": "markdown",
      "metadata": {
        "id": "H29SzThKqBg0",
        "colab_type": "text"
      },
      "source": [
        "As you've noticed line profiler isn't built in. However, I think it's still a very good profiler to use if you need line by line analysis for the code.\n",
        "\n"
      ]
    },
    {
      "cell_type": "code",
      "metadata": {
        "id": "vgy8V329obzR",
        "colab_type": "code",
        "outputId": "5c855c2e-054c-485f-e58e-46444534e39f",
        "colab": {
          "base_uri": "https://localhost:8080/",
          "height": 765
        }
      },
      "source": [
        "#implement line profiler function here!\n",
        "\n",
        "def profiler_function( function ):\n",
        "  def profile_function( *args, **kwargs ):\n",
        "    try:\n",
        "      profiler = LineProfiler()\n",
        "      \n",
        "      #this add_function informs \n",
        "      #the line profiler which function to profile\n",
        "      profiler.add_function( function )\n",
        "      \n",
        "      #enable_by_count is the same as enable for cProfiler\n",
        "      #except for line profiler this is safe to used on nested functions\n",
        "      profiler.enable_by_count()\n",
        "      \n",
        "      #please note if you want to disable then you'll use:\n",
        "      #disable_by_count()\n",
        "      \n",
        "      return function( *args, **kwargs )\n",
        "    finally:\n",
        "      profiler.print_stats()\n",
        "  return profile_function\n",
        "\n",
        "'''\n",
        "except ImportError:\n",
        "  def line_profiler():\n",
        "    def inner( function ):\n",
        "      def nothing( *args, **kwargs )\n",
        "        return function( *args, **kwargs )\n",
        "      return nothing\n",
        "    return inner\n",
        "'''\n",
        "\n",
        "@profiler_function\n",
        "def bubble_sort(list):\n",
        "    # TODO your code here\n",
        "    is_sorted = False\n",
        "    num_sort = 0\n",
        "    temp = 0\n",
        "    while is_sorted == False:\n",
        "        num_sort = 0\n",
        "        for index in range(len(list)-1):\n",
        "            if list[index] > list[index +1]:\n",
        "                temp = list[index]\n",
        "                list[index] = list[index+1]\n",
        "                list[index+1] = temp\n",
        "                num_sort += 1\n",
        "        if num_sort == 0:\n",
        "                is_sorted = True\n",
        "    return list\n",
        "\n",
        "@profiler_function\n",
        "def create_list():\n",
        "  list = np.zeros( 1000 )\n",
        "  x = 0\n",
        "\n",
        "  for i in range( 1000, 0, -1 ):\n",
        "    list[ x ] = i\n",
        "    x += 1\n",
        "  return list\n",
        "\n",
        "if __name__ == '__main__':\n",
        "  #we'll comment out the output for the sake of the demo\n",
        "  list = create_list()\n",
        "  #print( \"before: \", list )\n",
        "  bubble_sort(list)\n",
        "  #print( \"after: \", list )\n"
      ],
      "execution_count": 0,
      "outputs": [
        {
          "output_type": "stream",
          "text": [
            "Timer unit: 1e-06 s\n",
            "\n",
            "Total time: 0.001232 s\n",
            "File: <ipython-input-24-06806949b802>\n",
            "Function: create_list at line 51\n",
            "\n",
            "Line #      Hits         Time  Per Hit   % Time  Line Contents\n",
            "==============================================================\n",
            "    51                                           @profiler_function\n",
            "    52                                           def create_list():\n",
            "    53         1         51.0     51.0      4.1    list = np.zeros( 1000 )\n",
            "    54         1          1.0      1.0      0.1    x = 0\n",
            "    55                                           \n",
            "    56      1001        376.0      0.4     30.5    for i in range( 1000, 0, -1 ):\n",
            "    57      1000        433.0      0.4     35.1      list[ x ] = i\n",
            "    58      1000        371.0      0.4     30.1      x += 1\n",
            "    59         1          0.0      0.0      0.0    return list\n",
            "\n",
            "Timer unit: 1e-06 s\n",
            "\n",
            "Total time: 1.91311 s\n",
            "File: <ipython-input-24-06806949b802>\n",
            "Function: bubble_sort at line 33\n",
            "\n",
            "Line #      Hits         Time  Per Hit   % Time  Line Contents\n",
            "==============================================================\n",
            "    33                                           @profiler_function\n",
            "    34                                           def bubble_sort(list):\n",
            "    35                                               # TODO your code here\n",
            "    36         1          2.0      2.0      0.0      is_sorted = False\n",
            "    37         1          0.0      0.0      0.0      num_sort = 0\n",
            "    38         1          0.0      0.0      0.0      temp = 0\n",
            "    39      1001        385.0      0.4      0.0      while is_sorted == False:\n",
            "    40      1000        350.0      0.3      0.0          num_sort = 0\n",
            "    41   1000000     354710.0      0.4     18.5          for index in range(len(list)-1):\n",
            "    42    999000     626047.0      0.6     32.7              if list[index] > list[index +1]:\n",
            "    43    499500     221658.0      0.4     11.6                  temp = list[index]\n",
            "    44    499500     289773.0      0.6     15.1                  list[index] = list[index+1]\n",
            "    45    499500     229584.0      0.5     12.0                  list[index+1] = temp\n",
            "    46    499500     190142.0      0.4      9.9                  num_sort += 1\n",
            "    47      1000        458.0      0.5      0.0          if num_sort == 0:\n",
            "    48         1          1.0      1.0      0.0                  is_sorted = True\n",
            "    49         1          0.0      0.0      0.0      return list\n",
            "\n"
          ],
          "name": "stdout"
        }
      ]
    },
    {
      "cell_type": "markdown",
      "metadata": {
        "id": "OvhYxuC3zSsg",
        "colab_type": "text"
      },
      "source": [
        "\n",
        "We can see the number of operations, run time and miscellaneous details in a line by line fashion.\n",
        "This is a great tool for checking on performance bottlenecks, if you still need to gather more information about your code.\n",
        "\n",
        "**Line Profiler**\n",
        "\n",
        "\n",
        "Pros:\n",
        "- intiuitive\n",
        "- reports are detailed\n",
        "- can follow functions in third party libraries\n",
        "\n",
        "Cons:\n",
        "- huge overhead\n",
        "- because it is slow, this shouldn't be used for benchmarking\n",
        "- it isn't built in so, you'll have to import externally\n",
        "- timing issues arise with nested functions\n",
        "- not stackable"
      ]
    },
    {
      "cell_type": "markdown",
      "metadata": {
        "id": "ty52c1GvaFeE",
        "colab_type": "text"
      },
      "source": [
        "#Parallelization."
      ]
    },
    {
      "cell_type": "code",
      "metadata": {
        "colab_type": "code",
        "outputId": "c87d3303-9fff-45c8-99cc-d45f7a891606",
        "id": "UxyDAClxkMDQ",
        "colab": {
          "base_uri": "https://localhost:8080/",
          "height": 34
        }
      },
      "source": [
        "#We use cpu_count method to give us the max number of\n",
        "#CPUs available\n",
        "\n",
        "print( \"number of CPUs we can use: \", mp.cpu_count() )"
      ],
      "execution_count": 0,
      "outputs": [
        {
          "output_type": "stream",
          "text": [
            "number of CPUs we can use:  2\n"
          ],
          "name": "stdout"
        }
      ]
    },
    {
      "cell_type": "markdown",
      "metadata": {
        "id": "Yr9nTEDubQ6P",
        "colab_type": "text"
      },
      "source": [
        "We can run a simple code to see what happens when we run parallel processes\n",
        "\n",
        "With this there are two things we need to consider for parallelization:\n",
        "\n",
        "**Syncronuous** and **Asyncronous**\n",
        "\n",
        "A **synchronous** operation **blocks** a process till the operation completes.\n",
        "\n",
        "An **asynchronous** operation is **non-blocking** and only initiates the operation.\n",
        "\n",
        "\n",
        "There are methods we can consider with this:\n",
        "\n",
        "**Synchronous:**\n",
        "\n",
        "**apply( func, args, kwds )**,\n",
        "**map( func, iterable, chunksize )**,\n",
        "**starmap( func, iterable, chunksize )**\n",
        "\n",
        "**Asynchronous:**\n",
        "\n",
        "**apply_async( func, args, kwds, callback )**,\n",
        "**map_async( func, iterable, chunksize, callback )**,\n",
        "**starmap_async( func, iterable, chuncksize, callback )**\n",
        "\n",
        "For documentations: "
      ]
    },
    {
      "cell_type": "code",
      "metadata": {
        "id": "-2XXBpnAwJaz",
        "colab_type": "code",
        "outputId": "6e548112-975d-4ffc-e16e-f6b001b86df8",
        "colab": {
          "base_uri": "https://localhost:8080/",
          "height": 102
        }
      },
      "source": [
        "#coding example here\n",
        "\n",
        "def functionCount( count ):\n",
        "  time.sleep( 2 )\n",
        "  return count*count\n",
        "\n",
        "results_list = []\n",
        "def result_log( count ):\n",
        "  results_list.append( count )\n",
        "\n",
        "@custom_timing\n",
        "def pool_demo():\n",
        "  #this will automatically give us processes to work with\n",
        "  pool = mp.Pool( )\n",
        "  for i in range( 10 ):\n",
        "    #apply works by blocking until the result is ready\n",
        "    result_log( pool.apply( functionCount, args = ( i, ) ) )\n",
        "    \n",
        "  #this prevents any more tasks from being submitted into the pool\n",
        "  pool.close()\n",
        "\n",
        "  #this will wait for worker processes to exit\n",
        "  pool.join()\n",
        "  \n",
        "  print( \"outputting results from apply method:\\n\" )\n",
        "  print( results_list )\n",
        "\n",
        "if __name__ == '__main__':\n",
        "    pool_demo()"
      ],
      "execution_count": 0,
      "outputs": [
        {
          "output_type": "stream",
          "text": [
            "outputting results from apply method:\n",
            "\n",
            "[0, 1, 4, 9, 16, 25, 36, 49, 64, 81]\n",
            "function name: pool_demo\n",
            "runtime: 20.08020448900004\n"
          ],
          "name": "stdout"
        }
      ]
    },
    {
      "cell_type": "code",
      "metadata": {
        "id": "mXC-MV8oivMA",
        "colab_type": "code",
        "outputId": "733e76dc-74ce-47db-dd0b-f248058b35c0",
        "colab": {
          "base_uri": "https://localhost:8080/",
          "height": 102
        }
      },
      "source": [
        "def functionCount( count ):\n",
        "  time.sleep( 2 )\n",
        "  return count*count\n",
        "\n",
        "apply_list = []\n",
        "results_list = []\n",
        "def result_log( count ):\n",
        "  results_list.append( count )\n",
        "\n",
        "@custom_timing\n",
        "def pool_demo():\n",
        "  #this will give us 4 processes to work with\n",
        "  pool = mp.Pool( 4 )\n",
        "  for i in range( 10 ):\n",
        "    #apply_sync works by processing and returning the results when it's ready\n",
        "    pool.apply_async( functionCount, args = ( i, ), callback = result_log )\n",
        "\n",
        "  #this prevents any more tasks from being submitted into the pool\n",
        "  pool.close()\n",
        "\n",
        "  #this will wait for worker processes to exit\n",
        "  pool.join()\n",
        "  \n",
        "  print( \"outputting results from apply_async method:\\n\")\n",
        "  print( results_list )\n",
        "  \n",
        "if __name__ == '__main__':\n",
        "    pool_demo()"
      ],
      "execution_count": 0,
      "outputs": [
        {
          "output_type": "stream",
          "text": [
            "outputting results from apply_async method:\n",
            "\n",
            "[0, 1, 4, 9, 16, 36, 25, 49, 64, 81]\n",
            "function name: pool_demo\n",
            "runtime: 6.06572914000003\n"
          ],
          "name": "stdout"
        }
      ]
    },
    {
      "cell_type": "markdown",
      "metadata": {
        "id": "jKpcyTLakfgC",
        "colab_type": "text"
      },
      "source": [
        "We can see that the numbers are initiated in order with **apply** method. \n",
        "\n",
        "However, this might not always be the case as **apply_async** method doesn't\n",
        "always output in the order that corresponds to the iterations.\n",
        "\n",
        "Note that with **apply_async** be using callback.\n",
        "\n",
        "This is why we have **map** and **apply** methods available if we need the \n",
        "processes to be blocked until the result is ready."
      ]
    },
    {
      "cell_type": "code",
      "metadata": {
        "id": "4wwAwJ5Vj1kZ",
        "colab_type": "code",
        "outputId": "c29a8656-0942-47ea-85dd-4fc3003593d0",
        "colab": {
          "base_uri": "https://localhost:8080/",
          "height": 34
        }
      },
      "source": [
        "!pip install cython\n",
        "%load_ext Cython\n",
        "\n",
        "from distutils.core import setup\n",
        "from Cython.Build import cythonize"
      ],
      "execution_count": 0,
      "outputs": [
        {
          "output_type": "stream",
          "text": [
            "Requirement already satisfied: cython in /usr/local/lib/python3.6/dist-packages (0.29.10)\n"
          ],
          "name": "stdout"
        }
      ]
    },
    {
      "cell_type": "markdown",
      "metadata": {
        "id": "2K6KDraFQfHR",
        "colab_type": "text"
      },
      "source": [
        "Installing cython and loading the module\n",
        "\n",
        "#Cython\n",
        "\n",
        "The next thing to consider would be to use another language to run the python code.\n",
        "\n",
        "C + Python = Cython\n",
        "\n",
        "Cython addresses the shortcomings that exists in python:\n",
        "\n",
        "\n",
        "**execution speed, GIL-free concurrency, absence of type checking and not creating an executable.**\n",
        "\n",
        "\n",
        "3 things we'll be looking at:\n",
        "\n",
        "**def** - regular python function, calls from Python only.\n",
        "\n",
        "\n",
        "**cdef** - cython only functions, can't access these from python-only code, must access within Cython, since there will be no C translation to Python for these.\n",
        "\n",
        "\n",
        "**cpdef** - C and Python. Will create a C function and a wrapper for Python. Why not *always* use cpdef? In some cases, you might have C only pointer, like a C array."
      ]
    },
    {
      "cell_type": "markdown",
      "metadata": {
        "id": "aP-dDdU9AReb",
        "colab_type": "text"
      },
      "source": [
        "#def\n",
        "\n",
        "Let's use a sieve function since it will show us the speed between these 3 declarations."
      ]
    },
    {
      "cell_type": "code",
      "metadata": {
        "id": "Nq9kQTO9Ro90",
        "colab_type": "code",
        "colab": {}
      },
      "source": [
        "def sieve( size ):\n",
        "  upper_limit = int( math.sqrt( size ) )\n",
        "  \n",
        "  #initializing an array of zeroes for both prime and non prime arrays\n",
        "  #numpy will give us the means to create an array of appropriate size\n",
        "  non_prime = np.zeros( ( size ) )\n",
        "  prime = np.zeros( ( size ) )\n",
        "  \n",
        "  tally = 0\n",
        "  \n",
        "  for m in range( 2, size ):\n",
        "    \n",
        "    '''\n",
        "    this will take the numbers to compare against non primes to\n",
        "    create a list of prime numbers\n",
        "    '''\n",
        "    \n",
        "    if( m != non_prime[ m ] ):\n",
        "      prime[ tally ] = m\n",
        "      #for demo purposes we'll comment out this print statement\n",
        "      #print( '{}' .format( int( prime[ tally ] ) ) )\n",
        "      tally += 1\n",
        "      i = 0\n",
        "    \n",
        "    #this while statement will fill up the non prime numbers\n",
        "    while( ( i * m ) < size ):\n",
        "      if( i * m != non_prime[ i * m ] ):\n",
        "        non_prime[ i * m ] = i * m\n",
        "      i += 1\n",
        "\n",
        "\n",
        "def sieve_demo( size ):\n",
        "  primes = [True for _ in range( size + 1 ) ]\n",
        "  primes[0] = primes[1] = False\n",
        "  upper_limit = int(math.sqrt( size ))\n",
        "  for i in range(2, upper_limit+1):\n",
        "      if not primes[i]:\n",
        "          continue\n",
        "      for j in range(2*i, size+1, i):\n",
        "          primes[j] = False\n",
        "  return [x for x in range(2, size+1) if primes[x]]"
      ],
      "execution_count": 0,
      "outputs": []
    },
    {
      "cell_type": "code",
      "metadata": {
        "id": "L6KoScEgL3Vt",
        "colab_type": "code",
        "outputId": "632a2c1d-77cc-4d39-9cf2-3ca43020f247",
        "colab": {
          "base_uri": "https://localhost:8080/",
          "height": 51
        }
      },
      "source": [
        "%timeit sieve( 200000 )\n",
        "    \n",
        "%timeit sieve_demo( 200000 )"
      ],
      "execution_count": 0,
      "outputs": [
        {
          "output_type": "stream",
          "text": [
            "1 loop, best of 3: 783 ms per loop\n",
            "1 loop, best of 3: 251 ms per loop\n"
          ],
          "name": "stdout"
        }
      ]
    },
    {
      "cell_type": "markdown",
      "metadata": {
        "id": "RJwdwrICTqd_",
        "colab_type": "text"
      },
      "source": [
        "The timing is still pretty fast, all things considering. Now let's speed it up further.\n",
        "\n",
        "We'll take this same function and Cythonize it.\n",
        "\n",
        "For this we will use **cdef**. This will contain a lot of gotchas considering that\n",
        "we will have to make this code operate like **C code**."
      ]
    },
    {
      "cell_type": "markdown",
      "metadata": {
        "id": "V9-53MAMZO00",
        "colab_type": "text"
      },
      "source": [
        "#cdef\n",
        "\n",
        "because we'll be using c for this cythonized code, we'll also be using **malloc** and **free** for the arrays.\n",
        "\n",
        "**malloc** will give us the memory allocation for the arrays.\n",
        "\n",
        "\n",
        "**free** will free up the memory taken up array when we are done."
      ]
    },
    {
      "cell_type": "code",
      "metadata": {
        "id": "uTk9_6SCRvdI",
        "colab_type": "code",
        "colab": {}
      },
      "source": [
        "#this will be the cythonized version of sieve\n",
        "%%cython\n",
        "from libc.math cimport sqrt\n",
        "from libc.stdlib cimport malloc, free\n",
        "from libc.time cimport time,time_t\n",
        "\n",
        "cpdef void sieve_c( int size ):\n",
        "  upper_limit = int( sqrt( size ) )\n",
        "  \n",
        "  #we initialize non prime and prime as a pointer\n",
        "  #malloc will allow us to dynamically allocate memory\n",
        "  #we have 2 arrays with size+1 of 4 bytes\n",
        "  cdef int *non_prime = < int * > malloc( ( size + 1 ) * sizeof( int ) )\n",
        "  cdef int *prime = < int * > malloc( ( size + 1 ) * sizeof( int ) )\n",
        "  \n",
        "  cdef int tally = 0, i = 0\n",
        "  try:\n",
        "    for m in range( 2, size ):\n",
        "\n",
        "      '''\n",
        "      this will take the numbers to compare against non primes to\n",
        "      create a list of prime numbers\n",
        "      '''\n",
        "\n",
        "      if( m != non_prime[ m ] ):\n",
        "        prime[ tally ] = m\n",
        "        #for demo purposes we'll comment out this print statement\n",
        "        #print( '{}' .format( int( prime[ tally ] ) ) )\n",
        "        tally += 1\n",
        "        i = 0\n",
        "\n",
        "      #this while statement will fill up the non prime numbers\n",
        "      while( ( i * m ) < size ):\n",
        "        if( i * m != non_prime[ i * m ] ):\n",
        "          non_prime[ i * m ] = i * m\n",
        "        i += 1\n",
        "        \n",
        "  finally:\n",
        "    #we need to free up the allocated memory.\n",
        "    free( non_prime )\n",
        "    free( prime )\n",
        "\n",
        "\n",
        "#this is the better version of sieve\n",
        "cpdef void sieve_demo_c( int up_to ):  \n",
        "    cdef int i, j\n",
        "    cdef bint *primes = < bint * > malloc( ( up_to + 1 ) * sizeof( bint ) )\n",
        "    try:\n",
        "      for i in range( up_to+1 ):\n",
        "        primes[i] = 1\n",
        "        primes[0] = primes[1] = False\n",
        "        upper_limit = int( sqrt( up_to ) )\n",
        "        \n",
        "      for i in range( 2, upper_limit+1 ):\n",
        "          if not primes[i]:\n",
        "              continue\n",
        "          j = 2*i\n",
        "          while j < up_to + 1:\n",
        "              primes[j] = False\n",
        "              j += i\n",
        "    finally:\n",
        "      free( primes )\n"
      ],
      "execution_count": 0,
      "outputs": []
    },
    {
      "cell_type": "code",
      "metadata": {
        "id": "hbcP8g1qXDbe",
        "colab_type": "code",
        "outputId": "6f628f8e-235b-4d51-e919-7174fe3b58b0",
        "colab": {
          "base_uri": "https://localhost:8080/",
          "height": 51
        }
      },
      "source": [
        "#this cythonized function works\n",
        "\n",
        "%timeit sieve_c( 200000 )\n",
        "%timeit sieve_demo_c( 200000 )"
      ],
      "execution_count": 0,
      "outputs": [
        {
          "output_type": "stream",
          "text": [
            "10 loops, best of 3: 38.7 ms per loop\n",
            "100 loops, best of 3: 8.29 ms per loop\n"
          ],
          "name": "stdout"
        }
      ]
    },
    {
      "cell_type": "markdown",
      "metadata": {
        "id": "dgXI75P0rLDt",
        "colab_type": "text"
      },
      "source": [
        "The speed is drastically improved from the original sieve function."
      ]
    },
    {
      "cell_type": "markdown",
      "metadata": {
        "id": "ALqHGEGKtXxg",
        "colab_type": "text"
      },
      "source": [
        "#cpdef\n",
        "\n",
        "**cpdef** version would not be too different since we would have the best of both worlds with python\n",
        "and C.\n",
        "\n",
        "This means that if we Cython code, the runtime will optimize towards C efficiency and if we use the code with python code, the runtime will be like that of python.\n",
        "\n",
        "While we get the flexibility of both python and cython with **cpdef**."
      ]
    },
    {
      "cell_type": "code",
      "metadata": {
        "id": "ukdjlM4oiFU6",
        "colab_type": "code",
        "colab": {}
      },
      "source": [
        "#coding example for cpdef here\n",
        "\n",
        "%%cython\n",
        "from libc.math cimport sqrt\n",
        "from libc.stdlib cimport malloc, free\n",
        "from libc.time cimport time,time_t\n",
        "\n",
        "\n",
        "cpdef sieve_cp( size ):\n",
        "  upper_limit = int( sqrt( size ) )\n",
        "  \n",
        "  \"\"\"\n",
        "    we initialize non prime and prime as a pointer\n",
        "    malloc will allow us to dynamically allocate memory\n",
        "    we have 2 arrays with size+1 of 4 bytes\n",
        "  \"\"\"\n",
        "  cpdef int *non_prime = < int * > malloc( ( size + 1 ) * sizeof( int ) )\n",
        "  cpdef int *prime = < int * > malloc( ( size + 1 ) * sizeof( int ) )\n",
        "  \n",
        "  cpdef int tally = 0, i = 0\n",
        "  try:\n",
        "    for m in range( 2, size ):\n",
        "\n",
        "      \"\"\"\n",
        "        this will take the numbers to compare against non primes to\n",
        "        create a list of prime numbers\n",
        "      \"\"\"\n",
        "\n",
        "      if( m != non_prime[ m ] ):\n",
        "        prime[ tally ] = m\n",
        "\n",
        "        #for demo purposes we'll comment out this print statement\n",
        "\n",
        "        #print( '{}' .format( int( prime[ tally ] ) ) )\n",
        "        tally += 1\n",
        "        i = 0\n",
        "\n",
        "      #this while statement will fill up the non prime numbers\n",
        "      while( ( i * m ) < size ):\n",
        "        if( i * m != non_prime[ i * m ] ):\n",
        "          non_prime[ i * m ] = i * m\n",
        "        i += 1\n",
        "  finally:\n",
        "    free( non_prime )\n",
        "    free( prime )\n",
        "  \n",
        "#this is the better version of sieve\n",
        "cpdef sieve_demo_cp( up_to ):  \n",
        "    cpdef int i, j\n",
        "    cpdef bint *primes = <bint *>malloc((up_to+1) * sizeof(bint))\n",
        "    try:\n",
        "      for i in range(up_to+1):\n",
        "          primes[i] = 1\n",
        "      primes[0] = primes[1] = False\n",
        "      upper_limit = int(sqrt(up_to))\n",
        "      for i in range(2, upper_limit+1):\n",
        "          if not primes[i]:\n",
        "              continue\n",
        "          j = 2*i\n",
        "          while j < up_to + 1:\n",
        "              primes[j] = False\n",
        "              j += i\n",
        "    finally:\n",
        "      free( primes )\n",
        "\n",
        "if __name__ == '__main__':\n",
        "  sieve_cp( 100 )"
      ],
      "execution_count": 0,
      "outputs": []
    },
    {
      "cell_type": "code",
      "metadata": {
        "id": "qjp4kI84TBj4",
        "colab_type": "code",
        "outputId": "f747b2af-aa4e-40fd-80ed-f3ba947ba8c9",
        "colab": {
          "base_uri": "https://localhost:8080/",
          "height": 51
        }
      },
      "source": [
        "%timeit sieve_cp( 200000 )\n",
        "%timeit sieve_demo_cp( 200000 )"
      ],
      "execution_count": 0,
      "outputs": [
        {
          "output_type": "stream",
          "text": [
            "10 loops, best of 3: 34 ms per loop\n",
            "100 loops, best of 3: 17.6 ms per loop\n"
          ],
          "name": "stdout"
        }
      ]
    },
    {
      "cell_type": "markdown",
      "metadata": {
        "id": "JJD_dAJMiUrj",
        "colab_type": "text"
      },
      "source": [
        ""
      ]
    },
    {
      "cell_type": "markdown",
      "metadata": {
        "id": "0eRuohJUQtur",
        "colab_type": "text"
      },
      "source": [
        "#caching\n",
        "\n",
        "Caching is a really great way to optimize expensive code. We'll be using a technique called memoization (or memoisation) to implement caching.\n",
        "\n",
        "To demonstrate this we'll be using a **Fibonacci function** since this function is really **expensive (slow and resource intensive)**."
      ]
    },
    {
      "cell_type": "code",
      "metadata": {
        "id": "lr3M1ycmRXNx",
        "colab_type": "code",
        "outputId": "4e633a87-8f33-4f04-f6d9-d65e13fd9129",
        "colab": {
          "base_uri": "https://localhost:8080/",
          "height": 51
        }
      },
      "source": [
        "#implement memoization function here!\n",
        "\n",
        "def memoization( function ):\n",
        "  cache = dict()\n",
        "  \n",
        "  def memoized_function( *args ):\n",
        "    \"\"\"idea here is to take the argument and see if it exist in our cache\n",
        "       if the it does, we'll return the cache value. \"\"\"\n",
        "    if args in cache:\n",
        "      return cache[ args ]\n",
        "    \n",
        "    \n",
        "    result = function( *args )\n",
        "    cache[ args ] = result\n",
        "    \n",
        "    return result\n",
        "  \n",
        "  return memoized_function\n",
        "\n",
        "\n",
        "#fibonacci function\n",
        "@memoization\n",
        "def fibonacci( n ):\n",
        "  if n == 0:\n",
        "    return 0\n",
        "  elif n == 1:\n",
        "    return 1\n",
        "  return fibonacci( n - 1 ) + fibonacci( n - 2 )\n",
        "\n",
        "#for this example we could just use %timeit to demonstrate runtime\n",
        "%timeit fibonacci( 100 )"
      ],
      "execution_count": 0,
      "outputs": [
        {
          "output_type": "stream",
          "text": [
            "The slowest run took 339.00 times longer than the fastest. This could mean that an intermediate result is being cached.\n",
            "1000000 loops, best of 3: 721 ns per loop\n"
          ],
          "name": "stdout"
        }
      ]
    },
    {
      "cell_type": "markdown",
      "metadata": {
        "id": "xVlHdyvjTymY",
        "colab_type": "text"
      },
      "source": [
        "Here we have the fibonacci function. We'll run it first to see how it performs.\n",
        "\n",
        "Next we'll try using our decorator function: memoization and see how it performs.\n",
        "\n",
        "**BTW python has higher order functions built in which features this function:**\n",
        "\n",
        "**lru_cache( maxsize = 128, typed = False )**\n",
        "\n",
        "**Note: if you set maxsize = None. We are asking the decorator to behave like our memoization function that we looked at earlier.**\n",
        "\n",
        "the **lru** stands for **least recently used**\n",
        "\n",
        "In this implementation of cache, a cache is made with each item containing age bits. This indicate how recent the item is.\n",
        "\n",
        "NOTE: you'll notice that **typed** is set to **False**. If it was set to **True** it means that each items of different types will be cached separately.\n",
        "\n",
        "This means that given **f( 3 )** and **f( 3.0 )**, each will be handled as different calls with different results.\n",
        "\n",
        "Let's take the same function and try it out!"
      ]
    },
    {
      "cell_type": "code",
      "metadata": {
        "id": "LMeTMiluU4pu",
        "colab_type": "code",
        "outputId": "1e14ed81-61a9-464e-9eff-31a47a2b785c",
        "colab": {
          "base_uri": "https://localhost:8080/",
          "height": 51
        }
      },
      "source": [
        "from functools import lru_cache\n",
        "\n",
        "@lru_cache( maxsize = 32 )\n",
        "def fibonacci( n ):\n",
        "  if n == 0:\n",
        "    return 0\n",
        "  elif n == 1:\n",
        "    return 1\n",
        "  return fibonacci( n - 1 ) + fibonacci( n - 2 )\n",
        "\n",
        "\n",
        "#for this example we could just use %timeit to demonstrate runtime\n",
        "%timeit fibonacci( 100 )"
      ],
      "execution_count": 0,
      "outputs": [
        {
          "output_type": "stream",
          "text": [
            "The slowest run took 669.48 times longer than the fastest. This could mean that an intermediate result is being cached.\n",
            "1000000 loops, best of 3: 373 ns per loop\n"
          ],
          "name": "stdout"
        }
      ]
    },
    {
      "cell_type": "markdown",
      "metadata": {
        "id": "c04B-sMtV-20",
        "colab_type": "text"
      },
      "source": [
        "An even faster result! \n",
        "\n",
        "Caching is a great tool that can be used to optimize our code. \n",
        "\n",
        "We generally want to use this on expensive codes.\n",
        "\n",
        "for documentations:\n",
        "\n",
        "https://docs.python.org/3.4/library/functools.html"
      ]
    },
    {
      "cell_type": "markdown",
      "metadata": {
        "id": "istJb_Wddg-g",
        "colab_type": "text"
      },
      "source": [
        "#Numba\n",
        "\n",
        "Numba is a JIT ( Just In Time ) compiler for python.\n",
        "\n",
        "**A Just in Time implementation system initially translate programs to an intermediate language. Then, during execution, it compiles the intermediate language methods into machine code when they are called. The machine code version is kept for subsequent calls.**\n",
        "\n",
        "This is what the decorator looks like:\n",
        "\n",
        "@numba.**jit**( **signature = None,\n",
        "                        nopython = False,\n",
        "                        nogil = False,\n",
        "                        cache = False,\n",
        "                        forceobj = False,\n",
        "                        parallel = False,\n",
        "                        error_model = 'python',\n",
        "                        fastmath = False,\n",
        "                        locals = {}** )\n",
        "                        \n",
        "For **jit** tho we will only be looking at **signatures, nopython, cache, parallel.**\n",
        "\n",
        "There's no point in using **forceobj** since it just means we are forcing it into object mode ( which we don't want btw )\n",
        "\n",
        "**nogil** means we are taking off the global interpreter lock, that's a generally a bucket of worms we do not want to open.\n",
        "\n",
        "**error_model** controls the divide by zero behavior.\n",
        "\n",
        "**fast_math** allows the use of unsafe floating point transforms.\n",
        "\n"
      ]
    },
    {
      "cell_type": "code",
      "metadata": {
        "id": "m5BooGbrIOr7",
        "colab_type": "code",
        "outputId": "728f63b8-861c-473d-b979-dee7647e4299",
        "colab": {
          "base_uri": "https://localhost:8080/",
          "height": 69
        }
      },
      "source": [
        "!pip install numba\n",
        "from numba import jit, njit\n",
        "import math\n",
        "import numpy as np"
      ],
      "execution_count": 3,
      "outputs": [
        {
          "output_type": "stream",
          "text": [
            "Requirement already satisfied: numba in /usr/local/lib/python3.6/dist-packages (0.40.1)\n",
            "Requirement already satisfied: numpy in /usr/local/lib/python3.6/dist-packages (from numba) (1.16.4)\n",
            "Requirement already satisfied: llvmlite>=0.25.0dev0 in /usr/local/lib/python3.6/dist-packages (from numba) (0.29.0)\n"
          ],
          "name": "stdout"
        }
      ]
    },
    {
      "cell_type": "markdown",
      "metadata": {
        "id": "svRnCp4gO_7N",
        "colab_type": "text"
      },
      "source": [
        "We'll need to install numba in order to use it!\n",
        "\n",
        "Now for numba you'll see that there is both **@jit** and **@njit.**\n",
        "\n",
        "**@jit: nopython mode\n",
        "         / nobject mode**\n",
        "         \n",
        "**@njit: nopython mode**\n",
        "\n",
        "There is a slight difference between the two:\n",
        "\n",
        "**@njit is shortened form of: @jit( nopython = True )**\n",
        "\n",
        "This nopython mode locks the interpreter from ever trying to handle it as a python object.\n",
        "\n",
        "It means that if a code requires the interpreter to handle it as an python object ( object mode ) @njit will return an error, whereas, if you use just @jit the interpreter will use object mode as necessary. Something to keep in mind.\n",
        "\n",
        "For this example let's take a previous code we know has a lot of loops and see if there's an improvement."
      ]
    },
    {
      "cell_type": "code",
      "metadata": {
        "id": "mA4hq-YFPD0z",
        "colab_type": "code",
        "outputId": "85f58914-6738-4abb-a55c-a5f5d14ad781",
        "colab": {
          "base_uri": "https://localhost:8080/",
          "height": 52
        }
      },
      "source": [
        "from functools import wraps\n",
        "\n",
        "\n",
        "@njit\n",
        "def sieve_default( size ):\n",
        "  upper_limit = int( math.sqrt( size ) )\n",
        "  \n",
        "  #initializing an array of zeroes for both prime and non prime arrays\n",
        "  #numpy will give us the means to create an array of appropriate size\n",
        "  non_prime = np.zeros( ( size ) )\n",
        "  prime = np.zeros( ( size ) )\n",
        "  \n",
        "  tally = 0\n",
        "  \n",
        "  for m in range( 2, size ):\n",
        "    \n",
        "    '''\n",
        "    this will take the numbers to compare against non primes to\n",
        "    create a list of prime numbers\n",
        "    '''\n",
        "    \n",
        "    if( m != non_prime[ m ] ):\n",
        "      prime[ tally ] = m\n",
        "      #for demo purposes we'll comment out this print statement\n",
        "      #print( '{}' .format( int( prime[ tally ] ) ) )\n",
        "      tally += 1\n",
        "      i = 0\n",
        "    \n",
        "    #this while statement will fill up the non prime numbers\n",
        "    while( ( i * m ) < size ):\n",
        "      if( i * m != non_prime[ i * m ] ):\n",
        "        non_prime[ i * m ] = i * m\n",
        "      i += 1\n",
        "      \n",
        "#we'll comment out the output for the sake of the demo\n",
        "  \n",
        "%timeit sieve_default( 100 )"
      ],
      "execution_count": 8,
      "outputs": [
        {
          "output_type": "stream",
          "text": [
            "The slowest run took 118395.98 times longer than the fastest. This could mean that an intermediate result is being cached.\n",
            "1000000 loops, best of 3: 875 ns per loop\n"
          ],
          "name": "stdout"
        }
      ]
    },
    {
      "cell_type": "markdown",
      "metadata": {
        "id": "NjPx-OS74V-k",
        "colab_type": "text"
      },
      "source": [
        "#using signatures with @jit\n",
        "\n",
        "There's two types of compilations:\n",
        "\n",
        "**Lazy compilation:**\n",
        "\n",
        "This let's Numba decide how to optimize.\n",
        "\n",
        "**Eager compilation:**\n",
        "\n",
        "This tells Numba what data types to expect.\n",
        "\n",
        "\n",
        "Using signature is optional. \n",
        "\n",
        "However, it is a great way to maintain control over your function should the need arise.\n",
        "\n",
        "**For documentation:\n",
        "numba.pydata.org/numba-doc/0.17.0/user/jit.html**"
      ]
    },
    {
      "cell_type": "code",
      "metadata": {
        "id": "lLGun_J84smr",
        "colab_type": "code",
        "outputId": "fb9b09d9-f268-4702-b509-0418d318ad2d",
        "colab": {
          "base_uri": "https://localhost:8080/",
          "height": 51
        }
      },
      "source": [
        "#coding example here\n",
        "\n",
        "\n",
        "\n",
        "@jit( [ 'int32( int32, int32 )' ] )\n",
        "def simple_func( x, y ):\n",
        "  return x + y\n",
        "\n",
        "\"\"\"we could also use @njit( int32( int32, int32 ) ) or\n",
        "@jit( [ int32( int32, int32 ) ], nopython = True )\n",
        "\n",
        "the idea for this jit is that it will take the two parameters of int\n",
        "after the object is returned an int\n",
        "\n",
        "If we simply have: ( int32, int32 ) we would have eager compilation for the function.\n",
        "However, we are leaving it up to jit to infer the return type.\"\"\"\n",
        "\n",
        "%timeit simple_func( 3, 7 )\n",
        "\n",
        "#outputs 10"
      ],
      "execution_count": 0,
      "outputs": [
        {
          "output_type": "stream",
          "text": [
            "The slowest run took 12.88 times longer than the fastest. This could mean that an intermediate result is being cached.\n",
            "1000000 loops, best of 3: 490 ns per loop\n"
          ],
          "name": "stdout"
        }
      ]
    },
    {
      "cell_type": "markdown",
      "metadata": {
        "id": "Ovl3W5yDrPIe",
        "colab_type": "text"
      },
      "source": [
        "#Parallelization with Numba\n",
        "\n",
        "You can do parallel processing with Numba simply by doing this:\n",
        "\n",
        "**@njit( parallel = True )**\n",
        "\n",
        "We can also create diagnostics by calling:\n",
        "\n",
        "**parallel_diagnostics( level )**\n",
        "\n",
        "This diagnostic is a report on the optimizations being done during the parallelization process.\n",
        "\n",
        "\n",
        "**level** controls the verbosity of the diagnostic report. **1 being the least, whereas 4 being the most.**"
      ]
    },
    {
      "cell_type": "code",
      "metadata": {
        "id": "J7AZcLAJTRxX",
        "colab_type": "code",
        "outputId": "d02e62c0-d722-4477-d5fe-cd16ad4966d2",
        "colab": {
          "base_uri": "https://localhost:8080/",
          "height": 35
        }
      },
      "source": [
        "#coding example here\n",
        "\n",
        "@njit( parallel = True )\n",
        "def square_num( x ):\n",
        "  square_inc = 0\n",
        "  for i in range( x ):\n",
        "    square_inc = square_inc + i ** 2\n",
        "  \n",
        "  return square_inc\n",
        "    \n",
        "print( square_num( 100 ) )\n",
        "\n",
        "#going to generate a very verbose report\n",
        "#square_num( 10 ).parallel_diagnostics( level = 4 )"
      ],
      "execution_count": 4,
      "outputs": [
        {
          "output_type": "stream",
          "text": [
            "328350\n"
          ],
          "name": "stdout"
        }
      ]
    },
    {
      "cell_type": "markdown",
      "metadata": {
        "id": "P1qUKKBkrUIm",
        "colab_type": "text"
      },
      "source": [
        "#Caching with Numba\n",
        "\n",
        "You can do caching with Numba simply by doing this:\n",
        "\n",
        "@njit( cache = True )\n",
        "\n",
        "Details about the caching: //need details"
      ]
    },
    {
      "cell_type": "code",
      "metadata": {
        "id": "m3ORx_aZiMPg",
        "colab_type": "code",
        "outputId": "1b529957-c37f-4649-8fcf-d8a5bc09fa5d",
        "colab": {
          "base_uri": "https://localhost:8080/",
          "height": 87
        }
      },
      "source": [
        "#coding example here\n",
        "\n",
        "@jit( cache=True )\n",
        "def add( x, y ):\n",
        "  return x + y\n",
        "\n",
        "def add_without( x, y):\n",
        "  return x + y\n",
        "\n",
        "def fibonacci( n ):\n",
        "  if n == 0:\n",
        "    return 0\n",
        "  elif n == 1:\n",
        "    return 1\n",
        "  return fibonacci( n - 1 ) + fibonacci( n - 2 )\n",
        "\n",
        "\n",
        "#for this example we could just use %timeit to demonstrate runtime\n",
        "%timeit add( 10, 10 )\n",
        "%timeit add( 10, 10 )"
      ],
      "execution_count": 6,
      "outputs": [
        {
          "output_type": "stream",
          "text": [
            "The slowest run took 134705.16 times longer than the fastest. This could mean that an intermediate result is being cached.\n",
            "1000000 loops, best of 3: 256 ns per loop\n",
            "The slowest run took 10.82 times longer than the fastest. This could mean that an intermediate result is being cached.\n",
            "1000000 loops, best of 3: 261 ns per loop\n"
          ],
          "name": "stdout"
        }
      ]
    },
    {
      "cell_type": "markdown",
      "metadata": {
        "id": "XZyA8XfjZ0SS",
        "colab_type": "text"
      },
      "source": [
        "#using @cfunc with Numba\n",
        "\n",
        "@numba.**cfunc**( **signature, nopython = False, cache = False, locals = {}** )\n",
        "\n",
        "locals is a mapping of local variable names to Types and signatures.\n",
        "\n",
        "**note: c callbacks does not support object mode. This means we are running like it's @njit.**\n",
        "\n",
        "\n",
        "You can use numba to compile a function callable from c code.\n",
        "\n",
        "This will require you to use signatures.\n",
        "\n",
        "Signatures are data types that are specified for the decorator parameters.\n",
        "\n",
        "This example we will use cfunc and will use .ctypes to callback the object."
      ]
    },
    {
      "cell_type": "code",
      "metadata": {
        "id": "RvCUbk_ZiWd6",
        "colab_type": "code",
        "outputId": "037cd7e7-654a-4f56-fce3-711a964f4f77",
        "colab": {
          "base_uri": "https://localhost:8080/",
          "height": 68
        }
      },
      "source": [
        "from numba import cfunc\n",
        "#coding example here\n",
        "\n",
        "@cfunc( 'float64(float64, float64)' )\n",
        "def add( x, y ):\n",
        "  return x + y\n",
        "\n",
        "#we wrapped the add function using cfunc\n",
        "#and the outside will cast the type as float64 at the end\n",
        "\n",
        "#using ctypes to get callback from the function add.\n",
        "%timeit add.ctypes( 4.0, 5.0 )\n",
        "print( add.ctypes( 4.0, 5.0 ) )"
      ],
      "execution_count": 0,
      "outputs": [
        {
          "output_type": "stream",
          "text": [
            "The slowest run took 116.04 times longer than the fastest. This could mean that an intermediate result is being cached.\n",
            "1000000 loops, best of 3: 663 ns per loop\n",
            "9.0\n"
          ],
          "name": "stdout"
        }
      ]
    },
    {
      "cell_type": "markdown",
      "metadata": {
        "id": "YfzMSSmTbrWd",
        "colab_type": "text"
      },
      "source": [
        "#we could also use cfunc to deal with pointers and arrays\n",
        "\n"
      ]
    },
    {
      "cell_type": "code",
      "metadata": {
        "id": "SzyMGFXvb5ZR",
        "colab_type": "code",
        "outputId": "04101faf-aa19-491e-b817-9dca6ce5d5e9",
        "colab": {
          "base_uri": "https://localhost:8080/",
          "height": 415
        }
      },
      "source": [
        "#run this to make sure it works!\n",
        "from numba import cfunc\n",
        "\n",
        "\"\"\"PLEASE RUN THIS TO MAKE SURE THIS WILL RUN!\"\"\"\n",
        "from numba import types, carray\n",
        "\n",
        "c_sig = types.void( types.CPointer( types.double ),\n",
        "                    types.CPointer( types.double ),\n",
        "                    types.intc, types.intc )\n",
        "\n",
        "@cfunc( c_sig )\n",
        "def array_example( arr1, arr2, x, y ):\n",
        "  array1 = carray( arr1, ( x, y ) )\n",
        "  array2 = carray( arr2, ( x, y ) )\n",
        "  \n",
        "  for i in range( x ):\n",
        "    for j in range( y ):\n",
        "      array2[ i, j ] = 2 * array1[ i , j ]\n",
        "      \n",
        "arr1 = []\n",
        "arr2 = []\n",
        "%timeit array_example.ctypes( arr1, arr2, 10, 10 )"
      ],
      "execution_count": 9,
      "outputs": [
        {
          "output_type": "error",
          "ename": "ArgumentError",
          "evalue": "ignored",
          "traceback": [
            "\u001b[0;31m---------------------------------------------------------------------------\u001b[0m",
            "\u001b[0;31mArgumentError\u001b[0m                             Traceback (most recent call last)",
            "\u001b[0;32m<ipython-input-9-8f5cea754b05>\u001b[0m in \u001b[0;36m<module>\u001b[0;34m()\u001b[0m\n\u001b[1;32m     19\u001b[0m \u001b[0marr1\u001b[0m \u001b[0;34m=\u001b[0m \u001b[0;34m[\u001b[0m\u001b[0;34m]\u001b[0m\u001b[0;34m\u001b[0m\u001b[0;34m\u001b[0m\u001b[0m\n\u001b[1;32m     20\u001b[0m \u001b[0marr2\u001b[0m \u001b[0;34m=\u001b[0m \u001b[0;34m[\u001b[0m\u001b[0;34m]\u001b[0m\u001b[0;34m\u001b[0m\u001b[0;34m\u001b[0m\u001b[0m\n\u001b[0;32m---> 21\u001b[0;31m \u001b[0mget_ipython\u001b[0m\u001b[0;34m(\u001b[0m\u001b[0;34m)\u001b[0m\u001b[0;34m.\u001b[0m\u001b[0mmagic\u001b[0m\u001b[0;34m(\u001b[0m\u001b[0;34m'timeit array_example.ctypes( arr1, arr2, 10, 10 )'\u001b[0m\u001b[0;34m)\u001b[0m\u001b[0;34m\u001b[0m\u001b[0;34m\u001b[0m\u001b[0m\n\u001b[0m",
            "\u001b[0;32m/usr/local/lib/python3.6/dist-packages/IPython/core/interactiveshell.py\u001b[0m in \u001b[0;36mmagic\u001b[0;34m(self, arg_s)\u001b[0m\n\u001b[1;32m   2158\u001b[0m         \u001b[0mmagic_name\u001b[0m\u001b[0;34m,\u001b[0m \u001b[0m_\u001b[0m\u001b[0;34m,\u001b[0m \u001b[0mmagic_arg_s\u001b[0m \u001b[0;34m=\u001b[0m \u001b[0marg_s\u001b[0m\u001b[0;34m.\u001b[0m\u001b[0mpartition\u001b[0m\u001b[0;34m(\u001b[0m\u001b[0;34m' '\u001b[0m\u001b[0;34m)\u001b[0m\u001b[0;34m\u001b[0m\u001b[0;34m\u001b[0m\u001b[0m\n\u001b[1;32m   2159\u001b[0m         \u001b[0mmagic_name\u001b[0m \u001b[0;34m=\u001b[0m \u001b[0mmagic_name\u001b[0m\u001b[0;34m.\u001b[0m\u001b[0mlstrip\u001b[0m\u001b[0;34m(\u001b[0m\u001b[0mprefilter\u001b[0m\u001b[0;34m.\u001b[0m\u001b[0mESC_MAGIC\u001b[0m\u001b[0;34m)\u001b[0m\u001b[0;34m\u001b[0m\u001b[0;34m\u001b[0m\u001b[0m\n\u001b[0;32m-> 2160\u001b[0;31m         \u001b[0;32mreturn\u001b[0m \u001b[0mself\u001b[0m\u001b[0;34m.\u001b[0m\u001b[0mrun_line_magic\u001b[0m\u001b[0;34m(\u001b[0m\u001b[0mmagic_name\u001b[0m\u001b[0;34m,\u001b[0m \u001b[0mmagic_arg_s\u001b[0m\u001b[0;34m)\u001b[0m\u001b[0;34m\u001b[0m\u001b[0;34m\u001b[0m\u001b[0m\n\u001b[0m\u001b[1;32m   2161\u001b[0m \u001b[0;34m\u001b[0m\u001b[0m\n\u001b[1;32m   2162\u001b[0m     \u001b[0;31m#-------------------------------------------------------------------------\u001b[0m\u001b[0;34m\u001b[0m\u001b[0;34m\u001b[0m\u001b[0;34m\u001b[0m\u001b[0m\n",
            "\u001b[0;32m/usr/local/lib/python3.6/dist-packages/IPython/core/interactiveshell.py\u001b[0m in \u001b[0;36mrun_line_magic\u001b[0;34m(self, magic_name, line)\u001b[0m\n\u001b[1;32m   2079\u001b[0m                 \u001b[0mkwargs\u001b[0m\u001b[0;34m[\u001b[0m\u001b[0;34m'local_ns'\u001b[0m\u001b[0;34m]\u001b[0m \u001b[0;34m=\u001b[0m \u001b[0msys\u001b[0m\u001b[0;34m.\u001b[0m\u001b[0m_getframe\u001b[0m\u001b[0;34m(\u001b[0m\u001b[0mstack_depth\u001b[0m\u001b[0;34m)\u001b[0m\u001b[0;34m.\u001b[0m\u001b[0mf_locals\u001b[0m\u001b[0;34m\u001b[0m\u001b[0;34m\u001b[0m\u001b[0m\n\u001b[1;32m   2080\u001b[0m             \u001b[0;32mwith\u001b[0m \u001b[0mself\u001b[0m\u001b[0;34m.\u001b[0m\u001b[0mbuiltin_trap\u001b[0m\u001b[0;34m:\u001b[0m\u001b[0;34m\u001b[0m\u001b[0;34m\u001b[0m\u001b[0m\n\u001b[0;32m-> 2081\u001b[0;31m                 \u001b[0mresult\u001b[0m \u001b[0;34m=\u001b[0m \u001b[0mfn\u001b[0m\u001b[0;34m(\u001b[0m\u001b[0;34m*\u001b[0m\u001b[0margs\u001b[0m\u001b[0;34m,\u001b[0m\u001b[0;34m**\u001b[0m\u001b[0mkwargs\u001b[0m\u001b[0;34m)\u001b[0m\u001b[0;34m\u001b[0m\u001b[0;34m\u001b[0m\u001b[0m\n\u001b[0m\u001b[1;32m   2082\u001b[0m             \u001b[0;32mreturn\u001b[0m \u001b[0mresult\u001b[0m\u001b[0;34m\u001b[0m\u001b[0;34m\u001b[0m\u001b[0m\n\u001b[1;32m   2083\u001b[0m \u001b[0;34m\u001b[0m\u001b[0m\n",
            "\u001b[0;32m</usr/local/lib/python3.6/dist-packages/decorator.py:decorator-gen-59>\u001b[0m in \u001b[0;36mtimeit\u001b[0;34m(self, line, cell)\u001b[0m\n",
            "\u001b[0;32m/usr/local/lib/python3.6/dist-packages/IPython/core/magic.py\u001b[0m in \u001b[0;36m<lambda>\u001b[0;34m(f, *a, **k)\u001b[0m\n\u001b[1;32m    186\u001b[0m     \u001b[0;31m# but it's overkill for just that one bit of state.\u001b[0m\u001b[0;34m\u001b[0m\u001b[0;34m\u001b[0m\u001b[0;34m\u001b[0m\u001b[0m\n\u001b[1;32m    187\u001b[0m     \u001b[0;32mdef\u001b[0m \u001b[0mmagic_deco\u001b[0m\u001b[0;34m(\u001b[0m\u001b[0marg\u001b[0m\u001b[0;34m)\u001b[0m\u001b[0;34m:\u001b[0m\u001b[0;34m\u001b[0m\u001b[0;34m\u001b[0m\u001b[0m\n\u001b[0;32m--> 188\u001b[0;31m         \u001b[0mcall\u001b[0m \u001b[0;34m=\u001b[0m \u001b[0;32mlambda\u001b[0m \u001b[0mf\u001b[0m\u001b[0;34m,\u001b[0m \u001b[0;34m*\u001b[0m\u001b[0ma\u001b[0m\u001b[0;34m,\u001b[0m \u001b[0;34m**\u001b[0m\u001b[0mk\u001b[0m\u001b[0;34m:\u001b[0m \u001b[0mf\u001b[0m\u001b[0;34m(\u001b[0m\u001b[0;34m*\u001b[0m\u001b[0ma\u001b[0m\u001b[0;34m,\u001b[0m \u001b[0;34m**\u001b[0m\u001b[0mk\u001b[0m\u001b[0;34m)\u001b[0m\u001b[0;34m\u001b[0m\u001b[0;34m\u001b[0m\u001b[0m\n\u001b[0m\u001b[1;32m    189\u001b[0m \u001b[0;34m\u001b[0m\u001b[0m\n\u001b[1;32m    190\u001b[0m         \u001b[0;32mif\u001b[0m \u001b[0mcallable\u001b[0m\u001b[0;34m(\u001b[0m\u001b[0marg\u001b[0m\u001b[0;34m)\u001b[0m\u001b[0;34m:\u001b[0m\u001b[0;34m\u001b[0m\u001b[0;34m\u001b[0m\u001b[0m\n",
            "\u001b[0;32m/usr/local/lib/python3.6/dist-packages/IPython/core/magics/execution.py\u001b[0m in \u001b[0;36mtimeit\u001b[0;34m(self, line, cell)\u001b[0m\n\u001b[1;32m   1055\u001b[0m             \u001b[0mnumber\u001b[0m \u001b[0;34m=\u001b[0m \u001b[0;36m1\u001b[0m\u001b[0;34m\u001b[0m\u001b[0;34m\u001b[0m\u001b[0m\n\u001b[1;32m   1056\u001b[0m             \u001b[0;32mfor\u001b[0m \u001b[0m_\u001b[0m \u001b[0;32min\u001b[0m \u001b[0mrange\u001b[0m\u001b[0;34m(\u001b[0m\u001b[0;36m1\u001b[0m\u001b[0;34m,\u001b[0m \u001b[0;36m10\u001b[0m\u001b[0;34m)\u001b[0m\u001b[0;34m:\u001b[0m\u001b[0;34m\u001b[0m\u001b[0;34m\u001b[0m\u001b[0m\n\u001b[0;32m-> 1057\u001b[0;31m                 \u001b[0mtime_number\u001b[0m \u001b[0;34m=\u001b[0m \u001b[0mtimer\u001b[0m\u001b[0;34m.\u001b[0m\u001b[0mtimeit\u001b[0m\u001b[0;34m(\u001b[0m\u001b[0mnumber\u001b[0m\u001b[0;34m)\u001b[0m\u001b[0;34m\u001b[0m\u001b[0;34m\u001b[0m\u001b[0m\n\u001b[0m\u001b[1;32m   1058\u001b[0m                 \u001b[0mworst_tuning\u001b[0m \u001b[0;34m=\u001b[0m \u001b[0mmax\u001b[0m\u001b[0;34m(\u001b[0m\u001b[0mworst_tuning\u001b[0m\u001b[0;34m,\u001b[0m \u001b[0mtime_number\u001b[0m \u001b[0;34m/\u001b[0m \u001b[0mnumber\u001b[0m\u001b[0;34m)\u001b[0m\u001b[0;34m\u001b[0m\u001b[0;34m\u001b[0m\u001b[0m\n\u001b[1;32m   1059\u001b[0m                 \u001b[0;32mif\u001b[0m \u001b[0mtime_number\u001b[0m \u001b[0;34m>=\u001b[0m \u001b[0;36m0.2\u001b[0m\u001b[0;34m:\u001b[0m\u001b[0;34m\u001b[0m\u001b[0;34m\u001b[0m\u001b[0m\n",
            "\u001b[0;32m/usr/local/lib/python3.6/dist-packages/IPython/core/magics/execution.py\u001b[0m in \u001b[0;36mtimeit\u001b[0;34m(self, number)\u001b[0m\n\u001b[1;32m    137\u001b[0m         \u001b[0mgc\u001b[0m\u001b[0;34m.\u001b[0m\u001b[0mdisable\u001b[0m\u001b[0;34m(\u001b[0m\u001b[0;34m)\u001b[0m\u001b[0;34m\u001b[0m\u001b[0;34m\u001b[0m\u001b[0m\n\u001b[1;32m    138\u001b[0m         \u001b[0;32mtry\u001b[0m\u001b[0;34m:\u001b[0m\u001b[0;34m\u001b[0m\u001b[0;34m\u001b[0m\u001b[0m\n\u001b[0;32m--> 139\u001b[0;31m             \u001b[0mtiming\u001b[0m \u001b[0;34m=\u001b[0m \u001b[0mself\u001b[0m\u001b[0;34m.\u001b[0m\u001b[0minner\u001b[0m\u001b[0;34m(\u001b[0m\u001b[0mit\u001b[0m\u001b[0;34m,\u001b[0m \u001b[0mself\u001b[0m\u001b[0;34m.\u001b[0m\u001b[0mtimer\u001b[0m\u001b[0;34m)\u001b[0m\u001b[0;34m\u001b[0m\u001b[0;34m\u001b[0m\u001b[0m\n\u001b[0m\u001b[1;32m    140\u001b[0m         \u001b[0;32mfinally\u001b[0m\u001b[0;34m:\u001b[0m\u001b[0;34m\u001b[0m\u001b[0;34m\u001b[0m\u001b[0m\n\u001b[1;32m    141\u001b[0m             \u001b[0;32mif\u001b[0m \u001b[0mgcold\u001b[0m\u001b[0;34m:\u001b[0m\u001b[0;34m\u001b[0m\u001b[0;34m\u001b[0m\u001b[0m\n",
            "\u001b[0;32m<magic-timeit>\u001b[0m in \u001b[0;36minner\u001b[0;34m(_it, _timer)\u001b[0m\n",
            "\u001b[0;31mArgumentError\u001b[0m: argument 1: <class 'TypeError'>: expected LP_c_double instance instead of list"
          ]
        }
      ]
    },
    {
      "cell_type": "markdown",
      "metadata": {
        "id": "GNsKkNLgBWZe",
        "colab_type": "text"
      },
      "source": [
        "#using @vectorize() with numba\n",
        "\n",
        "With numba we could use vectorize function to speed up the calculation for arrays.\n",
        "\n",
        "**@numba.vectorize( *, signatures=[], identity=None, nopython=True, target='cpu', forceobj=False, cache=False, locals={} )**\n",
        "\n",
        "In regards to signatures, they must be orderd from more specific to least specific. This is important to work with numpy's type-based dispatching.\n",
        "\n",
        "**targets: 'cpu', 'parallel', 'cuda' are available.**\n",
        "\n",
        "**note: signatures are required if target='parallel'.**\n",
        "\n",
        "For documentation: https://numba.pydata.org/numba-doc/latest/reference/jit-compilation.html\n",
        "( **this will apply to both vectorize and guvectorize** )"
      ]
    },
    {
      "cell_type": "code",
      "metadata": {
        "id": "Zy1vD9I2BgRF",
        "colab_type": "code",
        "outputId": "bf5f9a2d-a2e9-4ac3-f571-7aff75720ae9",
        "colab": {
          "base_uri": "https://localhost:8080/",
          "height": 130
        }
      },
      "source": [
        "#\n",
        "from numba import vectorize\n",
        "\n",
        "\"\"\"few types of examples with vectorize signatures here\n",
        "   this call is wrong since it will run with the float64 version, leading to inefficient execution.\"\"\"\n",
        "\n",
        "@vectorize( [ 'float64( float64 )\", \"float32( float32 )' ] )\n",
        "\n",
        "\n",
        "\"\"\"this is correct way to call the vectorize signatures.\"\"\"\n",
        "\n",
        "@vectorize( [ 'float32( float32 )\", \"float64( float64 )' ] )\n",
        "\n",
        "\"\"\"we can include target to change the type of operations\n",
        "   with three flavors to choose from: 'cpu', 'parallel', 'cuda'\n",
        "\"\"\"\n",
        "\n",
        "@vectorize( [ 'float32( float32 )\", \"float64( float64 )' ], target='parallel' )"
      ],
      "execution_count": 0,
      "outputs": [
        {
          "output_type": "error",
          "ename": "SyntaxError",
          "evalue": "ignored",
          "traceback": [
            "\u001b[0;36m  File \u001b[0;32m\"<ipython-input-13-0274308fb624>\"\u001b[0;36m, line \u001b[0;32m9\u001b[0m\n\u001b[0;31m    \"\"\"this is correct way to call the vectorize signatures.\"\"\"\u001b[0m\n\u001b[0m                                                              ^\u001b[0m\n\u001b[0;31mSyntaxError\u001b[0m\u001b[0;31m:\u001b[0m invalid syntax\n"
          ]
        }
      ]
    },
    {
      "cell_type": "markdown",
      "metadata": {
        "id": "cY9k-cPFuc4U",
        "colab_type": "text"
      },
      "source": [
        "#using @guvectorize() with numba\n",
        "\n",
        "**@guvectorize()** is a generalized version of numba.vectorize().\n",
        "\n",
        "vectorize can handle scalar operands and return a scalar value. **@guvectorize() is designed to take in arguments of various dimensions!**\n",
        "\n",
        "\n",
        "**@numba.guvectorize( signatures, layout, *, nopython=True, target='cpu', forceobj=False, cache=False, locals={} )\n",
        "\n",
        "For **target**: **'cpu'** or **'parallel'** supports the use of **cache**."
      ]
    },
    {
      "cell_type": "code",
      "metadata": {
        "id": "C9rbrBYuu431",
        "colab_type": "code",
        "outputId": "19832506-da24-461d-eb79-0a8e66669199",
        "colab": {
          "base_uri": "https://localhost:8080/",
          "height": 351
        }
      },
      "source": [
        "#coding example here\n",
        "import numpy as np\n",
        "from numba import guvectorize\n",
        "\n",
        "\"\"\"This is a simple example of multi-array matrices operation using guvectorize.\n",
        "\n",
        "   The last bit specifies the symbolic form, the dimensionality and size relationships of the argument types and return types.\n",
        "   \n",
        "   notice how we have \"( m, n ), ( m, p )->( n, p )\" this allows us to make the multi array operations necessary.\n",
        "   Whereas, if we have ( n ), ()->( n ) this means we are asking for a scalar operation [ () implying scalar ]\n",
        "\"\"\"\n",
        "\n",
        "@guvectorize( [ 'void( float64[:,:], float64[:,:], float64[:,:])' ], '( m, n ), ( n, p )->( m, p )' )\n",
        "def func( a, b, result):\n",
        "  result = a * b\n",
        "  return result\n",
        "\n",
        "\n",
        "array1 = np.ones( 10, 10 )\n",
        "array2 = np.ones( 10, 10 )\n",
        "\n",
        "#this will output the results from the operation though it might be a case of 1's\n",
        "print( func( a, b, result) )"
      ],
      "execution_count": 0,
      "outputs": [
        {
          "output_type": "error",
          "ename": "TypeError",
          "evalue": "ignored",
          "traceback": [
            "\u001b[0;31m---------------------------------------------------------------------------\u001b[0m",
            "\u001b[0;31mTypeError\u001b[0m                                 Traceback (most recent call last)",
            "\u001b[0;32m<ipython-input-17-615c4ce335a9>\u001b[0m in \u001b[0;36m<module>\u001b[0;34m()\u001b[0m\n\u001b[1;32m     16\u001b[0m \u001b[0;34m\u001b[0m\u001b[0m\n\u001b[1;32m     17\u001b[0m \u001b[0;34m\u001b[0m\u001b[0m\n\u001b[0;32m---> 18\u001b[0;31m \u001b[0marray1\u001b[0m \u001b[0;34m=\u001b[0m \u001b[0mnp\u001b[0m\u001b[0;34m.\u001b[0m\u001b[0mones\u001b[0m\u001b[0;34m(\u001b[0m \u001b[0;36m10\u001b[0m\u001b[0;34m,\u001b[0m \u001b[0;36m10\u001b[0m \u001b[0;34m)\u001b[0m\u001b[0;34m\u001b[0m\u001b[0;34m\u001b[0m\u001b[0m\n\u001b[0m\u001b[1;32m     19\u001b[0m \u001b[0marray2\u001b[0m \u001b[0;34m=\u001b[0m \u001b[0mnp\u001b[0m\u001b[0;34m.\u001b[0m\u001b[0mones\u001b[0m\u001b[0;34m(\u001b[0m \u001b[0;36m10\u001b[0m\u001b[0;34m,\u001b[0m \u001b[0;36m10\u001b[0m \u001b[0;34m)\u001b[0m\u001b[0;34m\u001b[0m\u001b[0;34m\u001b[0m\u001b[0m\n\u001b[1;32m     20\u001b[0m \u001b[0;34m\u001b[0m\u001b[0m\n",
            "\u001b[0;32m/usr/local/lib/python3.6/dist-packages/numpy/core/numeric.py\u001b[0m in \u001b[0;36mones\u001b[0;34m(shape, dtype, order)\u001b[0m\n\u001b[1;32m    221\u001b[0m \u001b[0;34m\u001b[0m\u001b[0m\n\u001b[1;32m    222\u001b[0m     \"\"\"\n\u001b[0;32m--> 223\u001b[0;31m     \u001b[0ma\u001b[0m \u001b[0;34m=\u001b[0m \u001b[0mempty\u001b[0m\u001b[0;34m(\u001b[0m\u001b[0mshape\u001b[0m\u001b[0;34m,\u001b[0m \u001b[0mdtype\u001b[0m\u001b[0;34m,\u001b[0m \u001b[0morder\u001b[0m\u001b[0;34m)\u001b[0m\u001b[0;34m\u001b[0m\u001b[0;34m\u001b[0m\u001b[0m\n\u001b[0m\u001b[1;32m    224\u001b[0m     \u001b[0mmultiarray\u001b[0m\u001b[0;34m.\u001b[0m\u001b[0mcopyto\u001b[0m\u001b[0;34m(\u001b[0m\u001b[0ma\u001b[0m\u001b[0;34m,\u001b[0m \u001b[0;36m1\u001b[0m\u001b[0;34m,\u001b[0m \u001b[0mcasting\u001b[0m\u001b[0;34m=\u001b[0m\u001b[0;34m'unsafe'\u001b[0m\u001b[0;34m)\u001b[0m\u001b[0;34m\u001b[0m\u001b[0;34m\u001b[0m\u001b[0m\n\u001b[1;32m    225\u001b[0m     \u001b[0;32mreturn\u001b[0m \u001b[0ma\u001b[0m\u001b[0;34m\u001b[0m\u001b[0;34m\u001b[0m\u001b[0m\n",
            "\u001b[0;31mTypeError\u001b[0m: data type not understood"
          ]
        }
      ]
    },
    {
      "cell_type": "markdown",
      "metadata": {
        "id": "szc2s_dWboEU",
        "colab_type": "text"
      },
      "source": [
        "#Conclusion\n",
        "\n",
        "There are many ways to optimize code. Here are the general guidelines for optimization:\n",
        "\n",
        "\n",
        "*   Only optimize when there is a proven speed bottleneck.\n",
        "\n",
        "*   Keep things small because Python is expensive when it comes to bytecode instructions and variable look-up.\n",
        "\n",
        "*   Use natural or built in functions of python. For example a loop in map is faster than explicit loop, like say a for-loop. **Only use map(), filter(), or reduce() to replace an explicit for-loop**\n",
        "\n",
        "*   In-lining inner loops can save a lot of time.\n",
        "\n",
        "*   Local variables are faster than globals.\n",
        "\n",
        "*   **Always collect data** remember we have tools like timing functions, cProfiler, and Line Profiler that can check our code and identify bottle necks.\n",
        "\n",
        "\n",
        "\n",
        "\n",
        "\n"
      ]
    }
  ]
}