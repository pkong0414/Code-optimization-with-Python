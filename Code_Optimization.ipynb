{
  "nbformat": 4,
  "nbformat_minor": 0,
  "metadata": {
    "colab": {
      "name": "Code_Optimization.ipynb",
      "version": "0.3.2",
      "provenance": [],
      "collapsed_sections": [],
      "include_colab_link": true
    },
    "kernelspec": {
      "name": "python3",
      "display_name": "Python 3"
    }
  },
  "cells": [
    {
      "cell_type": "markdown",
      "metadata": {
        "id": "view-in-github",
        "colab_type": "text"
      },
      "source": [
        "<a href=\"https://colab.research.google.com/github/pkong0414/Code-optimization-with-Python/blob/master/Code_Optimization.ipynb\" target=\"_parent\"><img src=\"https://colab.research.google.com/assets/colab-badge.svg\" alt=\"Open In Colab\"/></a>"
      ]
    },
    {
      "cell_type": "code",
      "metadata": {
        "id": "N1hAfxm3W_K1",
        "colab_type": "code",
        "colab": {}
      },
      "source": [
        "import random , os\n",
        "import multiprocessing as mp\n",
        "from queue import Empty\n",
        "import math\n",
        "import time"
      ],
      "execution_count": 0,
      "outputs": []
    },
    {
      "cell_type": "markdown",
      "metadata": {
        "id": "OoIWrFsFZNWk",
        "colab_type": "text"
      },
      "source": [
        "I took the speeding up python notebook: Speeding up Python and expanded it further.\n",
        "\n",
        "Here is the link to the original notebook:\n",
        "( https://colab.research.google.com/drive/1nMDtWcVZCT9q1VWen5rXL8ZHVlxn2KnL )\n",
        "\n",
        "-Patrick Kong\n",
        "\n"
      ]
    },
    {
      "cell_type": "markdown",
      "metadata": {
        "id": "VZ6SAE46grx5",
        "colab_type": "text"
      },
      "source": [
        "#This is the presentation for code optimization for python. We will explore the tools we need in order to achieve this."
      ]
    },
    {
      "cell_type": "markdown",
      "metadata": {
        "id": "1TYJ4-PEgf35",
        "colab_type": "text"
      },
      "source": [
        "#Code timing"
      ]
    },
    {
      "cell_type": "markdown",
      "metadata": {
        "id": "68jbc-KqgwC_",
        "colab_type": "text"
      },
      "source": [
        "Noticing the run time on a code is a good start towards optimizing a code since\n",
        "we can see how fast it will run.\n",
        "\n",
        "So we'll be looking at these commands:\n",
        "\n",
        "%time :  times the execution time of a single statement.\n",
        "\n",
        "%timeit :times the loops of a single statement for more accuracy. \n",
        "\n"
      ]
    },
    {
      "cell_type": "code",
      "metadata": {
        "id": "Izb112AUiCp0",
        "colab_type": "code",
        "outputId": "f4333bb8-24d2-4b71-a0a7-7e03421f577e",
        "colab": {
          "base_uri": "https://localhost:8080/",
          "height": 52
        }
      },
      "source": [
        "#for this example we'll use a simple function to demonstrate the %time command\n",
        "\n",
        "%time sigma = sum( range( 100 ) )"
      ],
      "execution_count": 0,
      "outputs": [
        {
          "output_type": "stream",
          "text": [
            "CPU times: user 8 µs, sys: 1 µs, total: 9 µs\n",
            "Wall time: 13.1 µs\n"
          ],
          "name": "stdout"
        }
      ]
    },
    {
      "cell_type": "markdown",
      "metadata": {
        "id": "vulFTjYMi6jC",
        "colab_type": "text"
      },
      "source": [
        "**user time** refers to the time spent inside the user code.\n",
        "\n",
        "**sys time** refers to the time spent in the kernel.\n",
        "\n",
        "**Wall time** refers to the whole program execution timing. This means the program time plus any other miscellaneous things like function waiting on its turn to execute. \n",
        "\n",
        "**It is best to look at total time since that represents the execution time**\n",
        "\n",
        "For a simple statement we can use %time like this. If we need to use it over a loop iterations\n",
        "we will need to change the way it will be called.\n",
        "\n",
        "If we use %%time, this will wrap around the everything. "
      ]
    },
    {
      "cell_type": "code",
      "metadata": {
        "id": "ebGhKM_3jGwj",
        "colab_type": "code",
        "outputId": "b00cf9cc-991a-488e-ea66-cb8ecb4256d8",
        "colab": {
          "base_uri": "https://localhost:8080/",
          "height": 51
        }
      },
      "source": [
        "#let's try doing a looped statement of the same thing\n",
        "\n",
        "%%time\n",
        "def sigma_func():\n",
        "  sigma = 0\n",
        "  for i in range( 100 ):\n",
        "    sigma += i\n",
        "\n",
        "def sigma_func2():\n",
        "  sigma2 = 0\n",
        "  for i in range( 100 ):\n",
        "    sigma2 += i\n",
        "    \n",
        "\n",
        "sigma_func()\n",
        "sigma_func2()"
      ],
      "execution_count": 4,
      "outputs": [
        {
          "output_type": "stream",
          "text": [
            "CPU times: user 18 µs, sys: 4 µs, total: 22 µs\n",
            "Wall time: 25 µs\n"
          ],
          "name": "stdout"
        }
      ]
    },
    {
      "cell_type": "markdown",
      "metadata": {
        "id": "E0F1wjlQjsyT",
        "colab_type": "text"
      },
      "source": [
        "Next we'll be using the %timeit function. We could also use the same functions to demonstrate\n",
        "the difference between the two commands."
      ]
    },
    {
      "cell_type": "code",
      "metadata": {
        "id": "oJgA6zD3kD2E",
        "colab_type": "code",
        "outputId": "35b365f8-cb25-44cd-8aa2-81b1320d9d45",
        "colab": {
          "base_uri": "https://localhost:8080/",
          "height": 35
        }
      },
      "source": [
        "%timeit sigma = sum( range( 100 ) )"
      ],
      "execution_count": 0,
      "outputs": [
        {
          "output_type": "stream",
          "text": [
            "1000000 loops, best of 3: 1.3 µs per loop\n"
          ],
          "name": "stdout"
        }
      ]
    },
    {
      "cell_type": "markdown",
      "metadata": {
        "id": "PqPpVC9akPTf",
        "colab_type": "text"
      },
      "source": [
        "So %timeit tests the statement by running through loops and gives us the best of 3 timings for the loops"
      ]
    },
    {
      "cell_type": "code",
      "metadata": {
        "id": "8jxuj8oGkqEq",
        "colab_type": "code",
        "outputId": "4fdd5a6e-e0ad-43fa-8997-4dbdb644fab8",
        "colab": {
          "base_uri": "https://localhost:8080/",
          "height": 35
        }
      },
      "source": [
        "%%timeit\n",
        "\n",
        "sigma = 0\n",
        "for i in range( 100 ):\n",
        "  sigma += i\n"
      ],
      "execution_count": 0,
      "outputs": [
        {
          "output_type": "stream",
          "text": [
            "100000 loops, best of 3: 7.4 µs per loop\n"
          ],
          "name": "stdout"
        }
      ]
    },
    {
      "cell_type": "markdown",
      "metadata": {
        "id": "JjJ1RKZ9nbIv",
        "colab_type": "text"
      },
      "source": [
        "Notice how %timeit lowered the number of loops. \n",
        "\n",
        "For slower codes, %timeit will lower the number of\n",
        "loops it will test."
      ]
    },
    {
      "cell_type": "markdown",
      "metadata": {
        "id": "tFOXvJLvmWt9",
        "colab_type": "text"
      },
      "source": [
        "#Decorators\n",
        "\n",
        "Before we start diving into this. Let's start talking about decorators.\n",
        "\n",
        "Decorators are functions that takes in another function and extends the behavior of the function.\n",
        "\n",
        "This is great for programming even if you aren't using it for optimizations.\n",
        "\n",
        "Here, we will look at a simple function:"
      ]
    },
    {
      "cell_type": "code",
      "metadata": {
        "id": "eksrVYfLuGCr",
        "colab_type": "code",
        "outputId": "36d48604-348f-4594-d792-c4434289d518",
        "colab": {
          "base_uri": "https://localhost:8080/",
          "height": 225
        }
      },
      "source": [
        "#coding example\n",
        "\n",
        "def decoratorExample( func ):\n",
        "  def wrapperFunc():\n",
        "    print( \"this is before the function in the wrapper goes off.\" )\n",
        "    func()\n",
        "    print( \"the function in the wrapper has activated.\" )\n",
        "    \n",
        "  return wrapperFunc\n",
        "  \n",
        "def beep():\n",
        "  for x in range( 10 ):\n",
        "    print( x )\n",
        "    \n",
        "#two ways to call on a decorator\n",
        "\n",
        "#first way:\n",
        "beep = decoratorExample( beep )\n",
        "beep()\n"
      ],
      "execution_count": 0,
      "outputs": [
        {
          "output_type": "stream",
          "text": [
            "this is before the function in the wrapper goes off.\n",
            "0\n",
            "1\n",
            "2\n",
            "3\n",
            "4\n",
            "5\n",
            "6\n",
            "7\n",
            "8\n",
            "9\n",
            "the function in the wrapper has activated.\n"
          ],
          "name": "stdout"
        }
      ]
    },
    {
      "cell_type": "code",
      "metadata": {
        "id": "ItUu5fxUV_h-",
        "colab_type": "code",
        "outputId": "e952850e-b709-4615-d5dd-c28339179775",
        "colab": {
          "base_uri": "https://localhost:8080/",
          "height": 225
        }
      },
      "source": [
        "#coding example\n",
        "\n",
        "def decoratorFunc( func ):\n",
        "  def wrapperFunc( *args, **kwargs ):\n",
        "    print( \"this is before the function in the wrapper goes off.\" )\n",
        "    func( )\n",
        "    print( \"the function in the wrapper has activated.\" )\n",
        "    \n",
        "  return wrapperFunc\n",
        "\n",
        "#second way is to use syntactic sugar:\n",
        "\n",
        "@decoratorExample\n",
        "def beep():\n",
        "  for x in range( 10 ):\n",
        "    print( x )\n",
        "    \n",
        "#doing it this way allows us to just call the function itself\n",
        "\n",
        "beep()"
      ],
      "execution_count": 0,
      "outputs": [
        {
          "output_type": "stream",
          "text": [
            "this is before the function in the wrapper goes off.\n",
            "0\n",
            "1\n",
            "2\n",
            "3\n",
            "4\n",
            "5\n",
            "6\n",
            "7\n",
            "8\n",
            "9\n",
            "the function in the wrapper has activated.\n"
          ],
          "name": "stdout"
        }
      ]
    },
    {
      "cell_type": "markdown",
      "metadata": {
        "id": "HOo8V1vjYs-U",
        "colab_type": "text"
      },
      "source": [
        "#We could also use decorator to make a register or plugins for functions.\n",
        "\n"
      ]
    },
    {
      "cell_type": "code",
      "metadata": {
        "id": "a1_tt-PnfHe8",
        "colab_type": "code",
        "colab": {
          "base_uri": "https://localhost:8080/",
          "height": 1000
        },
        "outputId": "040bb466-b517-482d-bc92-bfb5bf5f5b58"
      },
      "source": [
        "import random\n",
        "\n",
        "#global dictionary for registers\n",
        "PLUGINS = dict()\n",
        "\n",
        "def register_func( func ):\n",
        "  #Register a function as a plug-in\n",
        "  #this will create a PLUGINS dictionary of: { function's name:function }\n",
        "  PLUGINS[ func.__name__ ] = func\n",
        "  \n",
        "@register_func\n",
        "def hello_func( name ):\n",
        "  return f\"Hi { name }!\"\n",
        "\n",
        "@register_func\n",
        "def second_function( name ):\n",
        "  return f\"this is the second function. { name }\"\n",
        "\n",
        "def random_result( name ):\n",
        "  result, result_function = random.choice( list( PLUGINS.items() ) )\n",
        "  print( f\"Using {result!r}\" )\n",
        "  return result_function( name )\n",
        "\n",
        "#if we use PLUGINS we get a list of registered functions\n",
        "\n",
        "print( random_result( 'Patrick' ) )\n",
        "\n",
        "print( \"printing plugins:\")\n",
        "PLUGINS\n",
        "\n",
        "\n",
        "#if we use globals() we will see all the global variables involved in the current scope\n",
        "\n",
        "print( 'printing globals:')\n",
        "globals()"
      ],
      "execution_count": 9,
      "outputs": [
        {
          "output_type": "stream",
          "text": [
            "Using 'hello_func'\n",
            "Hi Patrick!\n",
            "printing plugins:\n",
            "printing globals:\n"
          ],
          "name": "stdout"
        },
        {
          "output_type": "execute_result",
          "data": {
            "text/plain": [
              "{'In': ['',\n",
              "  \"\\nget_ipython().run_cell_magic('time', '', 'def sigma_func():\\\\n  sigma = 0\\\\n  for i in range( 100 ):\\\\n    sigma += i\\\\n\\\\nsigma_func()')\",\n",
              "  \"\\nget_ipython().run_cell_magic('time', '', 'def sigma_func():\\\\n  sigma = 0\\\\n  for i in range( 100 ):\\\\n    sigma += i\\\\n\\\\ndef sigma_func2():\\\\n  sigma2 = 0\\\\n  for i in range( 100 ):\\\\n    sigma2 += i\\\\nsigma_func()')\",\n",
              "  \"\\nget_ipython().run_cell_magic('time', '', 'def sigma_func():\\\\n  sigma = 0\\\\n  for i in range( 100 ):\\\\n    sigma += i\\\\n\\\\n%%time\\\\ndef sigma_func2():\\\\n  sigma2 = 0\\\\n  for i in range( 100 ):\\\\n    sigma2 += i\\\\n    \\\\n\\\\nsigma_func()')\",\n",
              "  \"\\nget_ipython().run_cell_magic('time', '', 'def sigma_func():\\\\n  sigma = 0\\\\n  for i in range( 100 ):\\\\n    sigma += i\\\\n\\\\ndef sigma_func2():\\\\n  sigma2 = 0\\\\n  for i in range( 100 ):\\\\n    sigma2 += i\\\\n    \\\\n\\\\nsigma_func()\\\\nsigma_func2()')\",\n",
              "  'import random\\n\\n#global dictionary for registers\\nPLUGINS = dict()\\n\\ndef registerFunc( func ):\\n  #Register a function as a plug-in\\n  PLUGINS[ func.__name__ ] = func\\n  \\n@register\\ndef hello_func( name ):\\n  return f\"Hi { name }!\"\\n\\n@register\\ndef second_function( name ):\\n  return f\"this is the second function. { name }\"\\n\\ndef random_result( name ):\\n  result, result_function = random.choice( list( PLUGINS.items() ) )\\n  print( f\"Using {result!r}\" )\\n  return result_function( name )\\n\\n#if we use PLUGINS we get a list of registered functions\\n\\nPLUGINS\\n\\nrandom_result( Patrick )\\n\\n#if we use globals() we will see all the global variables involved in the current scope\\nglobals()',\n",
              "  'import random\\n\\n#global dictionary for registers\\nPLUGINS = dict()\\n\\ndef register_func( func ):\\n  #Register a function as a plug-in\\n  PLUGINS[ func.__name__ ] = func\\n  \\n@register_Func\\ndef hello_func( name ):\\n  return f\"Hi { name }!\"\\n\\n@register_func\\ndef second_function( name ):\\n  return f\"this is the second function. { name }\"\\n\\ndef random_result( name ):\\n  result, result_function = random.choice( list( PLUGINS.items() ) )\\n  print( f\"Using {result!r}\" )\\n  return result_function( name )\\n\\n#if we use PLUGINS we get a list of registered functions\\n\\nPLUGINS\\n\\nrandom_result( Patrick )\\n\\n#if we use globals() we will see all the global variables involved in the current scope\\nglobals()',\n",
              "  'import random\\n\\n#global dictionary for registers\\nPLUGINS = dict()\\n\\ndef register_func( func ):\\n  #Register a function as a plug-in\\n  PLUGINS[ func.__name__ ] = func\\n  \\n@register_func\\ndef hello_func( name ):\\n  return f\"Hi { name }!\"\\n\\n@register_func\\ndef second_function( name ):\\n  return f\"this is the second function. { name }\"\\n\\ndef random_result( name ):\\n  result, result_function = random.choice( list( PLUGINS.items() ) )\\n  print( f\"Using {result!r}\" )\\n  return result_function( name )\\n\\n#if we use PLUGINS we get a list of registered functions\\n\\nPLUGINS\\n\\nrandom_result( Patrick )\\n\\n#if we use globals() we will see all the global variables involved in the current scope\\nglobals()',\n",
              "  'import random\\n\\n#global dictionary for registers\\nPLUGINS = dict()\\n\\ndef register_func( func ):\\n  #Register a function as a plug-in\\n  PLUGINS[ func.__name__ ] = func\\n  \\n@register_func\\ndef hello_func( name ):\\n  return f\"Hi { name }!\"\\n\\n@register_func\\ndef second_function( name ):\\n  return f\"this is the second function. { name }\"\\n\\ndef random_result( name ):\\n  result, result_function = random.choice( list( PLUGINS.items() ) )\\n  print( f\"Using {result!r}\" )\\n  return result_function( name )\\n\\n#if we use PLUGINS we get a list of registered functions\\n\\nPLUGINS\\n\\nrandom_result( \\'Patrick\\' )\\n\\n#if we use globals() we will see all the global variables involved in the current scope\\nglobals()',\n",
              "  'import random\\n\\n#global dictionary for registers\\nPLUGINS = dict()\\n\\ndef register_func( func ):\\n  #Register a function as a plug-in\\n  PLUGINS[ func.__name__ ] = func\\n  \\n@register_func\\ndef hello_func( name ):\\n  return f\"Hi { name }!\"\\n\\n@register_func\\ndef second_function( name ):\\n  return f\"this is the second function. { name }\"\\n\\ndef random_result( name ):\\n  result, result_function = random.choice( list( PLUGINS.items() ) )\\n  print( f\"Using {result!r}\" )\\n  return result_function( name )\\n\\n#if we use PLUGINS we get a list of registered functions\\n\\nprint( random_result( \\'Patrick\\' ) )\\n\\nprint( \"printing plugins:\")\\nPLUGINS\\n\\n\\n#if we use globals() we will see all the global variables involved in the current scope\\n\\nprint( \\'printing globals:\\')\\nglobals()'],\n",
              " 'Out': {8: {...}},\n",
              " 'PLUGINS': {'hello_func': <function __main__.hello_func>,\n",
              "  'second_function': <function __main__.second_function>},\n",
              " '_': {...},\n",
              " '_8': {...},\n",
              " '__': '',\n",
              " '___': '',\n",
              " '__builtin__': <module 'builtins' (built-in)>,\n",
              " '__builtins__': <module 'builtins' (built-in)>,\n",
              " '__doc__': 'Automatically created module for IPython interactive environment',\n",
              " '__loader__': None,\n",
              " '__name__': '__main__',\n",
              " '__package__': None,\n",
              " '__spec__': None,\n",
              " '_dh': ['/content'],\n",
              " '_i': 'import random\\n\\n#global dictionary for registers\\nPLUGINS = dict()\\n\\ndef register_func( func ):\\n  #Register a function as a plug-in\\n  PLUGINS[ func.__name__ ] = func\\n  \\n@register_func\\ndef hello_func( name ):\\n  return f\"Hi { name }!\"\\n\\n@register_func\\ndef second_function( name ):\\n  return f\"this is the second function. { name }\"\\n\\ndef random_result( name ):\\n  result, result_function = random.choice( list( PLUGINS.items() ) )\\n  print( f\"Using {result!r}\" )\\n  return result_function( name )\\n\\n#if we use PLUGINS we get a list of registered functions\\n\\nPLUGINS\\n\\nrandom_result( \\'Patrick\\' )\\n\\n#if we use globals() we will see all the global variables involved in the current scope\\nglobals()',\n",
              " '_i1': '\\n%%time\\ndef sigma_func():\\n  sigma = 0\\n  for i in range( 100 ):\\n    sigma += i\\n\\nsigma_func()',\n",
              " '_i2': '\\n%%time\\ndef sigma_func():\\n  sigma = 0\\n  for i in range( 100 ):\\n    sigma += i\\n\\ndef sigma_func2():\\n  sigma2 = 0\\n  for i in range( 100 ):\\n    sigma2 += i\\nsigma_func()',\n",
              " '_i3': '\\n%%time\\ndef sigma_func():\\n  sigma = 0\\n  for i in range( 100 ):\\n    sigma += i\\n\\n%%time\\ndef sigma_func2():\\n  sigma2 = 0\\n  for i in range( 100 ):\\n    sigma2 += i\\n    \\n\\nsigma_func()',\n",
              " '_i4': '\\n%%time\\ndef sigma_func():\\n  sigma = 0\\n  for i in range( 100 ):\\n    sigma += i\\n\\ndef sigma_func2():\\n  sigma2 = 0\\n  for i in range( 100 ):\\n    sigma2 += i\\n    \\n\\nsigma_func()\\nsigma_func2()',\n",
              " '_i5': 'import random\\n\\n#global dictionary for registers\\nPLUGINS = dict()\\n\\ndef registerFunc( func ):\\n  #Register a function as a plug-in\\n  PLUGINS[ func.__name__ ] = func\\n  \\n@register\\ndef hello_func( name ):\\n  return f\"Hi { name }!\"\\n\\n@register\\ndef second_function( name ):\\n  return f\"this is the second function. { name }\"\\n\\ndef random_result( name ):\\n  result, result_function = random.choice( list( PLUGINS.items() ) )\\n  print( f\"Using {result!r}\" )\\n  return result_function( name )\\n\\n#if we use PLUGINS we get a list of registered functions\\n\\nPLUGINS\\n\\nrandom_result( Patrick )\\n\\n#if we use globals() we will see all the global variables involved in the current scope\\nglobals()',\n",
              " '_i6': 'import random\\n\\n#global dictionary for registers\\nPLUGINS = dict()\\n\\ndef register_func( func ):\\n  #Register a function as a plug-in\\n  PLUGINS[ func.__name__ ] = func\\n  \\n@register_Func\\ndef hello_func( name ):\\n  return f\"Hi { name }!\"\\n\\n@register_func\\ndef second_function( name ):\\n  return f\"this is the second function. { name }\"\\n\\ndef random_result( name ):\\n  result, result_function = random.choice( list( PLUGINS.items() ) )\\n  print( f\"Using {result!r}\" )\\n  return result_function( name )\\n\\n#if we use PLUGINS we get a list of registered functions\\n\\nPLUGINS\\n\\nrandom_result( Patrick )\\n\\n#if we use globals() we will see all the global variables involved in the current scope\\nglobals()',\n",
              " '_i7': 'import random\\n\\n#global dictionary for registers\\nPLUGINS = dict()\\n\\ndef register_func( func ):\\n  #Register a function as a plug-in\\n  PLUGINS[ func.__name__ ] = func\\n  \\n@register_func\\ndef hello_func( name ):\\n  return f\"Hi { name }!\"\\n\\n@register_func\\ndef second_function( name ):\\n  return f\"this is the second function. { name }\"\\n\\ndef random_result( name ):\\n  result, result_function = random.choice( list( PLUGINS.items() ) )\\n  print( f\"Using {result!r}\" )\\n  return result_function( name )\\n\\n#if we use PLUGINS we get a list of registered functions\\n\\nPLUGINS\\n\\nrandom_result( Patrick )\\n\\n#if we use globals() we will see all the global variables involved in the current scope\\nglobals()',\n",
              " '_i8': 'import random\\n\\n#global dictionary for registers\\nPLUGINS = dict()\\n\\ndef register_func( func ):\\n  #Register a function as a plug-in\\n  PLUGINS[ func.__name__ ] = func\\n  \\n@register_func\\ndef hello_func( name ):\\n  return f\"Hi { name }!\"\\n\\n@register_func\\ndef second_function( name ):\\n  return f\"this is the second function. { name }\"\\n\\ndef random_result( name ):\\n  result, result_function = random.choice( list( PLUGINS.items() ) )\\n  print( f\"Using {result!r}\" )\\n  return result_function( name )\\n\\n#if we use PLUGINS we get a list of registered functions\\n\\nPLUGINS\\n\\nrandom_result( \\'Patrick\\' )\\n\\n#if we use globals() we will see all the global variables involved in the current scope\\nglobals()',\n",
              " '_i9': 'import random\\n\\n#global dictionary for registers\\nPLUGINS = dict()\\n\\ndef register_func( func ):\\n  #Register a function as a plug-in\\n  PLUGINS[ func.__name__ ] = func\\n  \\n@register_func\\ndef hello_func( name ):\\n  return f\"Hi { name }!\"\\n\\n@register_func\\ndef second_function( name ):\\n  return f\"this is the second function. { name }\"\\n\\ndef random_result( name ):\\n  result, result_function = random.choice( list( PLUGINS.items() ) )\\n  print( f\"Using {result!r}\" )\\n  return result_function( name )\\n\\n#if we use PLUGINS we get a list of registered functions\\n\\nprint( random_result( \\'Patrick\\' ) )\\n\\nprint( \"printing plugins:\")\\nPLUGINS\\n\\n\\n#if we use globals() we will see all the global variables involved in the current scope\\n\\nprint( \\'printing globals:\\')\\nglobals()',\n",
              " '_ih': ['',\n",
              "  \"\\nget_ipython().run_cell_magic('time', '', 'def sigma_func():\\\\n  sigma = 0\\\\n  for i in range( 100 ):\\\\n    sigma += i\\\\n\\\\nsigma_func()')\",\n",
              "  \"\\nget_ipython().run_cell_magic('time', '', 'def sigma_func():\\\\n  sigma = 0\\\\n  for i in range( 100 ):\\\\n    sigma += i\\\\n\\\\ndef sigma_func2():\\\\n  sigma2 = 0\\\\n  for i in range( 100 ):\\\\n    sigma2 += i\\\\nsigma_func()')\",\n",
              "  \"\\nget_ipython().run_cell_magic('time', '', 'def sigma_func():\\\\n  sigma = 0\\\\n  for i in range( 100 ):\\\\n    sigma += i\\\\n\\\\n%%time\\\\ndef sigma_func2():\\\\n  sigma2 = 0\\\\n  for i in range( 100 ):\\\\n    sigma2 += i\\\\n    \\\\n\\\\nsigma_func()')\",\n",
              "  \"\\nget_ipython().run_cell_magic('time', '', 'def sigma_func():\\\\n  sigma = 0\\\\n  for i in range( 100 ):\\\\n    sigma += i\\\\n\\\\ndef sigma_func2():\\\\n  sigma2 = 0\\\\n  for i in range( 100 ):\\\\n    sigma2 += i\\\\n    \\\\n\\\\nsigma_func()\\\\nsigma_func2()')\",\n",
              "  'import random\\n\\n#global dictionary for registers\\nPLUGINS = dict()\\n\\ndef registerFunc( func ):\\n  #Register a function as a plug-in\\n  PLUGINS[ func.__name__ ] = func\\n  \\n@register\\ndef hello_func( name ):\\n  return f\"Hi { name }!\"\\n\\n@register\\ndef second_function( name ):\\n  return f\"this is the second function. { name }\"\\n\\ndef random_result( name ):\\n  result, result_function = random.choice( list( PLUGINS.items() ) )\\n  print( f\"Using {result!r}\" )\\n  return result_function( name )\\n\\n#if we use PLUGINS we get a list of registered functions\\n\\nPLUGINS\\n\\nrandom_result( Patrick )\\n\\n#if we use globals() we will see all the global variables involved in the current scope\\nglobals()',\n",
              "  'import random\\n\\n#global dictionary for registers\\nPLUGINS = dict()\\n\\ndef register_func( func ):\\n  #Register a function as a plug-in\\n  PLUGINS[ func.__name__ ] = func\\n  \\n@register_Func\\ndef hello_func( name ):\\n  return f\"Hi { name }!\"\\n\\n@register_func\\ndef second_function( name ):\\n  return f\"this is the second function. { name }\"\\n\\ndef random_result( name ):\\n  result, result_function = random.choice( list( PLUGINS.items() ) )\\n  print( f\"Using {result!r}\" )\\n  return result_function( name )\\n\\n#if we use PLUGINS we get a list of registered functions\\n\\nPLUGINS\\n\\nrandom_result( Patrick )\\n\\n#if we use globals() we will see all the global variables involved in the current scope\\nglobals()',\n",
              "  'import random\\n\\n#global dictionary for registers\\nPLUGINS = dict()\\n\\ndef register_func( func ):\\n  #Register a function as a plug-in\\n  PLUGINS[ func.__name__ ] = func\\n  \\n@register_func\\ndef hello_func( name ):\\n  return f\"Hi { name }!\"\\n\\n@register_func\\ndef second_function( name ):\\n  return f\"this is the second function. { name }\"\\n\\ndef random_result( name ):\\n  result, result_function = random.choice( list( PLUGINS.items() ) )\\n  print( f\"Using {result!r}\" )\\n  return result_function( name )\\n\\n#if we use PLUGINS we get a list of registered functions\\n\\nPLUGINS\\n\\nrandom_result( Patrick )\\n\\n#if we use globals() we will see all the global variables involved in the current scope\\nglobals()',\n",
              "  'import random\\n\\n#global dictionary for registers\\nPLUGINS = dict()\\n\\ndef register_func( func ):\\n  #Register a function as a plug-in\\n  PLUGINS[ func.__name__ ] = func\\n  \\n@register_func\\ndef hello_func( name ):\\n  return f\"Hi { name }!\"\\n\\n@register_func\\ndef second_function( name ):\\n  return f\"this is the second function. { name }\"\\n\\ndef random_result( name ):\\n  result, result_function = random.choice( list( PLUGINS.items() ) )\\n  print( f\"Using {result!r}\" )\\n  return result_function( name )\\n\\n#if we use PLUGINS we get a list of registered functions\\n\\nPLUGINS\\n\\nrandom_result( \\'Patrick\\' )\\n\\n#if we use globals() we will see all the global variables involved in the current scope\\nglobals()',\n",
              "  'import random\\n\\n#global dictionary for registers\\nPLUGINS = dict()\\n\\ndef register_func( func ):\\n  #Register a function as a plug-in\\n  PLUGINS[ func.__name__ ] = func\\n  \\n@register_func\\ndef hello_func( name ):\\n  return f\"Hi { name }!\"\\n\\n@register_func\\ndef second_function( name ):\\n  return f\"this is the second function. { name }\"\\n\\ndef random_result( name ):\\n  result, result_function = random.choice( list( PLUGINS.items() ) )\\n  print( f\"Using {result!r}\" )\\n  return result_function( name )\\n\\n#if we use PLUGINS we get a list of registered functions\\n\\nprint( random_result( \\'Patrick\\' ) )\\n\\nprint( \"printing plugins:\")\\nPLUGINS\\n\\n\\n#if we use globals() we will see all the global variables involved in the current scope\\n\\nprint( \\'printing globals:\\')\\nglobals()'],\n",
              " '_ii': 'import random\\n\\n#global dictionary for registers\\nPLUGINS = dict()\\n\\ndef register_func( func ):\\n  #Register a function as a plug-in\\n  PLUGINS[ func.__name__ ] = func\\n  \\n@register_func\\ndef hello_func( name ):\\n  return f\"Hi { name }!\"\\n\\n@register_func\\ndef second_function( name ):\\n  return f\"this is the second function. { name }\"\\n\\ndef random_result( name ):\\n  result, result_function = random.choice( list( PLUGINS.items() ) )\\n  print( f\"Using {result!r}\" )\\n  return result_function( name )\\n\\n#if we use PLUGINS we get a list of registered functions\\n\\nPLUGINS\\n\\nrandom_result( Patrick )\\n\\n#if we use globals() we will see all the global variables involved in the current scope\\nglobals()',\n",
              " '_iii': 'import random\\n\\n#global dictionary for registers\\nPLUGINS = dict()\\n\\ndef register_func( func ):\\n  #Register a function as a plug-in\\n  PLUGINS[ func.__name__ ] = func\\n  \\n@register_Func\\ndef hello_func( name ):\\n  return f\"Hi { name }!\"\\n\\n@register_func\\ndef second_function( name ):\\n  return f\"this is the second function. { name }\"\\n\\ndef random_result( name ):\\n  result, result_function = random.choice( list( PLUGINS.items() ) )\\n  print( f\"Using {result!r}\" )\\n  return result_function( name )\\n\\n#if we use PLUGINS we get a list of registered functions\\n\\nPLUGINS\\n\\nrandom_result( Patrick )\\n\\n#if we use globals() we will see all the global variables involved in the current scope\\nglobals()',\n",
              " '_oh': {8: {...}},\n",
              " '_sh': <module 'IPython.core.shadowns' from '/usr/local/lib/python3.6/dist-packages/IPython/core/shadowns.py'>,\n",
              " 'exit': <IPython.core.autocall.ZMQExitAutocall at 0x7f4fe61ecac8>,\n",
              " 'get_ipython': <bound method InteractiveShell.get_ipython of <google.colab._shell.Shell object at 0x7f4fe61c57b8>>,\n",
              " 'hello_func': None,\n",
              " 'quit': <IPython.core.autocall.ZMQExitAutocall at 0x7f4fe61ecac8>,\n",
              " 'random': <module 'random' from '/usr/lib/python3.6/random.py'>,\n",
              " 'random_result': <function __main__.random_result>,\n",
              " 'registerFunc': <function __main__.registerFunc>,\n",
              " 'register_func': <function __main__.register_func>,\n",
              " 'second_function': None,\n",
              " 'sigma_func': <function __main__.sigma_func>,\n",
              " 'sigma_func2': <function __main__.sigma_func2>}"
            ]
          },
          "metadata": {
            "tags": []
          },
          "execution_count": 9
        }
      ]
    },
    {
      "cell_type": "markdown",
      "metadata": {
        "id": "cffUUrPakvd_",
        "colab_type": "text"
      },
      "source": [
        "#Let's use a decorator to make a custom Timing function.\n",
        "\n",
        "We've learned about timing function. We could literally use this to make a custom timing!"
      ]
    },
    {
      "cell_type": "code",
      "metadata": {
        "id": "o6sqlCYmk2Zi",
        "colab_type": "code",
        "outputId": "a7c97d96-c497-4c73-ed1e-7be29e2b5fac",
        "colab": {
          "base_uri": "https://localhost:8080/",
          "height": 85
        }
      },
      "source": [
        "import time\n",
        "\n",
        "def custom_timing( func ):\n",
        "  \n",
        "  def timing_func( *args, **kwargs ):\n",
        "    \n",
        "    #start timing\n",
        "    start = time.perf_counter()\n",
        "    result = func( *args, **kwargs )\n",
        "    end = time.perf_counter()\n",
        "    \n",
        "    timing = end - start\n",
        "    print( 'function name: { func.__name__!r }' )\n",
        "    print( 'runtime: { timing .}' % ( timing ) )\n",
        "    \n",
        "    return result\n",
        "  \n",
        "  return timing_func\n",
        "\n",
        "@custom_timing\n",
        "def fibonacci( n ):\n",
        "  if n == 0:\n",
        "    return 0\n",
        "  elif n == 1:\n",
        "    return 1\n",
        "  return fibonacci( n - 1 ) + fibonacci( n - 2 )\n",
        "\n",
        "#you'll notice that in order to make this work we'll have to use a different timing function\n",
        "#because recursion will cause the decorator to wrap each instance of fibonacci!\n",
        "\n",
        "fibonacci( 2 )"
      ],
      "execution_count": 0,
      "outputs": [
        {
          "output_type": "stream",
          "text": [
            "time: 0.000000 \n",
            "time: 0.000001 \n",
            "time: 0.000242 \n"
          ],
          "name": "stdout"
        },
        {
          "output_type": "execute_result",
          "data": {
            "text/plain": [
              "1"
            ]
          },
          "metadata": {
            "tags": []
          },
          "execution_count": 1
        }
      ]
    },
    {
      "cell_type": "markdown",
      "metadata": {
        "id": "xUW-OynAZ0ce",
        "colab_type": "text"
      },
      "source": [
        "#Decorators with classes\n",
        "\n",
        "Decorators can also contain classes. This let's us expand even more functionality cause we can give our decorators the ability to do more.\n",
        "\n",
        "In this example we will use classes to give our decorators the ability to keep the state of functions\n",
        "\n",
        "This gives us a count of the function executes that have taken place."
      ]
    },
    {
      "cell_type": "code",
      "metadata": {
        "id": "2OKemq8bavuO",
        "colab_type": "code",
        "colab": {
          "base_uri": "https://localhost:8080/",
          "height": 1000
        },
        "outputId": "9a8ae93d-d868-44ed-e8b4-cfa2b12735a7"
      },
      "source": [
        "#this is the class decorator\n",
        "class class_decorator():\n",
        "  def __init__( self, func ):\n",
        "    self.func = func\n",
        "    self.count = 0\n",
        "    \n",
        "  #we use __call__ to allow the class to call upon itself\n",
        "  def __call__( self, *args, **kwargs ):\n",
        "    #incrementing the count each time\n",
        "    self.count += 1\n",
        "    print( f\"function count: { self.count }\" )\n",
        "    return self.func( *args, **kwargs )\n",
        "\n",
        "@class_decorator\n",
        "def fibonacci( n ):\n",
        "  if n == 0:\n",
        "    return 0\n",
        "  elif n == 1:\n",
        "    return 1\n",
        "  return fibonacci( n - 1 ) + fibonacci( n - 2 )\n",
        "\n",
        "fibonacci( 12 )"
      ],
      "execution_count": 14,
      "outputs": [
        {
          "output_type": "stream",
          "text": [
            "function count: 1\n",
            "function count: 2\n",
            "function count: 3\n",
            "function count: 4\n",
            "function count: 5\n",
            "function count: 6\n",
            "function count: 7\n",
            "function count: 8\n",
            "function count: 9\n",
            "function count: 10\n",
            "function count: 11\n",
            "function count: 12\n",
            "function count: 13\n",
            "function count: 14\n",
            "function count: 15\n",
            "function count: 16\n",
            "function count: 17\n",
            "function count: 18\n",
            "function count: 19\n",
            "function count: 20\n",
            "function count: 21\n",
            "function count: 22\n",
            "function count: 23\n",
            "function count: 24\n",
            "function count: 25\n",
            "function count: 26\n",
            "function count: 27\n",
            "function count: 28\n",
            "function count: 29\n",
            "function count: 30\n",
            "function count: 31\n",
            "function count: 32\n",
            "function count: 33\n",
            "function count: 34\n",
            "function count: 35\n",
            "function count: 36\n",
            "function count: 37\n",
            "function count: 38\n",
            "function count: 39\n",
            "function count: 40\n",
            "function count: 41\n",
            "function count: 42\n",
            "function count: 43\n",
            "function count: 44\n",
            "function count: 45\n",
            "function count: 46\n",
            "function count: 47\n",
            "function count: 48\n",
            "function count: 49\n",
            "function count: 50\n",
            "function count: 51\n",
            "function count: 52\n",
            "function count: 53\n",
            "function count: 54\n",
            "function count: 55\n",
            "function count: 56\n",
            "function count: 57\n",
            "function count: 58\n",
            "function count: 59\n",
            "function count: 60\n",
            "function count: 61\n",
            "function count: 62\n",
            "function count: 63\n",
            "function count: 64\n",
            "function count: 65\n",
            "function count: 66\n",
            "function count: 67\n",
            "function count: 68\n",
            "function count: 69\n",
            "function count: 70\n",
            "function count: 71\n",
            "function count: 72\n",
            "function count: 73\n",
            "function count: 74\n",
            "function count: 75\n",
            "function count: 76\n",
            "function count: 77\n",
            "function count: 78\n",
            "function count: 79\n",
            "function count: 80\n",
            "function count: 81\n",
            "function count: 82\n",
            "function count: 83\n",
            "function count: 84\n",
            "function count: 85\n",
            "function count: 86\n",
            "function count: 87\n",
            "function count: 88\n",
            "function count: 89\n",
            "function count: 90\n",
            "function count: 91\n",
            "function count: 92\n",
            "function count: 93\n",
            "function count: 94\n",
            "function count: 95\n",
            "function count: 96\n",
            "function count: 97\n",
            "function count: 98\n",
            "function count: 99\n",
            "function count: 100\n",
            "function count: 101\n",
            "function count: 102\n",
            "function count: 103\n",
            "function count: 104\n",
            "function count: 105\n",
            "function count: 106\n",
            "function count: 107\n",
            "function count: 108\n",
            "function count: 109\n",
            "function count: 110\n",
            "function count: 111\n",
            "function count: 112\n",
            "function count: 113\n",
            "function count: 114\n",
            "function count: 115\n",
            "function count: 116\n",
            "function count: 117\n",
            "function count: 118\n",
            "function count: 119\n",
            "function count: 120\n",
            "function count: 121\n",
            "function count: 122\n",
            "function count: 123\n",
            "function count: 124\n",
            "function count: 125\n",
            "function count: 126\n",
            "function count: 127\n",
            "function count: 128\n",
            "function count: 129\n",
            "function count: 130\n",
            "function count: 131\n",
            "function count: 132\n",
            "function count: 133\n",
            "function count: 134\n",
            "function count: 135\n",
            "function count: 136\n",
            "function count: 137\n",
            "function count: 138\n",
            "function count: 139\n",
            "function count: 140\n",
            "function count: 141\n",
            "function count: 142\n",
            "function count: 143\n",
            "function count: 144\n",
            "function count: 145\n",
            "function count: 146\n",
            "function count: 147\n",
            "function count: 148\n",
            "function count: 149\n",
            "function count: 150\n",
            "function count: 151\n",
            "function count: 152\n",
            "function count: 153\n",
            "function count: 154\n",
            "function count: 155\n",
            "function count: 156\n",
            "function count: 157\n",
            "function count: 158\n",
            "function count: 159\n",
            "function count: 160\n",
            "function count: 161\n",
            "function count: 162\n",
            "function count: 163\n",
            "function count: 164\n",
            "function count: 165\n",
            "function count: 166\n",
            "function count: 167\n",
            "function count: 168\n",
            "function count: 169\n",
            "function count: 170\n",
            "function count: 171\n",
            "function count: 172\n",
            "function count: 173\n",
            "function count: 174\n",
            "function count: 175\n",
            "function count: 176\n",
            "function count: 177\n",
            "function count: 178\n",
            "function count: 179\n",
            "function count: 180\n",
            "function count: 181\n",
            "function count: 182\n",
            "function count: 183\n",
            "function count: 184\n",
            "function count: 185\n",
            "function count: 186\n",
            "function count: 187\n",
            "function count: 188\n",
            "function count: 189\n",
            "function count: 190\n",
            "function count: 191\n",
            "function count: 192\n",
            "function count: 193\n",
            "function count: 194\n",
            "function count: 195\n",
            "function count: 196\n",
            "function count: 197\n",
            "function count: 198\n",
            "function count: 199\n",
            "function count: 200\n",
            "function count: 201\n",
            "function count: 202\n",
            "function count: 203\n",
            "function count: 204\n",
            "function count: 205\n",
            "function count: 206\n",
            "function count: 207\n",
            "function count: 208\n",
            "function count: 209\n",
            "function count: 210\n",
            "function count: 211\n",
            "function count: 212\n",
            "function count: 213\n",
            "function count: 214\n",
            "function count: 215\n",
            "function count: 216\n",
            "function count: 217\n",
            "function count: 218\n",
            "function count: 219\n",
            "function count: 220\n",
            "function count: 221\n",
            "function count: 222\n",
            "function count: 223\n",
            "function count: 224\n",
            "function count: 225\n",
            "function count: 226\n",
            "function count: 227\n",
            "function count: 228\n",
            "function count: 229\n",
            "function count: 230\n",
            "function count: 231\n",
            "function count: 232\n",
            "function count: 233\n",
            "function count: 234\n",
            "function count: 235\n",
            "function count: 236\n",
            "function count: 237\n",
            "function count: 238\n",
            "function count: 239\n",
            "function count: 240\n",
            "function count: 241\n",
            "function count: 242\n",
            "function count: 243\n",
            "function count: 244\n",
            "function count: 245\n",
            "function count: 246\n",
            "function count: 247\n",
            "function count: 248\n",
            "function count: 249\n",
            "function count: 250\n",
            "function count: 251\n",
            "function count: 252\n",
            "function count: 253\n",
            "function count: 254\n",
            "function count: 255\n",
            "function count: 256\n",
            "function count: 257\n",
            "function count: 258\n",
            "function count: 259\n",
            "function count: 260\n",
            "function count: 261\n",
            "function count: 262\n",
            "function count: 263\n",
            "function count: 264\n",
            "function count: 265\n",
            "function count: 266\n",
            "function count: 267\n",
            "function count: 268\n",
            "function count: 269\n",
            "function count: 270\n",
            "function count: 271\n",
            "function count: 272\n",
            "function count: 273\n",
            "function count: 274\n",
            "function count: 275\n",
            "function count: 276\n",
            "function count: 277\n",
            "function count: 278\n",
            "function count: 279\n",
            "function count: 280\n",
            "function count: 281\n",
            "function count: 282\n",
            "function count: 283\n",
            "function count: 284\n",
            "function count: 285\n",
            "function count: 286\n",
            "function count: 287\n",
            "function count: 288\n",
            "function count: 289\n",
            "function count: 290\n",
            "function count: 291\n",
            "function count: 292\n",
            "function count: 293\n",
            "function count: 294\n",
            "function count: 295\n",
            "function count: 296\n",
            "function count: 297\n",
            "function count: 298\n",
            "function count: 299\n",
            "function count: 300\n",
            "function count: 301\n",
            "function count: 302\n",
            "function count: 303\n",
            "function count: 304\n",
            "function count: 305\n",
            "function count: 306\n",
            "function count: 307\n",
            "function count: 308\n",
            "function count: 309\n",
            "function count: 310\n",
            "function count: 311\n",
            "function count: 312\n",
            "function count: 313\n",
            "function count: 314\n",
            "function count: 315\n",
            "function count: 316\n",
            "function count: 317\n",
            "function count: 318\n",
            "function count: 319\n",
            "function count: 320\n",
            "function count: 321\n",
            "function count: 322\n",
            "function count: 323\n",
            "function count: 324\n",
            "function count: 325\n",
            "function count: 326\n",
            "function count: 327\n",
            "function count: 328\n",
            "function count: 329\n",
            "function count: 330\n",
            "function count: 331\n",
            "function count: 332\n",
            "function count: 333\n",
            "function count: 334\n",
            "function count: 335\n",
            "function count: 336\n",
            "function count: 337\n",
            "function count: 338\n",
            "function count: 339\n",
            "function count: 340\n",
            "function count: 341\n",
            "function count: 342\n",
            "function count: 343\n",
            "function count: 344\n",
            "function count: 345\n",
            "function count: 346\n",
            "function count: 347\n",
            "function count: 348\n",
            "function count: 349\n",
            "function count: 350\n",
            "function count: 351\n",
            "function count: 352\n",
            "function count: 353\n",
            "function count: 354\n",
            "function count: 355\n",
            "function count: 356\n",
            "function count: 357\n",
            "function count: 358\n",
            "function count: 359\n",
            "function count: 360\n",
            "function count: 361\n",
            "function count: 362\n",
            "function count: 363\n",
            "function count: 364\n",
            "function count: 365\n",
            "function count: 366\n",
            "function count: 367\n",
            "function count: 368\n",
            "function count: 369\n",
            "function count: 370\n",
            "function count: 371\n",
            "function count: 372\n",
            "function count: 373\n",
            "function count: 374\n",
            "function count: 375\n",
            "function count: 376\n",
            "function count: 377\n",
            "function count: 378\n",
            "function count: 379\n",
            "function count: 380\n",
            "function count: 381\n",
            "function count: 382\n",
            "function count: 383\n",
            "function count: 384\n",
            "function count: 385\n",
            "function count: 386\n",
            "function count: 387\n",
            "function count: 388\n",
            "function count: 389\n",
            "function count: 390\n",
            "function count: 391\n",
            "function count: 392\n",
            "function count: 393\n",
            "function count: 394\n",
            "function count: 395\n",
            "function count: 396\n",
            "function count: 397\n",
            "function count: 398\n",
            "function count: 399\n",
            "function count: 400\n",
            "function count: 401\n",
            "function count: 402\n",
            "function count: 403\n",
            "function count: 404\n",
            "function count: 405\n",
            "function count: 406\n",
            "function count: 407\n",
            "function count: 408\n",
            "function count: 409\n",
            "function count: 410\n",
            "function count: 411\n",
            "function count: 412\n",
            "function count: 413\n",
            "function count: 414\n",
            "function count: 415\n",
            "function count: 416\n",
            "function count: 417\n",
            "function count: 418\n",
            "function count: 419\n",
            "function count: 420\n",
            "function count: 421\n",
            "function count: 422\n",
            "function count: 423\n",
            "function count: 424\n",
            "function count: 425\n",
            "function count: 426\n",
            "function count: 427\n",
            "function count: 428\n",
            "function count: 429\n",
            "function count: 430\n",
            "function count: 431\n",
            "function count: 432\n",
            "function count: 433\n",
            "function count: 434\n",
            "function count: 435\n",
            "function count: 436\n",
            "function count: 437\n",
            "function count: 438\n",
            "function count: 439\n",
            "function count: 440\n",
            "function count: 441\n",
            "function count: 442\n",
            "function count: 443\n",
            "function count: 444\n",
            "function count: 445\n",
            "function count: 446\n",
            "function count: 447\n",
            "function count: 448\n",
            "function count: 449\n",
            "function count: 450\n",
            "function count: 451\n",
            "function count: 452\n",
            "function count: 453\n",
            "function count: 454\n",
            "function count: 455\n",
            "function count: 456\n",
            "function count: 457\n",
            "function count: 458\n",
            "function count: 459\n",
            "function count: 460\n",
            "function count: 461\n",
            "function count: 462\n",
            "function count: 463\n",
            "function count: 464\n",
            "function count: 465\n"
          ],
          "name": "stdout"
        },
        {
          "output_type": "execute_result",
          "data": {
            "text/plain": [
              "144"
            ]
          },
          "metadata": {
            "tags": []
          },
          "execution_count": 14
        }
      ]
    },
    {
      "cell_type": "markdown",
      "metadata": {
        "id": "gOOh9Lelof1U",
        "colab_type": "text"
      },
      "source": [
        "#Code Profiling\n",
        "\n",
        "We understand how to time our codes now. \n",
        "\n",
        "Timing the code gives us more information and is fine for understanding the run times.\n",
        "\n",
        "However, we can take this a step further. This is the next step after we've timed our code.\n",
        "\n",
        "Here is where we will identify performance bottlenecks that exist in codes.\n",
        "\n",
        "To accomplish this, we will look at **cProfiler** and **line_profiler**"
      ]
    },
    {
      "cell_type": "markdown",
      "metadata": {
        "id": "4K8kFELzsz6O",
        "colab_type": "text"
      },
      "source": [
        "#cProfiler.\n",
        "\n",
        "This is a built-in profiler and should be the first alternative after you've gained some intuition timing the functions.\n",
        "\n",
        "The reason is because this will be a little slower than using the timing functions. You'll use this if you need to gain more insight about the run times for your code.\n",
        "\n",
        "We'll use a bubble sort for code profiling.\n",
        "\n",
        "A decorator function is a function that takes in a function as an input and returns a function for output.\n",
        "\n",
        "we'll be using a decorator function to control what our cprofiler will do.\n",
        "\n",
        "for more information on commands we'll use this documentation:\n",
        "\n",
        "Python 3: https://docs.python.org/3/library/profile.html\n",
        "\n"
      ]
    },
    {
      "cell_type": "code",
      "metadata": {
        "id": "zBuag1BoeMau",
        "colab_type": "code",
        "colab": {}
      },
      "source": [
        "import cProfile\n",
        "import numpy as np"
      ],
      "execution_count": 0,
      "outputs": []
    },
    {
      "cell_type": "markdown",
      "metadata": {
        "id": "K-NvqDt_ePLc",
        "colab_type": "text"
      },
      "source": [
        "An import will be needed to make this work."
      ]
    },
    {
      "cell_type": "code",
      "metadata": {
        "id": "pXiAtIfbY3pU",
        "colab_type": "code",
        "outputId": "d486f185-4d80-4e84-91c9-72c29b739d4c",
        "colab": {
          "base_uri": "https://localhost:8080/",
          "height": 357
        }
      },
      "source": [
        "#start implementing cProfiler here!\n",
        "\n",
        "def cprofiler( function ):\n",
        "  \n",
        "  #the profiling function\n",
        "  def profile_func( *args, **kwargs ):\n",
        "    \n",
        "    #Using it this way allows the profile to display results without\n",
        "    #writing the profile data to a file\n",
        "    profile = cProfile.Profile()\n",
        "    try:\n",
        "      #starts the collecting of profile data\n",
        "      profile.enable()\n",
        "      \n",
        "      results = function( *args, **kwargs )\n",
        "      #stops collecting of profile data\n",
        "      profile.disable()\n",
        "      \n",
        "      return results\n",
        "    finally:\n",
        "      #we use finally as a finish procedure\n",
        "      #in this case print_stats will print results to standard out.\n",
        "      #for the sake of the demo we'll comment this out\n",
        "      profile.print_stats()\n",
        "  return profile_func\n",
        "\n",
        "@cprofiler\n",
        "def bubble_sort( list ):\n",
        "    # TODO your code here\n",
        "    \n",
        "    \n",
        "    is_sorted = False\n",
        "    num_sort = 0\n",
        "    temp = 0\n",
        "    while is_sorted == False:\n",
        "      \n",
        "        #this variable is reset at the start of every loop\n",
        "        num_sort = 0\n",
        "        for index in range( len(list) - 1 ):\n",
        "          \n",
        "            #if the preceding number in the array is smaller\n",
        "            #a swap will be done.\n",
        "            if list[ index ] > list[ index + 1 ]:\n",
        "                temp = list[ index ]\n",
        "                list[ index ] = list[ index + 1 ]\n",
        "                list[ index + 1 ] = temp\n",
        "                num_sort += 1\n",
        "                \n",
        "        #if nothing is sorted then the flag is set true\n",
        "        #this will prevent another loop from starting\n",
        "        if num_sort == 0:\n",
        "                is_sorted = True\n",
        "            \n",
        "    #the newly sorted list is returned\n",
        "    return list\n",
        "\n",
        "@cprofiler\n",
        "def create_list():\n",
        "  list = np.zeros( 1000 )\n",
        "  x = 0\n",
        "\n",
        "  for i in range( 1000, 0, -1 ):\n",
        "    list[ x ] = i\n",
        "    x += 1\n",
        "  return list\n",
        "\n",
        "if __name__ == '__main__':\n",
        "  #we'll comment out the output for the sake of the demo\n",
        "  list = create_list()\n",
        "  #print( \"before: \", list )\n",
        "  bubble_sort( list )\n",
        "  #print( \"after: \", list )\n",
        "\n"
      ],
      "execution_count": 0,
      "outputs": [
        {
          "output_type": "error",
          "ename": "NameError",
          "evalue": "ignored",
          "traceback": [
            "\u001b[0;31m---------------------------------------------------------------------------\u001b[0m",
            "\u001b[0;31mNameError\u001b[0m                                 Traceback (most recent call last)",
            "\u001b[0;32m<ipython-input-6-22f816f7b407>\u001b[0m in \u001b[0;36m<module>\u001b[0;34m()\u001b[0m\n\u001b[1;32m     58\u001b[0m \u001b[0;32mif\u001b[0m \u001b[0m__name__\u001b[0m \u001b[0;34m==\u001b[0m \u001b[0;34m'__main__'\u001b[0m\u001b[0;34m:\u001b[0m\u001b[0;34m\u001b[0m\u001b[0;34m\u001b[0m\u001b[0m\n\u001b[1;32m     59\u001b[0m   \u001b[0;31m#we'll comment out the output for the sake of the demo\u001b[0m\u001b[0;34m\u001b[0m\u001b[0;34m\u001b[0m\u001b[0;34m\u001b[0m\u001b[0m\n\u001b[0;32m---> 60\u001b[0;31m   \u001b[0mlist\u001b[0m \u001b[0;34m=\u001b[0m \u001b[0mcreate_list\u001b[0m\u001b[0;34m(\u001b[0m\u001b[0;34m)\u001b[0m\u001b[0;34m\u001b[0m\u001b[0;34m\u001b[0m\u001b[0m\n\u001b[0m\u001b[1;32m     61\u001b[0m   \u001b[0;31m#print( \"before: \", list )\u001b[0m\u001b[0;34m\u001b[0m\u001b[0;34m\u001b[0m\u001b[0;34m\u001b[0m\u001b[0m\n\u001b[1;32m     62\u001b[0m   \u001b[0mbubble_sort\u001b[0m\u001b[0;34m(\u001b[0m \u001b[0mlist\u001b[0m \u001b[0;34m)\u001b[0m\u001b[0;34m\u001b[0m\u001b[0;34m\u001b[0m\u001b[0m\n",
            "\u001b[0;32m<ipython-input-6-22f816f7b407>\u001b[0m in \u001b[0;36mprofile_func\u001b[0;34m(*args, **kwargs)\u001b[0m\n\u001b[1;32m      7\u001b[0m     \u001b[0;31m#Using it this way allows the profile to display results without\u001b[0m\u001b[0;34m\u001b[0m\u001b[0;34m\u001b[0m\u001b[0;34m\u001b[0m\u001b[0m\n\u001b[1;32m      8\u001b[0m     \u001b[0;31m#writing the profile data to a file\u001b[0m\u001b[0;34m\u001b[0m\u001b[0;34m\u001b[0m\u001b[0;34m\u001b[0m\u001b[0m\n\u001b[0;32m----> 9\u001b[0;31m     \u001b[0mprofile\u001b[0m \u001b[0;34m=\u001b[0m \u001b[0mcProfile\u001b[0m\u001b[0;34m.\u001b[0m\u001b[0mProfile\u001b[0m\u001b[0;34m(\u001b[0m\u001b[0;34m)\u001b[0m\u001b[0;34m\u001b[0m\u001b[0;34m\u001b[0m\u001b[0m\n\u001b[0m\u001b[1;32m     10\u001b[0m     \u001b[0;32mtry\u001b[0m\u001b[0;34m:\u001b[0m\u001b[0;34m\u001b[0m\u001b[0;34m\u001b[0m\u001b[0m\n\u001b[1;32m     11\u001b[0m       \u001b[0;31m#starts the collecting of profile data\u001b[0m\u001b[0;34m\u001b[0m\u001b[0;34m\u001b[0m\u001b[0;34m\u001b[0m\u001b[0m\n",
            "\u001b[0;31mNameError\u001b[0m: name 'cProfile' is not defined"
          ]
        }
      ]
    },
    {
      "cell_type": "markdown",
      "metadata": {
        "id": "L-n39BmplY28",
        "colab_type": "text"
      },
      "source": [
        "We can see the timing for both the create_list and bubble_sort method with this cProfile.\n",
        "\n",
        "**cProfiler**\n",
        "\n",
        "\n",
        "pros: \n",
        "- no external dependencies\n",
        "- fast\n",
        "- useful for quick checks.\n",
        "\n",
        "cons:\n",
        "- limited information which usually doesn't help if you need deeper debugging.\n",
        "- reports aren't easily understood."
      ]
    },
    {
      "cell_type": "markdown",
      "metadata": {
        "id": "et7jnwfroeO6",
        "colab_type": "text"
      },
      "source": [
        "#line_profiler\n",
        "\n",
        "Let's take a look at line profiler next. We'll use the same code for this one just to show what it can do.\n",
        "\n",
        "For documentation:\n",
        "\n",
        "visit: https://github.com/rkern/line_profiler#line-profiler"
      ]
    },
    {
      "cell_type": "code",
      "metadata": {
        "id": "gGC-ZSYop040",
        "colab_type": "code",
        "outputId": "4fc95b66-a009-420f-c472-8cfea7d8c23e",
        "colab": {
          "base_uri": "https://localhost:8080/",
          "height": 399
        }
      },
      "source": [
        "!pip install line_profiler\n",
        "from line_profiler import LineProfiler"
      ],
      "execution_count": 0,
      "outputs": [
        {
          "output_type": "stream",
          "text": [
            "Collecting line_profiler\n",
            "\u001b[?25l  Downloading https://files.pythonhosted.org/packages/14/fc/ecf4e238bb601ff829068e5a72cd1bd67b0ee0ae379db172eb6a0779c6b6/line_profiler-2.1.2.tar.gz (83kB)\n",
            "\u001b[K     |████████████████████████████████| 92kB 5.7MB/s \n",
            "\u001b[?25hRequirement already satisfied: IPython>=0.13 in /usr/local/lib/python3.6/dist-packages (from line_profiler) (5.5.0)\n",
            "Requirement already satisfied: setuptools>=18.5 in /usr/local/lib/python3.6/dist-packages (from IPython>=0.13->line_profiler) (41.0.1)\n",
            "Requirement already satisfied: traitlets>=4.2 in /usr/local/lib/python3.6/dist-packages (from IPython>=0.13->line_profiler) (4.3.2)\n",
            "Requirement already satisfied: prompt-toolkit<2.0.0,>=1.0.4 in /usr/local/lib/python3.6/dist-packages (from IPython>=0.13->line_profiler) (1.0.16)\n",
            "Requirement already satisfied: pexpect; sys_platform != \"win32\" in /usr/local/lib/python3.6/dist-packages (from IPython>=0.13->line_profiler) (4.7.0)\n",
            "Requirement already satisfied: decorator in /usr/local/lib/python3.6/dist-packages (from IPython>=0.13->line_profiler) (4.4.0)\n",
            "Requirement already satisfied: simplegeneric>0.8 in /usr/local/lib/python3.6/dist-packages (from IPython>=0.13->line_profiler) (0.8.1)\n",
            "Requirement already satisfied: pickleshare in /usr/local/lib/python3.6/dist-packages (from IPython>=0.13->line_profiler) (0.7.5)\n",
            "Requirement already satisfied: pygments in /usr/local/lib/python3.6/dist-packages (from IPython>=0.13->line_profiler) (2.1.3)\n",
            "Requirement already satisfied: ipython-genutils in /usr/local/lib/python3.6/dist-packages (from traitlets>=4.2->IPython>=0.13->line_profiler) (0.2.0)\n",
            "Requirement already satisfied: six in /usr/local/lib/python3.6/dist-packages (from traitlets>=4.2->IPython>=0.13->line_profiler) (1.12.0)\n",
            "Requirement already satisfied: wcwidth in /usr/local/lib/python3.6/dist-packages (from prompt-toolkit<2.0.0,>=1.0.4->IPython>=0.13->line_profiler) (0.1.7)\n",
            "Requirement already satisfied: ptyprocess>=0.5 in /usr/local/lib/python3.6/dist-packages (from pexpect; sys_platform != \"win32\"->IPython>=0.13->line_profiler) (0.6.0)\n",
            "Building wheels for collected packages: line-profiler\n",
            "  Building wheel for line-profiler (setup.py) ... \u001b[?25l\u001b[?25hdone\n",
            "  Stored in directory: /root/.cache/pip/wheels/05/7d/9b/aafbe8d78dc2b2c644d2efd2f060ab3258143860142575193a\n",
            "Successfully built line-profiler\n",
            "Installing collected packages: line-profiler\n",
            "Successfully installed line-profiler-2.1.2\n"
          ],
          "name": "stdout"
        }
      ]
    },
    {
      "cell_type": "markdown",
      "metadata": {
        "id": "H29SzThKqBg0",
        "colab_type": "text"
      },
      "source": [
        "As you've noticed line profiler isn't built in. However, I think it's still a very good profiler to use if you need line by line analysis for the code.\n",
        "\n"
      ]
    },
    {
      "cell_type": "code",
      "metadata": {
        "id": "vgy8V329obzR",
        "colab_type": "code",
        "outputId": "9fae18e4-3213-40f5-fde0-077652a2db67",
        "colab": {
          "base_uri": "https://localhost:8080/",
          "height": 780
        }
      },
      "source": [
        "#implement line profiler function here!\n",
        "\n",
        "def profiler_function( function ):\n",
        "  def profile_function( *args, **kwargs ):\n",
        "    try:\n",
        "      profiler = LineProfiler()\n",
        "      \n",
        "      #this add_function informs \n",
        "      #the line profiler which function to profile\n",
        "      profiler.add_function( function )\n",
        "      \n",
        "      #enable_by_count is the same as enable for cProfiler\n",
        "      #except for line profiler this is safe to used on nested functions\n",
        "      profiler.enable_by_count()\n",
        "      \n",
        "      #please note if you want to disable then you'll use:\n",
        "      #disable_by_count()\n",
        "      \n",
        "      return function( *args, **kwargs )\n",
        "    finally:\n",
        "      profiler.print_stats()\n",
        "  return profile_function\n",
        "\n",
        "'''\n",
        "except ImportError:\n",
        "  def line_profiler():\n",
        "    def inner( function ):\n",
        "      def nothing( *args, **kwargs )\n",
        "        return function( *args, **kwargs )\n",
        "      return nothing\n",
        "    return inner\n",
        "'''\n",
        "\n",
        "@profiler_function\n",
        "def bubble_sort(list):\n",
        "    # TODO your code here\n",
        "    is_sorted = False\n",
        "    num_sort = 0\n",
        "    temp = 0\n",
        "    while is_sorted == False:\n",
        "        num_sort = 0\n",
        "        for index in range(len(list)-1):\n",
        "            if list[index] > list[index +1]:\n",
        "                temp = list[index]\n",
        "                list[index] = list[index+1]\n",
        "                list[index+1] = temp\n",
        "                num_sort += 1\n",
        "        if num_sort == 0:\n",
        "                is_sorted = True\n",
        "    return list\n",
        "\n",
        "@profiler_function\n",
        "def create_list():\n",
        "  list = np.zeros( 1000 )\n",
        "  x = 0\n",
        "\n",
        "  for i in range( 1000, 0, -1 ):\n",
        "    list[ x ] = i\n",
        "    x += 1\n",
        "  return list\n",
        "\n",
        "if __name__ == '__main__':\n",
        "  #we'll comment out the output for the sake of the demo\n",
        "  list = create_list()\n",
        "  #print( \"before: \", list )\n",
        "  bubble_sort(list)\n",
        "  #print( \"after: \", list )\n"
      ],
      "execution_count": 0,
      "outputs": [
        {
          "output_type": "stream",
          "text": [
            "Timer unit: 1e-06 s\n",
            "\n",
            "Total time: 0.002555 s\n",
            "File: <ipython-input-9-29a6d464fd58>\n",
            "Function: create_list at line 43\n",
            "\n",
            "Line #      Hits         Time  Per Hit   % Time  Line Contents\n",
            "==============================================================\n",
            "    43                                           @line_profiler\n",
            "    44                                           def create_list():\n",
            "    45         1         34.0     34.0      1.3    list = np.zeros( 1000 )\n",
            "    46         1          2.0      2.0      0.1    x = 0\n",
            "    47                                           \n",
            "    48      1001        569.0      0.6     22.3    for i in range( 1000, 0, -1 ):\n",
            "    49      1000       1264.0      1.3     49.5      list[ x ] = i\n",
            "    50      1000        685.0      0.7     26.8      x += 1\n",
            "    51         1          1.0      1.0      0.0    return list\n",
            "\n",
            "Timer unit: 1e-06 s\n",
            "\n",
            "Total time: 1.91243 s\n",
            "File: <ipython-input-9-29a6d464fd58>\n",
            "Function: bubble_sort at line 25\n",
            "\n",
            "Line #      Hits         Time  Per Hit   % Time  Line Contents\n",
            "==============================================================\n",
            "    25                                           @line_profiler\n",
            "    26                                           def bubble_sort(list):\n",
            "    27                                               # TODO your code here\n",
            "    28         1          2.0      2.0      0.0      is_sorted = False\n",
            "    29         1          1.0      1.0      0.0      num_sort = 0\n",
            "    30         1          0.0      0.0      0.0      temp = 0\n",
            "    31      1001        368.0      0.4      0.0      while is_sorted == False:\n",
            "    32      1000        358.0      0.4      0.0          num_sort = 0\n",
            "    33   1000000     350333.0      0.4     18.3          for index in range(len(list)-1):\n",
            "    34    999000     633618.0      0.6     33.1              if list[index] > list[index +1]:\n",
            "    35    499500     222219.0      0.4     11.6                  temp = list[index]\n",
            "    36    499500     288220.0      0.6     15.1                  list[index] = list[index+1]\n",
            "    37    499500     230219.0      0.5     12.0                  list[index+1] = temp\n",
            "    38    499500     186615.0      0.4      9.8                  num_sort += 1\n",
            "    39      1000        476.0      0.5      0.0          if num_sort == 0:\n",
            "    40         1          0.0      0.0      0.0                  is_sorted = True\n",
            "    41         1          1.0      1.0      0.0      return list\n",
            "\n"
          ],
          "name": "stdout"
        }
      ]
    },
    {
      "cell_type": "markdown",
      "metadata": {
        "id": "OvhYxuC3zSsg",
        "colab_type": "text"
      },
      "source": [
        "\n",
        "We can see the number of operations, run time and miscellaneous details in a line by line fashion.\n",
        "This is a great tool for checking on performance bottlenecks, if you still need to gather more information about your code.\n",
        "\n",
        "**Line Profiler**\n",
        "\n",
        "\n",
        "Pros:\n",
        "- intiuitive\n",
        "- reports are detailed\n",
        "- can follow functions in third party libraries\n",
        "\n",
        "Cons:\n",
        "- huge overhead\n",
        "- because it is slow, this shouldn't be used for benchmarking\n",
        "- it isn't built in so, you'll have to import externally\n",
        "- timing issues arise with nested functions\n",
        "- not stackable"
      ]
    },
    {
      "cell_type": "markdown",
      "metadata": {
        "id": "ty52c1GvaFeE",
        "colab_type": "text"
      },
      "source": [
        "#parallelization."
      ]
    },
    {
      "cell_type": "code",
      "metadata": {
        "colab_type": "code",
        "outputId": "c0c2221d-0ffc-430b-c586-d8f7dd763096",
        "id": "UxyDAClxkMDQ",
        "colab": {
          "base_uri": "https://localhost:8080/",
          "height": 35
        }
      },
      "source": [
        "#We use cpu_count method to give us the max number of\n",
        "#CPUs available\n",
        "\n",
        "print( \"number of CPUs we can use: \", mp.cpu_count() )"
      ],
      "execution_count": 0,
      "outputs": [
        {
          "output_type": "stream",
          "text": [
            "number of CPUs we can use:  2\n"
          ],
          "name": "stdout"
        }
      ]
    },
    {
      "cell_type": "markdown",
      "metadata": {
        "id": "Yr9nTEDubQ6P",
        "colab_type": "text"
      },
      "source": [
        "We can run a simple code to see what happens when we run parallel processes\n",
        "\n",
        "With this there are two things we need to consider for parallelization:\n",
        "\n",
        "**Syncronuous** and **Asyncronous**\n",
        "\n",
        "A **synchronous** operation **blocks** a process till the operation completes.\n",
        "\n",
        "An **asynchronous** operation is **non-blocking** and only initiates the operation.\n",
        "\n",
        "\n",
        "There are methods we can consider with this:\n",
        "\n",
        "**Synchronous:**\n",
        "\n",
        "**apply( func, args, kwds )**,\n",
        "**map( func, iterable, chunksize )**,\n",
        "**starmap( func, iterable, chunksize )**\n",
        "\n",
        "**Asynchronous:**\n",
        "\n",
        "**apply_async( func, args, kwds, callback )**,\n",
        "**map_async( func, iterable, chunksize, callback )**,\n",
        "**starmap_async( func, iterable, chuncksize, callback )**"
      ]
    },
    {
      "cell_type": "code",
      "metadata": {
        "id": "-2XXBpnAwJaz",
        "colab_type": "code",
        "outputId": "344a2389-5a00-4171-d308-9c9e911c32ae",
        "colab": {
          "base_uri": "https://localhost:8080/",
          "height": 87
        }
      },
      "source": [
        "#coding example here\n",
        "\n",
        "def functionCount( count ):\n",
        "  time.sleep( 2 )\n",
        "  return count*count\n",
        "\n",
        "results_list = []\n",
        "def result_log( count ):\n",
        "  results_list.append( count )\n",
        "\n",
        "@custom_timing\n",
        "def pool_demo():\n",
        "  #this will give us 4 processes to work with\n",
        "  pool = mp.Pool( )\n",
        "  for i in range( 10 ):\n",
        "    #apply works by blocking until the result is ready\n",
        "    result_log( pool.apply( functionCount, args = ( i, ) ) )\n",
        "    \n",
        "  #this prevents any more tasks from being submitted into the pool\n",
        "  pool.close()\n",
        "\n",
        "  #this will wait for worker processes to exit\n",
        "  pool.join()\n",
        "  \n",
        "  print( \"outputting results from apply method:\\n\" )\n",
        "  print( results_list )\n",
        "\n",
        "if __name__ == '__main__':\n",
        "    pool_demo()"
      ],
      "execution_count": 0,
      "outputs": [
        {
          "output_type": "stream",
          "text": [
            "outputting results from apply method:\n",
            "\n",
            "[0, 1, 4, 9, 16, 25, 36, 49, 64, 81]\n",
            "Time it took to run this function:  20.088012218475342\n"
          ],
          "name": "stdout"
        }
      ]
    },
    {
      "cell_type": "code",
      "metadata": {
        "id": "mXC-MV8oivMA",
        "colab_type": "code",
        "outputId": "20cb7430-058f-4c5d-fd6c-b36a778f45b8",
        "colab": {
          "base_uri": "https://localhost:8080/",
          "height": 87
        }
      },
      "source": [
        "def functionCount( count ):\n",
        "  time.sleep( 2 )\n",
        "  return count*count\n",
        "\n",
        "apply_list = []\n",
        "results_list = []\n",
        "def result_log( count ):\n",
        "  results_list.append( count )\n",
        "\n",
        "@custom_timing\n",
        "def pool_demo():\n",
        "  #this will give us 4 processes to work with\n",
        "  pool = mp.Pool( 4 )\n",
        "  for i in range( 10 ):\n",
        "    #apply_sync works by processing and returning the results when it's ready\n",
        "    pool.apply_async( functionCount, args = ( i, ), callback = result_log )\n",
        "\n",
        "  #this prevents any more tasks from being submitted into the pool\n",
        "  pool.close()\n",
        "\n",
        "  #this will wait for worker processes to exit\n",
        "  pool.join()\n",
        "  \n",
        "  print( \"outputting results from apply_async method:\\n\")\n",
        "  print( results_list )\n",
        "  \n",
        "if __name__ == '__main__':\n",
        "    ti = time.time()\n",
        "    pool_demo()\n",
        "    print( \"Time it took to run this function: \", time.time() - ti )"
      ],
      "execution_count": 0,
      "outputs": [
        {
          "output_type": "stream",
          "text": [
            "outputting results from apply_async method:\n",
            "\n",
            "[0, 1, 4, 9, 25, 16, 36, 49, 64, 81]\n",
            "Time it took to run this function:  6.059282064437866\n"
          ],
          "name": "stdout"
        }
      ]
    },
    {
      "cell_type": "markdown",
      "metadata": {
        "id": "jKpcyTLakfgC",
        "colab_type": "text"
      },
      "source": [
        "We can see that the numbers are initiated in order with **apply** method. \n",
        "\n",
        "However, this might not always be the case as **apply_async** method doesn't\n",
        "always output in the order that corresponds to the iterations.\n",
        "\n",
        "Note that with **apply_async** be using callback.\n",
        "\n",
        "This is why we have **map** and **apply** methods available if we need the \n",
        "processes to be blocked until the result is ready."
      ]
    },
    {
      "cell_type": "code",
      "metadata": {
        "id": "4wwAwJ5Vj1kZ",
        "colab_type": "code",
        "outputId": "a8d58f27-725f-489b-a733-0263f61b674e",
        "colab": {
          "base_uri": "https://localhost:8080/",
          "height": 35
        }
      },
      "source": [
        "!pip install cython\n",
        "%load_ext Cython\n",
        "\n",
        "from distutils.core import setup\n",
        "from Cython.Build import cythonize"
      ],
      "execution_count": 0,
      "outputs": [
        {
          "output_type": "stream",
          "text": [
            "Requirement already satisfied: cython in /usr/local/lib/python3.6/dist-packages (0.29.10)\n"
          ],
          "name": "stdout"
        }
      ]
    },
    {
      "cell_type": "markdown",
      "metadata": {
        "id": "2K6KDraFQfHR",
        "colab_type": "text"
      },
      "source": [
        "Installing cython and loading the module\n",
        "\n",
        "#Cython\n",
        "\n",
        "The next thing to consider would be to use another language to run the python code.\n",
        "\n",
        "C + Python = Cython\n",
        "\n",
        "Cython addresses the shortcomings that exists in python:\n",
        "\n",
        "\n",
        "**execution speed, GIL-free concurrency, absence of type checking and not creating an executable.**\n",
        "\n",
        "\n",
        "3 things we'll be looking at:\n",
        "\n",
        "**def** - regular python function, calls from Python only.\n",
        "\n",
        "\n",
        "**cdef** - cython only functions, can't access these from python-only code, must access within Cython, since there will be no C translation to Python for these.\n",
        "\n",
        "\n",
        "**cpdef** - C and Python. Will create a C function and a wrapper for Python. Why not *always* use cpdef? In some cases, you might have C only pointer, like a C array."
      ]
    },
    {
      "cell_type": "markdown",
      "metadata": {
        "id": "aP-dDdU9AReb",
        "colab_type": "text"
      },
      "source": [
        "#def\n",
        "\n",
        "Let's use a sieve function since it will show us the speed between these 3 declarations."
      ]
    },
    {
      "cell_type": "code",
      "metadata": {
        "id": "Nq9kQTO9Ro90",
        "colab_type": "code",
        "outputId": "2283810b-6c19-4dc0-e49c-5aac1f5ddb41",
        "colab": {
          "base_uri": "https://localhost:8080/",
          "height": 52
        }
      },
      "source": [
        "@custom_timing\n",
        "def sieve( size ):\n",
        "  upper_limit = int( math.sqrt( size ) )\n",
        "  \n",
        "  #initializing an array of zeroes for both prime and non prime arrays\n",
        "  #numpy will give us the means to create an array of appropriate size\n",
        "  non_prime = np.zeros( ( size ) )\n",
        "  prime = np.zeros( ( size ) )\n",
        "  \n",
        "  tally = 0\n",
        "  \n",
        "  for m in range( 2, size ):\n",
        "    \n",
        "    '''\n",
        "    this will take the numbers to compare against non primes to\n",
        "    create a list of prime numbers\n",
        "    '''\n",
        "    \n",
        "    if( m != non_prime[ m ] ):\n",
        "      prime[ tally ] = m\n",
        "      #for demo purposes we'll comment out this print statement\n",
        "      #print( '{}' .format( int( prime[ tally ] ) ) )\n",
        "      tally += 1\n",
        "      i = 0\n",
        "    \n",
        "    #this while statement will fill up the non prime numbers\n",
        "    while( ( i * m ) < size ):\n",
        "      if( i * m != non_prime[ i * m ] ):\n",
        "        non_prime[ i * m ] = i * m\n",
        "      i += 1\n",
        "\n",
        "@custom_timing\n",
        "def sieve_demo( size ):\n",
        "  primes = [True for _ in range( size + 1 ) ]\n",
        "  primes[0] = primes[1] = False\n",
        "  upper_limit = int(math.sqrt( size ))\n",
        "  for i in range(2, upper_limit+1):\n",
        "      if not primes[i]:\n",
        "          continue\n",
        "      for j in range(2*i, size+1, i):\n",
        "          primes[j] = False\n",
        "  return [x for x in range(2, size+1) if primes[x]]\n",
        "  \n",
        "if __name__ == '__main__':\n",
        "    sieve( 200000 )\n",
        "    sieve_demo( 200000 )"
      ],
      "execution_count": 0,
      "outputs": [
        {
          "output_type": "stream",
          "text": [
            "1 loop, best of 3: 790 ms per loop\n",
            "1 loop, best of 3: 261 ms per loop\n"
          ],
          "name": "stdout"
        }
      ]
    },
    {
      "cell_type": "markdown",
      "metadata": {
        "id": "RJwdwrICTqd_",
        "colab_type": "text"
      },
      "source": [
        "The timing is still pretty fast, all things considering. Now let's speed it up further.\n",
        "\n",
        "We'll take this same function and Cythonize it.\n",
        "\n",
        "For this we will use **cdef**. This will contain a lot of gotchas considering that\n",
        "we will have to make this code operate like **C code**."
      ]
    },
    {
      "cell_type": "markdown",
      "metadata": {
        "id": "V9-53MAMZO00",
        "colab_type": "text"
      },
      "source": [
        "#cdef\n",
        "\n",
        "because we'll be using c for this cythonized code, we'll also be using **malloc** and **free** for the arrays.\n",
        "\n",
        "**malloc** will give us the memory allocation for the arrays.\n",
        "\n",
        "\n",
        "**free** will free up the memory taken up array when we are done."
      ]
    },
    {
      "cell_type": "code",
      "metadata": {
        "id": "uTk9_6SCRvdI",
        "colab_type": "code",
        "colab": {}
      },
      "source": [
        "#this will be the cythonized version of sieve\n",
        "\n",
        "%%cython\n",
        "from libc.math cimport sqrt\n",
        "from libc.stdlib cimport malloc, free\n",
        "from libc.time cimport time,time_t\n",
        "\n",
        "\n",
        "def sieve_c( size ):\n",
        "  upper_limit = int( sqrt( size ) )\n",
        "  \n",
        "  #we initialize non prime and prime as a pointer\n",
        "  #malloc will allow us to dynamically allocate memory\n",
        "  #we have 2 arrays with size+1 of 4 bytes\n",
        "  cdef int *non_prime = < int * > malloc( ( size + 1 ) * sizeof( int ) )\n",
        "  cdef int *prime = < int * > malloc( ( size + 1 ) * sizeof( int ) )\n",
        "  \n",
        "  cdef int tally = 0, i = 0\n",
        "  \n",
        "  for m in range( 2, size ):\n",
        "    \n",
        "    '''\n",
        "    this will take the numbers to compare against non primes to\n",
        "    create a list of prime numbers\n",
        "    '''\n",
        "    \n",
        "    if( m != non_prime[ m ] ):\n",
        "      prime[ tally ] = m\n",
        "      #for demo purposes we'll comment out this print statement\n",
        "      #print( '{}' .format( int( prime[ tally ] ) ) )\n",
        "      tally += 1\n",
        "      i = 0\n",
        "    \n",
        "    #this while statement will fill up the non prime numbers\n",
        "    while( ( i * m ) < size ):\n",
        "      if( i * m != non_prime[ i * m ] ):\n",
        "        non_prime[ i * m ] = i * m\n",
        "      i += 1\n",
        "  free( non_prime )\n",
        "  free( prime )\n",
        "  \n",
        "#this is the better version of sieve\n",
        "def sieve_demo_c(up_to):  \n",
        "    cdef int i, j\n",
        "    cdef bint *primes = <bint *>malloc((up_to+1) * sizeof(bint))\n",
        "    for i in range(up_to+1):\n",
        "        primes[i] = 1\n",
        "    primes[0] = primes[1] = False\n",
        "    cdef int upper_limit = int(sqrt(up_to))\n",
        "    for i in range(2, upper_limit+1):\n",
        "        if not primes[i]:\n",
        "            continue\n",
        "        j = 2*i\n",
        "        while j < up_to + 1:\n",
        "            primes[j] = False\n",
        "            j += i\n",
        "    free( primes )\n"
      ],
      "execution_count": 0,
      "outputs": []
    },
    {
      "cell_type": "code",
      "metadata": {
        "id": "_Z6ZKGBypbA0",
        "colab_type": "code",
        "outputId": "d4288189-78d2-4698-d333-071f5b0ddc4e",
        "colab": {
          "base_uri": "https://localhost:8080/",
          "height": 52
        }
      },
      "source": [
        "#this cythonized function works!\n",
        "#ti = time.time()\n",
        "%timeit sieve_c( 200000 )\n",
        "#print( \"Time it took to run this function: \", time.time() - ti )\n",
        "\n",
        "#ti = time.time()\n",
        "%timeit sieve_demo_c( 200000 )\n",
        "#print( \"Time it took to run this function: \", time.time() - ti )"
      ],
      "execution_count": 0,
      "outputs": [
        {
          "output_type": "stream",
          "text": [
            "10 loops, best of 3: 37.3 ms per loop\n",
            "100 loops, best of 3: 20.2 ms per loop\n"
          ],
          "name": "stdout"
        }
      ]
    },
    {
      "cell_type": "markdown",
      "metadata": {
        "id": "dgXI75P0rLDt",
        "colab_type": "text"
      },
      "source": [
        "The speed is drastically improved from the original sieve function."
      ]
    },
    {
      "cell_type": "markdown",
      "metadata": {
        "id": "ALqHGEGKtXxg",
        "colab_type": "text"
      },
      "source": [
        "#cpdef\n",
        "\n",
        "**cpdef** version would not be too different since we would have the best of both worlds with python\n",
        "and C.\n",
        "\n",
        "This means that if we Cython code, the runtime will optimize towards C efficiency and if we use the code with python code, the runtime will be like that of python.\n",
        "\n",
        "While we get the flexibility of both python and cython with **cpdef**."
      ]
    },
    {
      "cell_type": "markdown",
      "metadata": {
        "id": "0eRuohJUQtur",
        "colab_type": "text"
      },
      "source": [
        "#caching\n",
        "\n",
        "Caching is a really great way to optimize expensive code. We'll be using a technique called memoization (or memoisation) to implement caching.\n",
        "\n",
        "To demonstrate this we'll be using a **Fibonacci function** since this function is really **expensive (slow and resource intensive)**."
      ]
    },
    {
      "cell_type": "code",
      "metadata": {
        "id": "lr3M1ycmRXNx",
        "colab_type": "code",
        "outputId": "9104220d-86ba-41c4-e3db-82207e8c2612",
        "colab": {
          "base_uri": "https://localhost:8080/",
          "height": 52
        }
      },
      "source": [
        "#implement memoization function here!\n",
        "\n",
        "def memoization( function ):\n",
        "  cache = dict()\n",
        "  \n",
        "  def memoized_function( *args ):\n",
        "    #idea here is to take the argument and see if it exist in our cache\n",
        "    #if the it does, we'll return the cache value.\n",
        "    if args in cache:\n",
        "      return cache[ args ]\n",
        "    \n",
        "    \n",
        "    result = function( *args )\n",
        "    cache[ args ] = result\n",
        "    \n",
        "    return result\n",
        "  \n",
        "  return memoized_function\n",
        "\n",
        "\n",
        "#fibonacci function\n",
        "@memoization\n",
        "def fibonacci( n ):\n",
        "  if n == 0:\n",
        "    return 0\n",
        "  elif n == 1:\n",
        "    return 1\n",
        "  return fibonacci( n - 1 ) + fibonacci( n - 2 )\n",
        "\n",
        "if __name__ == '__main__':\n",
        "  #for this example we could just use %timeit to demonstrate runtime\n",
        "  %timeit fibonacci( 100 )"
      ],
      "execution_count": 0,
      "outputs": [
        {
          "output_type": "stream",
          "text": [
            "The slowest run took 45.17 times longer than the fastest. This could mean that an intermediate result is being cached.\n",
            "1000000 loops, best of 3: 762 ns per loop\n"
          ],
          "name": "stdout"
        }
      ]
    },
    {
      "cell_type": "markdown",
      "metadata": {
        "id": "xVlHdyvjTymY",
        "colab_type": "text"
      },
      "source": [
        "Here we have the fibonacci function. We'll run it first to see how it performs.\n",
        "\n",
        "Next we'll try using our decorator function: memoization and see how it performs.\n",
        "\n",
        "**BTW python has higher order functions built in which features this function:**\n",
        "\n",
        "**lru_cache( maxsize = 128, typed = False )**\n",
        "\n",
        "the **lru** stands for **least recently used**\n",
        "\n",
        "In this implementation of cache, a cache is made with each item containing age bits. This indicate how recent the item is.\n",
        "\n",
        "NOTE: you'll notice that **typed** is set to **False**. If it was set to **True** it means that each items of different types will be cached separately.\n",
        "\n",
        "This means that given **f( 3 )** and **f( 3.0 )**, each will be handled as different calls with different results.\n",
        "\n",
        "Let's take the same function and try it out!"
      ]
    },
    {
      "cell_type": "code",
      "metadata": {
        "id": "LMeTMiluU4pu",
        "colab_type": "code",
        "outputId": "a0f0a279-eb23-4491-e2fc-3396b88a7ee8",
        "colab": {
          "base_uri": "https://localhost:8080/",
          "height": 52
        }
      },
      "source": [
        "from functools import lru_cache\n",
        "\n",
        "@lru_cache( maxsize = 32 )\n",
        "def fibonacci( n ):\n",
        "  if n == 0:\n",
        "    return 0\n",
        "  elif n == 1:\n",
        "    return 1\n",
        "  return fibonacci( n - 1 ) + fibonacci( n - 2 )\n",
        "\n",
        "if __name__ == '__main__':\n",
        "  #for this example we could just use %timeit to demonstrate runtime\n",
        "  %timeit fibonacci( 100 )"
      ],
      "execution_count": 0,
      "outputs": [
        {
          "output_type": "stream",
          "text": [
            "The slowest run took 45.41 times longer than the fastest. This could mean that an intermediate result is being cached.\n",
            "1000000 loops, best of 3: 337 ns per loop\n"
          ],
          "name": "stdout"
        }
      ]
    },
    {
      "cell_type": "markdown",
      "metadata": {
        "id": "c04B-sMtV-20",
        "colab_type": "text"
      },
      "source": [
        "An even faster result! \n",
        "\n",
        "Caching is a great tool that can be used to optimize our code. \n",
        "\n",
        "We generally want to use this on expensive codes.\n",
        "\n",
        "for documentations:\n",
        "\n",
        "https://docs.python.org/3.4/library/functools.html"
      ]
    },
    {
      "cell_type": "markdown",
      "metadata": {
        "id": "istJb_Wddg-g",
        "colab_type": "text"
      },
      "source": [
        "#Numba\n",
        "\n",
        "Numba is a JIT ( Just In Time ) compiler for python.\n",
        "\n",
        "This is what the decorator looks like:\n",
        "\n",
        "@numba.**jit**( **signature = None,\n",
        "                        nopython = False,\n",
        "                        nogil = False,\n",
        "                        cache = False,\n",
        "                        forceobj = False,\n",
        "                        parallel = False,\n",
        "                        error_model = 'python',\n",
        "                        fastmath = False,\n",
        "                        locals = {}** )\n",
        "                        \n",
        "For jit tho we will only be looking at **signatures, nopython, cache, parallel.**\n",
        "\n",
        "There's no point in using **forceobj** since it just means we are forcing it into object mode ( which we don't want btw )\n",
        "\n",
        "**nogil** means we are taking off the global interpreter lock, that's a generally a bucket of worms we do not want to open.\n",
        "\n",
        "**error_model** controls the divide by zero behavior.\n",
        "\n",
        "**fast_math** allows the use of unsafe floating point transforms.\n",
        "\n"
      ]
    },
    {
      "cell_type": "code",
      "metadata": {
        "id": "m5BooGbrIOr7",
        "colab_type": "code",
        "outputId": "11b6e12b-442a-4a4a-8f18-7f30fa064025",
        "colab": {
          "base_uri": "https://localhost:8080/",
          "height": 69
        }
      },
      "source": [
        "!pip install numba\n",
        "from numba import jit, njit"
      ],
      "execution_count": 0,
      "outputs": [
        {
          "output_type": "stream",
          "text": [
            "Requirement already satisfied: numba in /usr/local/lib/python3.6/dist-packages (0.40.1)\n",
            "Requirement already satisfied: llvmlite>=0.25.0dev0 in /usr/local/lib/python3.6/dist-packages (from numba) (0.29.0)\n",
            "Requirement already satisfied: numpy in /usr/local/lib/python3.6/dist-packages (from numba) (1.16.4)\n"
          ],
          "name": "stdout"
        }
      ]
    },
    {
      "cell_type": "markdown",
      "metadata": {
        "id": "svRnCp4gO_7N",
        "colab_type": "text"
      },
      "source": [
        "We'll need to install numba in order to use it!\n",
        "\n",
        "Now for numba you'll see that there is both **@jit** and **@njit.**\n",
        "\n",
        "**@jit: nopython mode\n",
        "         / nobject mode**\n",
        "         \n",
        "**@njit: nopython mode**\n",
        "\n",
        "There is a slight difference between the two:\n",
        "\n",
        "**@njit is shortened form of: @jit( nopython = True )**\n",
        "\n",
        "This nopython mode locks the interpreter from ever trying to handle it as a python object.\n",
        "\n",
        "It means that if a code requires the interpreter to handle it as an python object ( object mode ) @njit will return an error, whereas, if you use just @jit the interpreter will use object mode as necessary. Something to keep in mind.\n",
        "\n",
        "For this example let's take a previous code we know has a lot of loops and see if there's an improvement."
      ]
    },
    {
      "cell_type": "code",
      "metadata": {
        "id": "mA4hq-YFPD0z",
        "colab_type": "code",
        "outputId": "1ef0516a-c020-4a06-84b7-1032a8e76cfe",
        "colab": {
          "base_uri": "https://localhost:8080/",
          "height": 131
        }
      },
      "source": [
        "from functools import wraps\n",
        "\n",
        "\n",
        "@njit\n",
        "def sieve_default( size ):\n",
        "  upper_limit = int( math.sqrt( size ) )\n",
        "  \n",
        "  #initializing an array of zeroes for both prime and non prime arrays\n",
        "  #numpy will give us the means to create an array of appropriate size\n",
        "  non_prime = np.zeros( ( size ) )\n",
        "  prime = np.zeros( ( size ) )\n",
        "  \n",
        "  tally = 0\n",
        "  \n",
        "  for m in range( 2, size ):\n",
        "    \n",
        "    '''\n",
        "    this will take the numbers to compare against non primes to\n",
        "    create a list of prime numbers\n",
        "    '''\n",
        "    \n",
        "    if( m != non_prime[ m ] ):\n",
        "      prime[ tally ] = m\n",
        "      #for demo purposes we'll comment out this print statement\n",
        "      #print( '{}' .format( int( prime[ tally ] ) ) )\n",
        "      tally += 1\n",
        "      i = 0\n",
        "    \n",
        "    #this while statement will fill up the non prime numbers\n",
        "    while( ( i * m ) < size ):\n",
        "      if( i * m != non_prime[ i * m ] ):\n",
        "        non_prime[ i * m ] = i * m\n",
        "      i += 1\n",
        "      \n",
        "if __name__ == '__main__':\n",
        "  #we'll comment out the output for the sake of the demo\n",
        "  \n",
        "  %timeit sieve_default( 100 )\n",
        "  %timeit sieve_cache( 100 )"
      ],
      "execution_count": 0,
      "outputs": [
        {
          "output_type": "error",
          "ename": "SyntaxError",
          "evalue": "ignored",
          "traceback": [
            "\u001b[0;36m  File \u001b[0;32m\"<ipython-input-10-043f9c3aaeb1>\"\u001b[0;36m, line \u001b[0;32m7\u001b[0m\n\u001b[0;31m    profiler = LineProfiler()\u001b[0m\n\u001b[0m           ^\u001b[0m\n\u001b[0;31mSyntaxError\u001b[0m\u001b[0;31m:\u001b[0m invalid syntax\n"
          ]
        }
      ]
    },
    {
      "cell_type": "markdown",
      "metadata": {
        "id": "NjPx-OS74V-k",
        "colab_type": "text"
      },
      "source": [
        "#using signatures with @jit\n",
        "\n",
        "There's two types of compilations:\n",
        "\n",
        "**Lazy compilation:**\n",
        "\n",
        "This let's Numba decide how to optimize.\n",
        "\n",
        "**Eager compilation:**\n",
        "\n",
        "This tells Numba what data types to expect.\n",
        "\n",
        "\n",
        "Using signature is optional. \n",
        "\n",
        "However, it is a great way to maintain control over your function should the need arise."
      ]
    },
    {
      "cell_type": "code",
      "metadata": {
        "id": "lLGun_J84smr",
        "colab_type": "code",
        "colab": {}
      },
      "source": [
        "#coding example here\n",
        "\n",
        "\n",
        "\n",
        "@jit( int32( int32, int32 ) )\n",
        "def simple_func( x, y ):\n",
        "  return x + y\n",
        "\n",
        "#we could also use @njit( int32( int32, int32 ) ) or\n",
        "#@jit( [ int32( int32, int32 ) ], nopython = True )\n",
        "\n",
        "#the idea for this jit is that it will take the two parameters of int\n",
        "#after the object is returned an int\n",
        "\n",
        "#If we simply have: ( int32, int32 ) we would have eager compilation for the function.\n",
        "#However, we are leaving it up to jit to infer the return type.\n",
        "\n",
        "print( simple_func( 3, 7 ) )\n",
        "\n",
        "#returns 10"
      ],
      "execution_count": 0,
      "outputs": []
    },
    {
      "cell_type": "markdown",
      "metadata": {
        "id": "Ovl3W5yDrPIe",
        "colab_type": "text"
      },
      "source": [
        "#Parallelization with Numba\n",
        "\n",
        "You can do parallel processing with Numba simply by doing this:\n",
        "\n",
        "**@njit( parallel = True )**\n",
        "\n",
        "We can also create diagnostics by calling:\n",
        "\n",
        "**parallel_diagnostics( level )**\n",
        "\n",
        "This diagnostic is a report on the optimizations being done during the parallelization process.\n",
        "\n",
        "\n",
        "**level** controls the verbosity of the diagnostic report. **1 being the least, whereas 4 being the most.**"
      ]
    },
    {
      "cell_type": "code",
      "metadata": {
        "id": "J7AZcLAJTRxX",
        "colab_type": "code",
        "outputId": "19c78f8f-aaf4-4a2b-ee6d-e0b02a811544",
        "colab": {
          "base_uri": "https://localhost:8080/",
          "height": 35
        }
      },
      "source": [
        "#coding example here\n",
        "\n",
        "@njit( parallel = True )\n",
        "def square_num( x ):\n",
        "  square_inc = 0\n",
        "  for i in range( x ):\n",
        "    square_inc = square_inc + i ** 2\n",
        "  \n",
        "  return square_inc\n",
        "    \n",
        "print( square_num( 100 ) )\n",
        "\n",
        "#going to generate a very verbose report\n",
        "square_num( 10 ).parallel_diagnostics( level = 4 )"
      ],
      "execution_count": 0,
      "outputs": [
        {
          "output_type": "stream",
          "text": [
            "328350\n"
          ],
          "name": "stdout"
        }
      ]
    },
    {
      "cell_type": "markdown",
      "metadata": {
        "id": "P1qUKKBkrUIm",
        "colab_type": "text"
      },
      "source": [
        "#Caching with Numba\n",
        "\n",
        "You can do caching with Numba simply by doing this:\n",
        "\n",
        "@njit( cache = True )\n",
        "\n",
        "Details about the caching: //need details"
      ]
    },
    {
      "cell_type": "code",
      "metadata": {
        "id": "m3ORx_aZiMPg",
        "colab_type": "code",
        "colab": {}
      },
      "source": [
        "#coding example here\n",
        "\n",
        "@jit( cache = True )\n",
        "def fibonacci( n ):\n",
        "  if n == 0:\n",
        "    return 0\n",
        "  elif n == 1:\n",
        "    return 1\n",
        "  return fibonacci( n - 1 ) + fibonacci( n - 2 )\n",
        "\n",
        "if __name__ == '__main__':\n",
        "  #for this example we could just use %timeit to demonstrate runtime\n",
        "  %timeit fibonacci( 1000 )"
      ],
      "execution_count": 0,
      "outputs": []
    },
    {
      "cell_type": "markdown",
      "metadata": {
        "id": "XZyA8XfjZ0SS",
        "colab_type": "text"
      },
      "source": [
        "#using @cfunc with Numba\n",
        "\n",
        "@numba.**cfunc**( **signature, nopython = False, cache = False, locals = {}** )\n",
        "\n",
        "locals is a mapping of local variable names to Types and signatures.\n",
        "\n",
        "**note: c callbacks does not support object mode. This means we are running like it's @njit.**\n",
        "\n",
        "\n",
        "You can use numba to compile a function callable from c code.\n",
        "\n",
        "This will require you to use signatures.\n",
        "\n",
        "Signatures are data types that are specified for the decorator parameters.\n",
        "\n",
        "This example we will use cfunc and will use .ctypes to callback the object."
      ]
    },
    {
      "cell_type": "code",
      "metadata": {
        "id": "RvCUbk_ZiWd6",
        "colab_type": "code",
        "colab": {}
      },
      "source": [
        "from numba import cfunc\n",
        "#coding example here\n",
        "\n",
        "@cfunc( \"float64(float64, float64)\" )\n",
        "def add( x, y ):\n",
        "  return x + y\n",
        "\n",
        "#we wrapped the add function using cfunc\n",
        "#and the outside will cast the type as float64 at the end\n",
        "\n",
        "#using ctypes to get callback from the function add.\n",
        "print( add.ctypes( 4.0, 5.0 ) )"
      ],
      "execution_count": 0,
      "outputs": []
    },
    {
      "cell_type": "markdown",
      "metadata": {
        "id": "YfzMSSmTbrWd",
        "colab_type": "text"
      },
      "source": [
        "#we could also use cfunc to deal with pointers and arrays\n",
        "\n"
      ]
    },
    {
      "cell_type": "code",
      "metadata": {
        "id": "SzyMGFXvb5ZR",
        "colab_type": "code",
        "colab": {}
      },
      "source": [
        "from numba import types, carray\n",
        "\n",
        "c_sig = types.void( types.CPointer( types.double ),\n",
        "                    types.CPointer( types.double ),\n",
        "                    types.intc, types.intc )\n",
        "\n",
        "@cfunc( c_sig )\n",
        "def array_example( arr1, arr2, x, y ):\n",
        "  array1 = carray( arr1, ( x, y ) )\n",
        "  array2 = carray( arr2, ( x, y ) )\n",
        "  \n",
        "  for i in range( x ):\n",
        "    for j in range( y ):\n",
        "      array2[ i, j ] = 2 * array1[ i , j ]"
      ],
      "execution_count": 0,
      "outputs": []
    },
    {
      "cell_type": "markdown",
      "metadata": {
        "id": "n9NhVGpGdnPx",
        "colab_type": "text"
      },
      "source": [
        ""
      ]
    }
  ]
}