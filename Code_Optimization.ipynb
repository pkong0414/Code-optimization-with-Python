{
  "nbformat": 4,
  "nbformat_minor": 0,
  "metadata": {
    "colab": {
      "name": "Code_Optimization.ipynb",
      "version": "0.3.2",
      "provenance": [],
      "collapsed_sections": [],
      "include_colab_link": true
    },
    "kernelspec": {
      "name": "python3",
      "display_name": "Python 3"
    }
  },
  "cells": [
    {
      "cell_type": "markdown",
      "metadata": {
        "id": "view-in-github",
        "colab_type": "text"
      },
      "source": [
        "<a href=\"https://colab.research.google.com/github/pkong0414/Code-optimization-with-Python/blob/master/Code_Optimization.ipynb\" target=\"_parent\"><img src=\"https://colab.research.google.com/assets/colab-badge.svg\" alt=\"Open In Colab\"/></a>"
      ]
    },
    {
      "cell_type": "code",
      "metadata": {
        "id": "N1hAfxm3W_K1",
        "colab_type": "code",
        "colab": {}
      },
      "source": [
        "import random , os\n",
        "import multiprocessing as mp\n",
        "from queue import Empty\n",
        "import math\n",
        "import time"
      ],
      "execution_count": 0,
      "outputs": []
    },
    {
      "cell_type": "markdown",
      "metadata": {
        "id": "OoIWrFsFZNWk",
        "colab_type": "text"
      },
      "source": [
        "I took the speeding up python notebook: Speeding up Python and expanded it further.\n",
        "\n",
        "Here is the link to the original notebook:\n",
        "( https://colab.research.google.com/drive/1nMDtWcVZCT9q1VWen5rXL8ZHVlxn2KnL )\n",
        "\n",
        "All the documentations are linked in the relevant section.\n",
        "\n",
        "**-Patrick Kong**\n",
        "\n"
      ]
    },
    {
      "cell_type": "markdown",
      "metadata": {
        "id": "VZ6SAE46grx5",
        "colab_type": "text"
      },
      "source": [
        "#This is the presentation for code optimization for python. We will explore the tools we need in order to do this."
      ]
    },
    {
      "cell_type": "markdown",
      "metadata": {
        "id": "1TYJ4-PEgf35",
        "colab_type": "text"
      },
      "source": [
        "#Code timing"
      ]
    },
    {
      "cell_type": "markdown",
      "metadata": {
        "id": "68jbc-KqgwC_",
        "colab_type": "text"
      },
      "source": [
        "Noticing the run time on a code is a good start towards optimizing a code since\n",
        "we can see how fast it will run.\n",
        "\n",
        "So we'll be looking at these commands:\n",
        "\n",
        "%time :  times the execution time of a single statement.\n",
        "\n",
        "%timeit: times the execution in loops for a single statement. This is done to get more timing accuracy. \n",
        "\n",
        "**user time:** is the time spent on the user code itself.\n",
        "\n",
        "**sys time:** is the time spent on the kernel.\n",
        "\n",
        "**Wall time:** is the overall time spent to execute the code. This includes the waiting time before the execution to the total time it takes to execute the code."
      ]
    },
    {
      "cell_type": "code",
      "metadata": {
        "id": "Izb112AUiCp0",
        "colab_type": "code",
        "outputId": "46ed15c0-ddde-423b-9e3f-f10dc3626c2c",
        "colab": {
          "base_uri": "https://localhost:8080/",
          "height": 52
        }
      },
      "source": [
        "#for this example we'll use a simple function to demonstrate the %time command\n",
        "\n",
        "%time sigma = sum( range( 100 ) )"
      ],
      "execution_count": 2,
      "outputs": [
        {
          "output_type": "stream",
          "text": [
            "CPU times: user 8 µs, sys: 2 µs, total: 10 µs\n",
            "Wall time: 13.8 µs\n"
          ],
          "name": "stdout"
        }
      ]
    },
    {
      "cell_type": "markdown",
      "metadata": {
        "id": "vulFTjYMi6jC",
        "colab_type": "text"
      },
      "source": [
        "For a simple statement we can use %time like this. If we need to use it over a loop iterations\n",
        "we will need to change the way it will be called.\n",
        "\n",
        "if we use %%time, this will wrap around everything."
      ]
    },
    {
      "cell_type": "code",
      "metadata": {
        "id": "ebGhKM_3jGwj",
        "colab_type": "code",
        "outputId": "fb0eccc5-7fd2-4933-f69f-48a3252294c0",
        "colab": {
          "base_uri": "https://localhost:8080/",
          "height": 52
        }
      },
      "source": [
        "#let's try doing a looped statement of the same thing\n",
        "\n",
        "%%time\n",
        "\n",
        "\n",
        "sigma = 0\n",
        "for i in range( 100 ):\n",
        "  sigma += i\n",
        "\n",
        "def fluff( x ):\n",
        "  summation = sum( range( x ) )\n",
        "  return summation\n",
        "\n",
        "#fluff( 10000 )"
      ],
      "execution_count": 3,
      "outputs": [
        {
          "output_type": "stream",
          "text": [
            "CPU times: user 20 µs, sys: 4 µs, total: 24 µs\n",
            "Wall time: 29.3 µs\n"
          ],
          "name": "stdout"
        }
      ]
    },
    {
      "cell_type": "markdown",
      "metadata": {
        "id": "E0F1wjlQjsyT",
        "colab_type": "text"
      },
      "source": [
        "Next we'll be using the %timeit function. We could also use the same functions to demonstrate\n",
        "the difference between the two commands."
      ]
    },
    {
      "cell_type": "code",
      "metadata": {
        "id": "oJgA6zD3kD2E",
        "colab_type": "code",
        "outputId": "695a369c-631f-4f8d-c45b-32ca83ac5e51",
        "colab": {
          "base_uri": "https://localhost:8080/",
          "height": 52
        }
      },
      "source": [
        "%timeit sigma = sum( range( 100 ) )"
      ],
      "execution_count": 4,
      "outputs": [
        {
          "output_type": "stream",
          "text": [
            "The slowest run took 6.67 times longer than the fastest. This could mean that an intermediate result is being cached.\n",
            "1000000 loops, best of 3: 1.28 µs per loop\n"
          ],
          "name": "stdout"
        }
      ]
    },
    {
      "cell_type": "markdown",
      "metadata": {
        "id": "PqPpVC9akPTf",
        "colab_type": "text"
      },
      "source": [
        "So %timeit tests the statement by running through loops and gives us the best of 3 timings for the loops"
      ]
    },
    {
      "cell_type": "code",
      "metadata": {
        "id": "8jxuj8oGkqEq",
        "colab_type": "code",
        "outputId": "6ad71368-2b1f-4568-d0b4-68e8fc2cba29",
        "colab": {
          "base_uri": "https://localhost:8080/",
          "height": 35
        }
      },
      "source": [
        "%%timeit\n",
        "\n",
        "sigma = 0\n",
        "for i in range( 100 ):\n",
        "  sigma += i\n"
      ],
      "execution_count": 5,
      "outputs": [
        {
          "output_type": "stream",
          "text": [
            "100000 loops, best of 3: 6.39 µs per loop\n"
          ],
          "name": "stdout"
        }
      ]
    },
    {
      "cell_type": "markdown",
      "metadata": {
        "id": "JjJ1RKZ9nbIv",
        "colab_type": "text"
      },
      "source": [
        "Notice how %timeit lowered the number of loops. \n",
        "\n",
        "For slower codes, %timeit will lower the number of\n",
        "loops it will test."
      ]
    },
    {
      "cell_type": "markdown",
      "metadata": {
        "id": "tFOXvJLvmWt9",
        "colab_type": "text"
      },
      "source": [
        "#Decorators\n",
        "\n",
        "For documentations: https://realpython.com/primer-on-python-decorators/\n",
        "\n",
        "Before we start diving into this. Let's start talking about decorators.\n",
        "\n",
        "Decorators are functions that takes in another function and extends the behavior of the function.\n",
        "\n",
        "This is great for programming even if you aren't using it for optimizations.\n",
        "\n",
        "Here, we will look at a simple function:"
      ]
    },
    {
      "cell_type": "code",
      "metadata": {
        "id": "eksrVYfLuGCr",
        "colab_type": "code",
        "outputId": "fcfe24ed-6cf3-4392-9dd4-17f24dcab7cf",
        "colab": {
          "base_uri": "https://localhost:8080/",
          "height": 225
        }
      },
      "source": [
        "#coding example\n",
        "\n",
        "def decoratorExample( func ):\n",
        "  def wrapperFunc( *args, **kwargs ):\n",
        "    print( \"this is before the function in the wrapper goes off.\" )\n",
        "    func()\n",
        "    print( \"the function in the wrapper has activated.\" )\n",
        "    \n",
        "  return wrapperFunc\n",
        "  \n",
        "def beep():\n",
        "  for x in range( 10 ):\n",
        "    print( x )\n",
        "    \n",
        "#two ways to call on a decorator\n",
        "\n",
        "#first way:\n",
        "beep = decoratorExample( beep )\n",
        "beep()\n"
      ],
      "execution_count": 6,
      "outputs": [
        {
          "output_type": "stream",
          "text": [
            "this is before the function in the wrapper goes off.\n",
            "0\n",
            "1\n",
            "2\n",
            "3\n",
            "4\n",
            "5\n",
            "6\n",
            "7\n",
            "8\n",
            "9\n",
            "the function in the wrapper has activated.\n"
          ],
          "name": "stdout"
        }
      ]
    },
    {
      "cell_type": "markdown",
      "metadata": {
        "id": "GvrGq_bdexne",
        "colab_type": "text"
      },
      "source": [
        "#There is another way to call the decorator function.\n",
        "\n",
        "By using @ we an call the decorator to wrap around a specific function."
      ]
    },
    {
      "cell_type": "code",
      "metadata": {
        "id": "ItUu5fxUV_h-",
        "colab_type": "code",
        "outputId": "14560806-8f7e-4a71-eab5-f7e7218c0ac6",
        "colab": {
          "base_uri": "https://localhost:8080/",
          "height": 225
        }
      },
      "source": [
        "#coding example\n",
        "\n",
        "def decoratorFunc( func ):\n",
        "  def wrapperFunc( *args, **kwargs ):\n",
        "    print( \"this is before the function in the wrapper goes off.\" )\n",
        "    func( )\n",
        "    print( \"the function in the wrapper has activated.\" )\n",
        "    \n",
        "  return wrapperFunc\n",
        "\n",
        "#second way is to use syntactic sugar:\n",
        "\n",
        "@decoratorExample\n",
        "def beep():\n",
        "  for x in range( 10 ):\n",
        "    print( x )\n",
        "    \n",
        "#doing it this way allows us to just call the function itself\n",
        "\n",
        "beep()"
      ],
      "execution_count": 7,
      "outputs": [
        {
          "output_type": "stream",
          "text": [
            "this is before the function in the wrapper goes off.\n",
            "0\n",
            "1\n",
            "2\n",
            "3\n",
            "4\n",
            "5\n",
            "6\n",
            "7\n",
            "8\n",
            "9\n",
            "the function in the wrapper has activated.\n"
          ],
          "name": "stdout"
        }
      ]
    },
    {
      "cell_type": "markdown",
      "metadata": {
        "id": "HOo8V1vjYs-U",
        "colab_type": "text"
      },
      "source": [
        "#We could also use decorator to make a Register or Plugins for functions.\n",
        "\n"
      ]
    },
    {
      "cell_type": "code",
      "metadata": {
        "id": "a1_tt-PnfHe8",
        "colab_type": "code",
        "outputId": "4b775bfd-94c1-4d05-8af6-72af512fc0d3",
        "colab": {
          "base_uri": "https://localhost:8080/",
          "height": 52
        }
      },
      "source": [
        "import random\n",
        "\n",
        "#global dictionary for registers\n",
        "PLUGINS = dict()\n",
        "\n",
        "def registerFunc( func ):\n",
        "  #Register a function as a plug-in\n",
        "  PLUGINS[ func.__name__ ] = func\n",
        "  \n",
        "@registerFunc\n",
        "def hello_func( name ):\n",
        "  return f\"Hi { name }!\"\n",
        "\n",
        "@registerFunc\n",
        "def second_function( name ):\n",
        "  return f\"this is the second function. { name }\"\n",
        "\n",
        "\n",
        "def random_result( name ):\n",
        "  result, result_function = random.choice( list( PLUGINS.items() ) )\n",
        "  \n",
        "  #using !r means we are using repr()\n",
        "  \n",
        "  \"\"\"\n",
        "  repr() prints “official” representation of a date-time object (means using the “official” string representation we can reconstruct the object).\n",
        "  \n",
        "  this is useful for debugging purposes. In this case we are asking a print of the function __name__ being used.\n",
        "  \"\"\"\n",
        "  \n",
        "  print( f\"Using {result!r}\" )\n",
        "  return result_function( name )\n",
        "\n",
        "#if we use PLUGINS we get a list of registered functions\n",
        "\n",
        "PLUGINS\n",
        "\n",
        "random_result( \"Patrick\" )\n",
        "\n",
        "#if we use globals() we will see all the global variables involved in the current scope\n",
        "#globals()"
      ],
      "execution_count": 8,
      "outputs": [
        {
          "output_type": "stream",
          "text": [
            "Using 'second_function'\n"
          ],
          "name": "stdout"
        },
        {
          "output_type": "execute_result",
          "data": {
            "text/plain": [
              "'this is the second function. Patrick'"
            ]
          },
          "metadata": {
            "tags": []
          },
          "execution_count": 8
        }
      ]
    },
    {
      "cell_type": "markdown",
      "metadata": {
        "id": "cffUUrPakvd_",
        "colab_type": "text"
      },
      "source": [
        "#Let's use a decorator to make a custom Timing function.\n",
        "\n",
        "We've learned about timing function. We could literally use this to make a custom timing!\n",
        "\n",
        "\n",
        "*Please note that if you want more thorough testing, use **timeit** since it disables the garbage collector during the loops that are ran.*"
      ]
    },
    {
      "cell_type": "code",
      "metadata": {
        "id": "o6sqlCYmk2Zi",
        "colab_type": "code",
        "outputId": "9e256ef1-e152-492c-da8f-0cf1e93ef91c",
        "colab": {
          "base_uri": "https://localhost:8080/",
          "height": 139
        }
      },
      "source": [
        "import time\n",
        "\n",
        "def custom_timing( func ):\n",
        "  \n",
        "  def timing_func( *args, **kwargs ):\n",
        "    \n",
        "    #start timing\n",
        "    start = time.perf_counter()\n",
        "    result = func( *args, **kwargs )\n",
        "    end = time.perf_counter()\n",
        "    \n",
        "    timing = end - start\n",
        "    print( f'function name: { func.__name__ }' )\n",
        "    print( f'runtime: { timing }' )\n",
        "    \n",
        "    return result\n",
        "  \n",
        "  return timing_func\n",
        "\n",
        "@custom_timing\n",
        "def fibonacci( n ):\n",
        "  if n == 0:\n",
        "    return 0\n",
        "  elif n == 1:\n",
        "    return 1\n",
        "  return fibonacci( n - 1 ) + fibonacci( n - 2 )\n",
        "\n",
        "#you'll notice that in order to make this work we'll have to use a different timing function\n",
        "#because recursion will cause the decorator to wrap each instance of fibonacci!\n",
        "\n",
        "fibonacci( 2 )"
      ],
      "execution_count": 9,
      "outputs": [
        {
          "output_type": "stream",
          "text": [
            "function name: fibonacci\n",
            "runtime: 5.400000020472362e-07\n",
            "function name: fibonacci\n",
            "runtime: 1.1639999968338088e-06\n",
            "function name: fibonacci\n",
            "runtime: 0.00038797099999499096\n"
          ],
          "name": "stdout"
        },
        {
          "output_type": "execute_result",
          "data": {
            "text/plain": [
              "1"
            ]
          },
          "metadata": {
            "tags": []
          },
          "execution_count": 9
        }
      ]
    },
    {
      "cell_type": "markdown",
      "metadata": {
        "id": "flMSqDSVC-L2",
        "colab_type": "text"
      },
      "source": [
        "#Class decorators\n",
        "\n",
        "We could use classes to give decorators even more use.\n",
        "\n",
        "Here in this example we can use it to keep the track of the state of the program."
      ]
    },
    {
      "cell_type": "code",
      "metadata": {
        "id": "tkxRumqeDIRx",
        "colab_type": "code",
        "outputId": "0d901ab6-02a8-4f84-dd60-1b54a1306e22",
        "colab": {
          "base_uri": "https://localhost:8080/",
          "height": 87
        }
      },
      "source": [
        "#coding example here\n",
        "import functools\n",
        "\n",
        "#the class we need to make this work\n",
        "class Count():\n",
        "  def __init__( self, func ):\n",
        "    functools.update_wrapper( self, func )\n",
        "    self.func = func\n",
        "    self.num_calls = 0\n",
        "    \n",
        "  #we need to use .__call__() method in order to make the class callable\n",
        "  def __call__( self, *args, **kwargs ):\n",
        "    self.num_calls += 1\n",
        "    print( f'call {self.num_calls} of {self.func.__name__!r}' )\n",
        "    return self.func( *args, **kwargs )\n",
        "   \n",
        "@Count\n",
        "def fibonacci( n ):\n",
        "  if n == 0:\n",
        "    return 0\n",
        "  elif n == 1:\n",
        "    return 1\n",
        "  return fibonacci( n - 1 ) + fibonacci( n - 2 )\n",
        "\n",
        "\n",
        "fibonacci( 2 )"
      ],
      "execution_count": 10,
      "outputs": [
        {
          "output_type": "stream",
          "text": [
            "call 1 of 'fibonacci'\n",
            "call 2 of 'fibonacci'\n",
            "call 3 of 'fibonacci'\n"
          ],
          "name": "stdout"
        },
        {
          "output_type": "execute_result",
          "data": {
            "text/plain": [
              "1"
            ]
          },
          "metadata": {
            "tags": []
          },
          "execution_count": 10
        }
      ]
    },
    {
      "cell_type": "markdown",
      "metadata": {
        "id": "gOOh9Lelof1U",
        "colab_type": "text"
      },
      "source": [
        "#Code Profiling\n",
        "\n",
        "We understand how to time our codes now. We've also got a taste for decorators.\n",
        "\n",
        "Timing the code gives us more information and is fine for understanding the run times.\n",
        "\n",
        "However, we can take this a step further. This is the next step after we've timed our code.\n",
        "\n",
        "Here is where we will identify performance bottlenecks that exist in codes.\n",
        "\n",
        "To accomplish this, we will look at **cProfiler** and **line_profiler**"
      ]
    },
    {
      "cell_type": "markdown",
      "metadata": {
        "id": "4K8kFELzsz6O",
        "colab_type": "text"
      },
      "source": [
        "#cProfiler.\n",
        "\n",
        "This is a built-in profiler and should be the first alternative after you've gained some intuition from timing the functions.\n",
        "\n",
        "The reason is because this will be a little slower than using the timing functions. You'll use this if you need to gain more insight about the run times for your code.\n",
        "\n",
        "We'll use a bubble sort for code profiling.\n",
        "\n",
        "A decorator function is a function that takes in a function as an input and returns a function for output.\n",
        "\n",
        "we'll be using a decorator function to control what our cprofiler will do.\n",
        "\n",
        "\n",
        "For more information on commands we'll use this documentation:\n",
        "\n",
        "Python 3: https://docs.python.org/3/library/profile.html\n",
        "\n"
      ]
    },
    {
      "cell_type": "code",
      "metadata": {
        "id": "zBuag1BoeMau",
        "colab_type": "code",
        "colab": {}
      },
      "source": [
        "import cProfile\n",
        "import numpy as np"
      ],
      "execution_count": 0,
      "outputs": []
    },
    {
      "cell_type": "markdown",
      "metadata": {
        "id": "K-NvqDt_ePLc",
        "colab_type": "text"
      },
      "source": [
        "An import will be needed to make this work."
      ]
    },
    {
      "cell_type": "code",
      "metadata": {
        "id": "pXiAtIfbY3pU",
        "colab_type": "code",
        "outputId": "2e4b8d33-27fd-4db5-b76e-0cbe1bae3cbe",
        "colab": {
          "base_uri": "https://localhost:8080/",
          "height": 1000
        }
      },
      "source": [
        "#start implementing cProfiler here!\n",
        "\n",
        "def cprofiler( function ):\n",
        "  \n",
        "  #the profiling function\n",
        "  def profile_func( *args, **kwargs ):\n",
        "    \n",
        "    \"\"\"Using it this way allows the profile to display results without\n",
        "    writing the profile data to a file\"\"\"\n",
        "    profile = cProfile.Profile()\n",
        "    try:\n",
        "      #starts the collecting of profile data\n",
        "      profile.enable()\n",
        "      \n",
        "      results = function( *args, **kwargs )\n",
        "      #stops collecting of profile data\n",
        "      profile.disable()\n",
        "      \n",
        "      return results\n",
        "    finally:\n",
        "      \"\"\"we use finally as a finish procedure\n",
        "      in this case print_stats will print results to standard out.\n",
        "      for the sake of the demo we'll comment this out\"\"\"\n",
        "      profile.print_stats()\n",
        "  return profile_func\n",
        "\n",
        "@cprofiler\n",
        "def bubble_sort( list ):\n",
        "    # TODO your code here\n",
        "    \n",
        "    \n",
        "    is_sorted = False\n",
        "    num_sort = 0\n",
        "    temp = 0\n",
        "    while is_sorted == False:\n",
        "      \n",
        "        #this variable is reset at the start of every loop\n",
        "        num_sort = 0\n",
        "        for index in range( len(list) - 1 ):\n",
        "          \n",
        "            #if the preceding number in the array is smaller\n",
        "            #a swap will be done.\n",
        "            if list[ index ] > list[ index + 1 ]:\n",
        "                temp = list[ index ]\n",
        "                list[ index ] = list[ index + 1 ]\n",
        "                list[ index + 1 ] = temp\n",
        "                num_sort += 1\n",
        "                \n",
        "        #if nothing is sorted then the flag is set true\n",
        "        #this will prevent another loop from starting\n",
        "        if num_sort == 0:\n",
        "          is_sorted = True\n",
        "            \n",
        "    #the newly sorted list is returned\n",
        "    return list\n",
        "\n",
        "@cprofiler\n",
        "def create_list():\n",
        "  list = np.zeros( 1000 )\n",
        "  x = 0\n",
        "\n",
        "  for i in range( 1000, 0, -1 ):\n",
        "    list[ x ] = i\n",
        "    x += 1\n",
        "  return list\n",
        "\n",
        "#we'll comment out the output for the sake of the demo\n",
        "list = create_list()\n",
        "print( \"before: \", list )\n",
        "bubble_sort( list )\n",
        "\n"
      ],
      "execution_count": 31,
      "outputs": [
        {
          "output_type": "stream",
          "text": [
            "         3 function calls in 0.001 seconds\n",
            "\n",
            "   Ordered by: standard name\n",
            "\n",
            "   ncalls  tottime  percall  cumtime  percall filename:lineno(function)\n",
            "        1    0.001    0.001    0.001    0.001 <ipython-input-31-5fd36e54f95d>:56(create_list)\n",
            "        1    0.000    0.000    0.000    0.000 {built-in method numpy.zeros}\n",
            "        1    0.000    0.000    0.000    0.000 {method 'disable' of '_lsprof.Profiler' objects}\n",
            "\n",
            "\n",
            "before:  [1000.  999.  998.  997.  996.  995.  994.  993.  992.  991.  990.  989.\n",
            "  988.  987.  986.  985.  984.  983.  982.  981.  980.  979.  978.  977.\n",
            "  976.  975.  974.  973.  972.  971.  970.  969.  968.  967.  966.  965.\n",
            "  964.  963.  962.  961.  960.  959.  958.  957.  956.  955.  954.  953.\n",
            "  952.  951.  950.  949.  948.  947.  946.  945.  944.  943.  942.  941.\n",
            "  940.  939.  938.  937.  936.  935.  934.  933.  932.  931.  930.  929.\n",
            "  928.  927.  926.  925.  924.  923.  922.  921.  920.  919.  918.  917.\n",
            "  916.  915.  914.  913.  912.  911.  910.  909.  908.  907.  906.  905.\n",
            "  904.  903.  902.  901.  900.  899.  898.  897.  896.  895.  894.  893.\n",
            "  892.  891.  890.  889.  888.  887.  886.  885.  884.  883.  882.  881.\n",
            "  880.  879.  878.  877.  876.  875.  874.  873.  872.  871.  870.  869.\n",
            "  868.  867.  866.  865.  864.  863.  862.  861.  860.  859.  858.  857.\n",
            "  856.  855.  854.  853.  852.  851.  850.  849.  848.  847.  846.  845.\n",
            "  844.  843.  842.  841.  840.  839.  838.  837.  836.  835.  834.  833.\n",
            "  832.  831.  830.  829.  828.  827.  826.  825.  824.  823.  822.  821.\n",
            "  820.  819.  818.  817.  816.  815.  814.  813.  812.  811.  810.  809.\n",
            "  808.  807.  806.  805.  804.  803.  802.  801.  800.  799.  798.  797.\n",
            "  796.  795.  794.  793.  792.  791.  790.  789.  788.  787.  786.  785.\n",
            "  784.  783.  782.  781.  780.  779.  778.  777.  776.  775.  774.  773.\n",
            "  772.  771.  770.  769.  768.  767.  766.  765.  764.  763.  762.  761.\n",
            "  760.  759.  758.  757.  756.  755.  754.  753.  752.  751.  750.  749.\n",
            "  748.  747.  746.  745.  744.  743.  742.  741.  740.  739.  738.  737.\n",
            "  736.  735.  734.  733.  732.  731.  730.  729.  728.  727.  726.  725.\n",
            "  724.  723.  722.  721.  720.  719.  718.  717.  716.  715.  714.  713.\n",
            "  712.  711.  710.  709.  708.  707.  706.  705.  704.  703.  702.  701.\n",
            "  700.  699.  698.  697.  696.  695.  694.  693.  692.  691.  690.  689.\n",
            "  688.  687.  686.  685.  684.  683.  682.  681.  680.  679.  678.  677.\n",
            "  676.  675.  674.  673.  672.  671.  670.  669.  668.  667.  666.  665.\n",
            "  664.  663.  662.  661.  660.  659.  658.  657.  656.  655.  654.  653.\n",
            "  652.  651.  650.  649.  648.  647.  646.  645.  644.  643.  642.  641.\n",
            "  640.  639.  638.  637.  636.  635.  634.  633.  632.  631.  630.  629.\n",
            "  628.  627.  626.  625.  624.  623.  622.  621.  620.  619.  618.  617.\n",
            "  616.  615.  614.  613.  612.  611.  610.  609.  608.  607.  606.  605.\n",
            "  604.  603.  602.  601.  600.  599.  598.  597.  596.  595.  594.  593.\n",
            "  592.  591.  590.  589.  588.  587.  586.  585.  584.  583.  582.  581.\n",
            "  580.  579.  578.  577.  576.  575.  574.  573.  572.  571.  570.  569.\n",
            "  568.  567.  566.  565.  564.  563.  562.  561.  560.  559.  558.  557.\n",
            "  556.  555.  554.  553.  552.  551.  550.  549.  548.  547.  546.  545.\n",
            "  544.  543.  542.  541.  540.  539.  538.  537.  536.  535.  534.  533.\n",
            "  532.  531.  530.  529.  528.  527.  526.  525.  524.  523.  522.  521.\n",
            "  520.  519.  518.  517.  516.  515.  514.  513.  512.  511.  510.  509.\n",
            "  508.  507.  506.  505.  504.  503.  502.  501.  500.  499.  498.  497.\n",
            "  496.  495.  494.  493.  492.  491.  490.  489.  488.  487.  486.  485.\n",
            "  484.  483.  482.  481.  480.  479.  478.  477.  476.  475.  474.  473.\n",
            "  472.  471.  470.  469.  468.  467.  466.  465.  464.  463.  462.  461.\n",
            "  460.  459.  458.  457.  456.  455.  454.  453.  452.  451.  450.  449.\n",
            "  448.  447.  446.  445.  444.  443.  442.  441.  440.  439.  438.  437.\n",
            "  436.  435.  434.  433.  432.  431.  430.  429.  428.  427.  426.  425.\n",
            "  424.  423.  422.  421.  420.  419.  418.  417.  416.  415.  414.  413.\n",
            "  412.  411.  410.  409.  408.  407.  406.  405.  404.  403.  402.  401.\n",
            "  400.  399.  398.  397.  396.  395.  394.  393.  392.  391.  390.  389.\n",
            "  388.  387.  386.  385.  384.  383.  382.  381.  380.  379.  378.  377.\n",
            "  376.  375.  374.  373.  372.  371.  370.  369.  368.  367.  366.  365.\n",
            "  364.  363.  362.  361.  360.  359.  358.  357.  356.  355.  354.  353.\n",
            "  352.  351.  350.  349.  348.  347.  346.  345.  344.  343.  342.  341.\n",
            "  340.  339.  338.  337.  336.  335.  334.  333.  332.  331.  330.  329.\n",
            "  328.  327.  326.  325.  324.  323.  322.  321.  320.  319.  318.  317.\n",
            "  316.  315.  314.  313.  312.  311.  310.  309.  308.  307.  306.  305.\n",
            "  304.  303.  302.  301.  300.  299.  298.  297.  296.  295.  294.  293.\n",
            "  292.  291.  290.  289.  288.  287.  286.  285.  284.  283.  282.  281.\n",
            "  280.  279.  278.  277.  276.  275.  274.  273.  272.  271.  270.  269.\n",
            "  268.  267.  266.  265.  264.  263.  262.  261.  260.  259.  258.  257.\n",
            "  256.  255.  254.  253.  252.  251.  250.  249.  248.  247.  246.  245.\n",
            "  244.  243.  242.  241.  240.  239.  238.  237.  236.  235.  234.  233.\n",
            "  232.  231.  230.  229.  228.  227.  226.  225.  224.  223.  222.  221.\n",
            "  220.  219.  218.  217.  216.  215.  214.  213.  212.  211.  210.  209.\n",
            "  208.  207.  206.  205.  204.  203.  202.  201.  200.  199.  198.  197.\n",
            "  196.  195.  194.  193.  192.  191.  190.  189.  188.  187.  186.  185.\n",
            "  184.  183.  182.  181.  180.  179.  178.  177.  176.  175.  174.  173.\n",
            "  172.  171.  170.  169.  168.  167.  166.  165.  164.  163.  162.  161.\n",
            "  160.  159.  158.  157.  156.  155.  154.  153.  152.  151.  150.  149.\n",
            "  148.  147.  146.  145.  144.  143.  142.  141.  140.  139.  138.  137.\n",
            "  136.  135.  134.  133.  132.  131.  130.  129.  128.  127.  126.  125.\n",
            "  124.  123.  122.  121.  120.  119.  118.  117.  116.  115.  114.  113.\n",
            "  112.  111.  110.  109.  108.  107.  106.  105.  104.  103.  102.  101.\n",
            "  100.   99.   98.   97.   96.   95.   94.   93.   92.   91.   90.   89.\n",
            "   88.   87.   86.   85.   84.   83.   82.   81.   80.   79.   78.   77.\n",
            "   76.   75.   74.   73.   72.   71.   70.   69.   68.   67.   66.   65.\n",
            "   64.   63.   62.   61.   60.   59.   58.   57.   56.   55.   54.   53.\n",
            "   52.   51.   50.   49.   48.   47.   46.   45.   44.   43.   42.   41.\n",
            "   40.   39.   38.   37.   36.   35.   34.   33.   32.   31.   30.   29.\n",
            "   28.   27.   26.   25.   24.   23.   22.   21.   20.   19.   18.   17.\n",
            "   16.   15.   14.   13.   12.   11.   10.    9.    8.    7.    6.    5.\n",
            "    4.    3.    2.    1.]\n",
            "         1002 function calls in 1.238 seconds\n",
            "\n",
            "   Ordered by: standard name\n",
            "\n",
            "   ncalls  tottime  percall  cumtime  percall filename:lineno(function)\n",
            "        1    1.238    1.238    1.238    1.238 <ipython-input-31-5fd36e54f95d>:26(bubble_sort)\n",
            "     1000    0.000    0.000    0.000    0.000 {built-in method builtins.len}\n",
            "        1    0.000    0.000    0.000    0.000 {method 'disable' of '_lsprof.Profiler' objects}\n",
            "\n",
            "\n"
          ],
          "name": "stdout"
        },
        {
          "output_type": "execute_result",
          "data": {
            "text/plain": [
              "array([   1.,    2.,    3.,    4.,    5.,    6.,    7.,    8.,    9.,\n",
              "         10.,   11.,   12.,   13.,   14.,   15.,   16.,   17.,   18.,\n",
              "         19.,   20.,   21.,   22.,   23.,   24.,   25.,   26.,   27.,\n",
              "         28.,   29.,   30.,   31.,   32.,   33.,   34.,   35.,   36.,\n",
              "         37.,   38.,   39.,   40.,   41.,   42.,   43.,   44.,   45.,\n",
              "         46.,   47.,   48.,   49.,   50.,   51.,   52.,   53.,   54.,\n",
              "         55.,   56.,   57.,   58.,   59.,   60.,   61.,   62.,   63.,\n",
              "         64.,   65.,   66.,   67.,   68.,   69.,   70.,   71.,   72.,\n",
              "         73.,   74.,   75.,   76.,   77.,   78.,   79.,   80.,   81.,\n",
              "         82.,   83.,   84.,   85.,   86.,   87.,   88.,   89.,   90.,\n",
              "         91.,   92.,   93.,   94.,   95.,   96.,   97.,   98.,   99.,\n",
              "        100.,  101.,  102.,  103.,  104.,  105.,  106.,  107.,  108.,\n",
              "        109.,  110.,  111.,  112.,  113.,  114.,  115.,  116.,  117.,\n",
              "        118.,  119.,  120.,  121.,  122.,  123.,  124.,  125.,  126.,\n",
              "        127.,  128.,  129.,  130.,  131.,  132.,  133.,  134.,  135.,\n",
              "        136.,  137.,  138.,  139.,  140.,  141.,  142.,  143.,  144.,\n",
              "        145.,  146.,  147.,  148.,  149.,  150.,  151.,  152.,  153.,\n",
              "        154.,  155.,  156.,  157.,  158.,  159.,  160.,  161.,  162.,\n",
              "        163.,  164.,  165.,  166.,  167.,  168.,  169.,  170.,  171.,\n",
              "        172.,  173.,  174.,  175.,  176.,  177.,  178.,  179.,  180.,\n",
              "        181.,  182.,  183.,  184.,  185.,  186.,  187.,  188.,  189.,\n",
              "        190.,  191.,  192.,  193.,  194.,  195.,  196.,  197.,  198.,\n",
              "        199.,  200.,  201.,  202.,  203.,  204.,  205.,  206.,  207.,\n",
              "        208.,  209.,  210.,  211.,  212.,  213.,  214.,  215.,  216.,\n",
              "        217.,  218.,  219.,  220.,  221.,  222.,  223.,  224.,  225.,\n",
              "        226.,  227.,  228.,  229.,  230.,  231.,  232.,  233.,  234.,\n",
              "        235.,  236.,  237.,  238.,  239.,  240.,  241.,  242.,  243.,\n",
              "        244.,  245.,  246.,  247.,  248.,  249.,  250.,  251.,  252.,\n",
              "        253.,  254.,  255.,  256.,  257.,  258.,  259.,  260.,  261.,\n",
              "        262.,  263.,  264.,  265.,  266.,  267.,  268.,  269.,  270.,\n",
              "        271.,  272.,  273.,  274.,  275.,  276.,  277.,  278.,  279.,\n",
              "        280.,  281.,  282.,  283.,  284.,  285.,  286.,  287.,  288.,\n",
              "        289.,  290.,  291.,  292.,  293.,  294.,  295.,  296.,  297.,\n",
              "        298.,  299.,  300.,  301.,  302.,  303.,  304.,  305.,  306.,\n",
              "        307.,  308.,  309.,  310.,  311.,  312.,  313.,  314.,  315.,\n",
              "        316.,  317.,  318.,  319.,  320.,  321.,  322.,  323.,  324.,\n",
              "        325.,  326.,  327.,  328.,  329.,  330.,  331.,  332.,  333.,\n",
              "        334.,  335.,  336.,  337.,  338.,  339.,  340.,  341.,  342.,\n",
              "        343.,  344.,  345.,  346.,  347.,  348.,  349.,  350.,  351.,\n",
              "        352.,  353.,  354.,  355.,  356.,  357.,  358.,  359.,  360.,\n",
              "        361.,  362.,  363.,  364.,  365.,  366.,  367.,  368.,  369.,\n",
              "        370.,  371.,  372.,  373.,  374.,  375.,  376.,  377.,  378.,\n",
              "        379.,  380.,  381.,  382.,  383.,  384.,  385.,  386.,  387.,\n",
              "        388.,  389.,  390.,  391.,  392.,  393.,  394.,  395.,  396.,\n",
              "        397.,  398.,  399.,  400.,  401.,  402.,  403.,  404.,  405.,\n",
              "        406.,  407.,  408.,  409.,  410.,  411.,  412.,  413.,  414.,\n",
              "        415.,  416.,  417.,  418.,  419.,  420.,  421.,  422.,  423.,\n",
              "        424.,  425.,  426.,  427.,  428.,  429.,  430.,  431.,  432.,\n",
              "        433.,  434.,  435.,  436.,  437.,  438.,  439.,  440.,  441.,\n",
              "        442.,  443.,  444.,  445.,  446.,  447.,  448.,  449.,  450.,\n",
              "        451.,  452.,  453.,  454.,  455.,  456.,  457.,  458.,  459.,\n",
              "        460.,  461.,  462.,  463.,  464.,  465.,  466.,  467.,  468.,\n",
              "        469.,  470.,  471.,  472.,  473.,  474.,  475.,  476.,  477.,\n",
              "        478.,  479.,  480.,  481.,  482.,  483.,  484.,  485.,  486.,\n",
              "        487.,  488.,  489.,  490.,  491.,  492.,  493.,  494.,  495.,\n",
              "        496.,  497.,  498.,  499.,  500.,  501.,  502.,  503.,  504.,\n",
              "        505.,  506.,  507.,  508.,  509.,  510.,  511.,  512.,  513.,\n",
              "        514.,  515.,  516.,  517.,  518.,  519.,  520.,  521.,  522.,\n",
              "        523.,  524.,  525.,  526.,  527.,  528.,  529.,  530.,  531.,\n",
              "        532.,  533.,  534.,  535.,  536.,  537.,  538.,  539.,  540.,\n",
              "        541.,  542.,  543.,  544.,  545.,  546.,  547.,  548.,  549.,\n",
              "        550.,  551.,  552.,  553.,  554.,  555.,  556.,  557.,  558.,\n",
              "        559.,  560.,  561.,  562.,  563.,  564.,  565.,  566.,  567.,\n",
              "        568.,  569.,  570.,  571.,  572.,  573.,  574.,  575.,  576.,\n",
              "        577.,  578.,  579.,  580.,  581.,  582.,  583.,  584.,  585.,\n",
              "        586.,  587.,  588.,  589.,  590.,  591.,  592.,  593.,  594.,\n",
              "        595.,  596.,  597.,  598.,  599.,  600.,  601.,  602.,  603.,\n",
              "        604.,  605.,  606.,  607.,  608.,  609.,  610.,  611.,  612.,\n",
              "        613.,  614.,  615.,  616.,  617.,  618.,  619.,  620.,  621.,\n",
              "        622.,  623.,  624.,  625.,  626.,  627.,  628.,  629.,  630.,\n",
              "        631.,  632.,  633.,  634.,  635.,  636.,  637.,  638.,  639.,\n",
              "        640.,  641.,  642.,  643.,  644.,  645.,  646.,  647.,  648.,\n",
              "        649.,  650.,  651.,  652.,  653.,  654.,  655.,  656.,  657.,\n",
              "        658.,  659.,  660.,  661.,  662.,  663.,  664.,  665.,  666.,\n",
              "        667.,  668.,  669.,  670.,  671.,  672.,  673.,  674.,  675.,\n",
              "        676.,  677.,  678.,  679.,  680.,  681.,  682.,  683.,  684.,\n",
              "        685.,  686.,  687.,  688.,  689.,  690.,  691.,  692.,  693.,\n",
              "        694.,  695.,  696.,  697.,  698.,  699.,  700.,  701.,  702.,\n",
              "        703.,  704.,  705.,  706.,  707.,  708.,  709.,  710.,  711.,\n",
              "        712.,  713.,  714.,  715.,  716.,  717.,  718.,  719.,  720.,\n",
              "        721.,  722.,  723.,  724.,  725.,  726.,  727.,  728.,  729.,\n",
              "        730.,  731.,  732.,  733.,  734.,  735.,  736.,  737.,  738.,\n",
              "        739.,  740.,  741.,  742.,  743.,  744.,  745.,  746.,  747.,\n",
              "        748.,  749.,  750.,  751.,  752.,  753.,  754.,  755.,  756.,\n",
              "        757.,  758.,  759.,  760.,  761.,  762.,  763.,  764.,  765.,\n",
              "        766.,  767.,  768.,  769.,  770.,  771.,  772.,  773.,  774.,\n",
              "        775.,  776.,  777.,  778.,  779.,  780.,  781.,  782.,  783.,\n",
              "        784.,  785.,  786.,  787.,  788.,  789.,  790.,  791.,  792.,\n",
              "        793.,  794.,  795.,  796.,  797.,  798.,  799.,  800.,  801.,\n",
              "        802.,  803.,  804.,  805.,  806.,  807.,  808.,  809.,  810.,\n",
              "        811.,  812.,  813.,  814.,  815.,  816.,  817.,  818.,  819.,\n",
              "        820.,  821.,  822.,  823.,  824.,  825.,  826.,  827.,  828.,\n",
              "        829.,  830.,  831.,  832.,  833.,  834.,  835.,  836.,  837.,\n",
              "        838.,  839.,  840.,  841.,  842.,  843.,  844.,  845.,  846.,\n",
              "        847.,  848.,  849.,  850.,  851.,  852.,  853.,  854.,  855.,\n",
              "        856.,  857.,  858.,  859.,  860.,  861.,  862.,  863.,  864.,\n",
              "        865.,  866.,  867.,  868.,  869.,  870.,  871.,  872.,  873.,\n",
              "        874.,  875.,  876.,  877.,  878.,  879.,  880.,  881.,  882.,\n",
              "        883.,  884.,  885.,  886.,  887.,  888.,  889.,  890.,  891.,\n",
              "        892.,  893.,  894.,  895.,  896.,  897.,  898.,  899.,  900.,\n",
              "        901.,  902.,  903.,  904.,  905.,  906.,  907.,  908.,  909.,\n",
              "        910.,  911.,  912.,  913.,  914.,  915.,  916.,  917.,  918.,\n",
              "        919.,  920.,  921.,  922.,  923.,  924.,  925.,  926.,  927.,\n",
              "        928.,  929.,  930.,  931.,  932.,  933.,  934.,  935.,  936.,\n",
              "        937.,  938.,  939.,  940.,  941.,  942.,  943.,  944.,  945.,\n",
              "        946.,  947.,  948.,  949.,  950.,  951.,  952.,  953.,  954.,\n",
              "        955.,  956.,  957.,  958.,  959.,  960.,  961.,  962.,  963.,\n",
              "        964.,  965.,  966.,  967.,  968.,  969.,  970.,  971.,  972.,\n",
              "        973.,  974.,  975.,  976.,  977.,  978.,  979.,  980.,  981.,\n",
              "        982.,  983.,  984.,  985.,  986.,  987.,  988.,  989.,  990.,\n",
              "        991.,  992.,  993.,  994.,  995.,  996.,  997.,  998.,  999.,\n",
              "       1000.])"
            ]
          },
          "metadata": {
            "tags": []
          },
          "execution_count": 31
        }
      ]
    },
    {
      "cell_type": "markdown",
      "metadata": {
        "id": "L-n39BmplY28",
        "colab_type": "text"
      },
      "source": [
        "We can see the timing for both the create_list and bubble_sort method with this cProfile.\n",
        "\n",
        "**cProfiler**\n",
        "\n",
        "\n",
        "pros: \n",
        "- no external dependencies\n",
        "- fast\n",
        "- useful for quick checks.\n",
        "\n",
        "cons:\n",
        "- limited information which usually doesn't help if you need deeper debugging.\n",
        "- reports aren't easily understood."
      ]
    },
    {
      "cell_type": "markdown",
      "metadata": {
        "id": "et7jnwfroeO6",
        "colab_type": "text"
      },
      "source": [
        "#line_profiler\n",
        "\n",
        "Let's take a look at line profiler next. We'll use the same code for this one just to show what it can do.\n",
        "\n",
        "For documentation:\n",
        "\n",
        "visit: https://github.com/rkern/line_profiler#line-profiler"
      ]
    },
    {
      "cell_type": "code",
      "metadata": {
        "id": "gGC-ZSYop040",
        "colab_type": "code",
        "outputId": "5afb4409-cc09-4e68-f071-e87b7b993c76",
        "colab": {
          "base_uri": "https://localhost:8080/",
          "height": 399
        }
      },
      "source": [
        "!pip install line_profiler\n",
        "from line_profiler import LineProfiler"
      ],
      "execution_count": 13,
      "outputs": [
        {
          "output_type": "stream",
          "text": [
            "Collecting line_profiler\n",
            "\u001b[?25l  Downloading https://files.pythonhosted.org/packages/14/fc/ecf4e238bb601ff829068e5a72cd1bd67b0ee0ae379db172eb6a0779c6b6/line_profiler-2.1.2.tar.gz (83kB)\n",
            "\u001b[K     |████████████████████████████████| 92kB 5.9MB/s \n",
            "\u001b[?25hRequirement already satisfied: IPython>=0.13 in /usr/local/lib/python3.6/dist-packages (from line_profiler) (5.5.0)\n",
            "Requirement already satisfied: pygments in /usr/local/lib/python3.6/dist-packages (from IPython>=0.13->line_profiler) (2.1.3)\n",
            "Requirement already satisfied: prompt-toolkit<2.0.0,>=1.0.4 in /usr/local/lib/python3.6/dist-packages (from IPython>=0.13->line_profiler) (1.0.16)\n",
            "Requirement already satisfied: decorator in /usr/local/lib/python3.6/dist-packages (from IPython>=0.13->line_profiler) (4.4.0)\n",
            "Requirement already satisfied: simplegeneric>0.8 in /usr/local/lib/python3.6/dist-packages (from IPython>=0.13->line_profiler) (0.8.1)\n",
            "Requirement already satisfied: traitlets>=4.2 in /usr/local/lib/python3.6/dist-packages (from IPython>=0.13->line_profiler) (4.3.2)\n",
            "Requirement already satisfied: pexpect; sys_platform != \"win32\" in /usr/local/lib/python3.6/dist-packages (from IPython>=0.13->line_profiler) (4.7.0)\n",
            "Requirement already satisfied: setuptools>=18.5 in /usr/local/lib/python3.6/dist-packages (from IPython>=0.13->line_profiler) (41.0.1)\n",
            "Requirement already satisfied: pickleshare in /usr/local/lib/python3.6/dist-packages (from IPython>=0.13->line_profiler) (0.7.5)\n",
            "Requirement already satisfied: wcwidth in /usr/local/lib/python3.6/dist-packages (from prompt-toolkit<2.0.0,>=1.0.4->IPython>=0.13->line_profiler) (0.1.7)\n",
            "Requirement already satisfied: six>=1.9.0 in /usr/local/lib/python3.6/dist-packages (from prompt-toolkit<2.0.0,>=1.0.4->IPython>=0.13->line_profiler) (1.12.0)\n",
            "Requirement already satisfied: ipython-genutils in /usr/local/lib/python3.6/dist-packages (from traitlets>=4.2->IPython>=0.13->line_profiler) (0.2.0)\n",
            "Requirement already satisfied: ptyprocess>=0.5 in /usr/local/lib/python3.6/dist-packages (from pexpect; sys_platform != \"win32\"->IPython>=0.13->line_profiler) (0.6.0)\n",
            "Building wheels for collected packages: line-profiler\n",
            "  Building wheel for line-profiler (setup.py) ... \u001b[?25l\u001b[?25hdone\n",
            "  Stored in directory: /root/.cache/pip/wheels/05/7d/9b/aafbe8d78dc2b2c644d2efd2f060ab3258143860142575193a\n",
            "Successfully built line-profiler\n",
            "Installing collected packages: line-profiler\n",
            "Successfully installed line-profiler-2.1.2\n"
          ],
          "name": "stdout"
        }
      ]
    },
    {
      "cell_type": "markdown",
      "metadata": {
        "id": "H29SzThKqBg0",
        "colab_type": "text"
      },
      "source": [
        "As you've noticed line profiler isn't built in. However, I think it's still a very good profiler to use if you need line by line analysis for the code.\n",
        "\n"
      ]
    },
    {
      "cell_type": "code",
      "metadata": {
        "id": "vgy8V329obzR",
        "colab_type": "code",
        "outputId": "8a244976-9ae8-4858-cc94-0edd30dfb992",
        "colab": {
          "base_uri": "https://localhost:8080/",
          "height": 1000
        }
      },
      "source": [
        "#implement line profiler function here!\n",
        "\n",
        "def profiler_function( function ):\n",
        "  def profile_function( *args, **kwargs ):\n",
        "    try:\n",
        "      profiler = LineProfiler()\n",
        "      \n",
        "      #this add_function informs \n",
        "      #the line profiler which function to profile\n",
        "      profiler.add_function( function )\n",
        "      \n",
        "      #enable_by_count is the same as enable for cProfiler\n",
        "      #except for line profiler this is safe to used on nested functions\n",
        "      profiler.enable_by_count()\n",
        "      \n",
        "      #please note if you want to disable then you'll use:\n",
        "      #disable_by_count()\n",
        "      \n",
        "      return function( *args, **kwargs )\n",
        "    finally:\n",
        "      profiler.print_stats()\n",
        "  return profile_function\n",
        "\n",
        "'''\n",
        "except ImportError:\n",
        "  def line_profiler():\n",
        "    def inner( function ):\n",
        "      def nothing( *args, **kwargs )\n",
        "        return function( *args, **kwargs )\n",
        "      return nothing\n",
        "    return inner\n",
        "'''\n",
        "\n",
        "@profiler_function\n",
        "def bubble_sort(list):\n",
        "    # TODO your code here\n",
        "    is_sorted = False\n",
        "    num_sort = 0\n",
        "    temp = 0\n",
        "    while is_sorted == False:\n",
        "        num_sort = 0\n",
        "        for index in range(len(list)-1):\n",
        "            if list[index] > list[index +1]:\n",
        "                temp = list[index]\n",
        "                list[index] = list[index+1]\n",
        "                list[index+1] = temp\n",
        "                num_sort += 1\n",
        "        if num_sort == 0:\n",
        "                is_sorted = True\n",
        "    return list\n",
        "\n",
        "@profiler_function\n",
        "def create_list():\n",
        "  list = np.zeros( 1000 )\n",
        "  x = 0\n",
        "\n",
        "  for i in range( 1000, 0, -1 ):\n",
        "    list[ x ] = i\n",
        "    x += 1\n",
        "  return list\n",
        "\n",
        "#we'll comment out the output for the sake of the demo\n",
        "list = create_list()\n",
        "#print( \"before: \", list )\n",
        "bubble_sort(list)\n",
        "#print( \"after: \", list )\n"
      ],
      "execution_count": 14,
      "outputs": [
        {
          "output_type": "stream",
          "text": [
            "Timer unit: 1e-06 s\n",
            "\n",
            "Total time: 0.001194 s\n",
            "File: <ipython-input-14-2d8446547c28>\n",
            "Function: create_list at line 51\n",
            "\n",
            "Line #      Hits         Time  Per Hit   % Time  Line Contents\n",
            "==============================================================\n",
            "    51                                           @profiler_function\n",
            "    52                                           def create_list():\n",
            "    53         1         47.0     47.0      3.9    list = np.zeros( 1000 )\n",
            "    54         1          1.0      1.0      0.1    x = 0\n",
            "    55                                           \n",
            "    56      1001        341.0      0.3     28.6    for i in range( 1000, 0, -1 ):\n",
            "    57      1000        423.0      0.4     35.4      list[ x ] = i\n",
            "    58      1000        382.0      0.4     32.0      x += 1\n",
            "    59         1          0.0      0.0      0.0    return list\n",
            "\n",
            "Timer unit: 1e-06 s\n",
            "\n",
            "Total time: 2.08042 s\n",
            "File: <ipython-input-14-2d8446547c28>\n",
            "Function: bubble_sort at line 33\n",
            "\n",
            "Line #      Hits         Time  Per Hit   % Time  Line Contents\n",
            "==============================================================\n",
            "    33                                           @profiler_function\n",
            "    34                                           def bubble_sort(list):\n",
            "    35                                               # TODO your code here\n",
            "    36         1          2.0      2.0      0.0      is_sorted = False\n",
            "    37         1          1.0      1.0      0.0      num_sort = 0\n",
            "    38         1          1.0      1.0      0.0      temp = 0\n",
            "    39      1001        423.0      0.4      0.0      while is_sorted == False:\n",
            "    40      1000        374.0      0.4      0.0          num_sort = 0\n",
            "    41   1000000     389241.0      0.4     18.7          for index in range(len(list)-1):\n",
            "    42    999000     684754.0      0.7     32.9              if list[index] > list[index +1]:\n",
            "    43    499500     243765.0      0.5     11.7                  temp = list[index]\n",
            "    44    499500     311392.0      0.6     15.0                  list[index] = list[index+1]\n",
            "    45    499500     245178.0      0.5     11.8                  list[index+1] = temp\n",
            "    46    499500     204798.0      0.4      9.8                  num_sort += 1\n",
            "    47      1000        489.0      0.5      0.0          if num_sort == 0:\n",
            "    48         1          0.0      0.0      0.0                  is_sorted = True\n",
            "    49         1          1.0      1.0      0.0      return list\n",
            "\n"
          ],
          "name": "stdout"
        },
        {
          "output_type": "execute_result",
          "data": {
            "text/plain": [
              "array([   1.,    2.,    3.,    4.,    5.,    6.,    7.,    8.,    9.,\n",
              "         10.,   11.,   12.,   13.,   14.,   15.,   16.,   17.,   18.,\n",
              "         19.,   20.,   21.,   22.,   23.,   24.,   25.,   26.,   27.,\n",
              "         28.,   29.,   30.,   31.,   32.,   33.,   34.,   35.,   36.,\n",
              "         37.,   38.,   39.,   40.,   41.,   42.,   43.,   44.,   45.,\n",
              "         46.,   47.,   48.,   49.,   50.,   51.,   52.,   53.,   54.,\n",
              "         55.,   56.,   57.,   58.,   59.,   60.,   61.,   62.,   63.,\n",
              "         64.,   65.,   66.,   67.,   68.,   69.,   70.,   71.,   72.,\n",
              "         73.,   74.,   75.,   76.,   77.,   78.,   79.,   80.,   81.,\n",
              "         82.,   83.,   84.,   85.,   86.,   87.,   88.,   89.,   90.,\n",
              "         91.,   92.,   93.,   94.,   95.,   96.,   97.,   98.,   99.,\n",
              "        100.,  101.,  102.,  103.,  104.,  105.,  106.,  107.,  108.,\n",
              "        109.,  110.,  111.,  112.,  113.,  114.,  115.,  116.,  117.,\n",
              "        118.,  119.,  120.,  121.,  122.,  123.,  124.,  125.,  126.,\n",
              "        127.,  128.,  129.,  130.,  131.,  132.,  133.,  134.,  135.,\n",
              "        136.,  137.,  138.,  139.,  140.,  141.,  142.,  143.,  144.,\n",
              "        145.,  146.,  147.,  148.,  149.,  150.,  151.,  152.,  153.,\n",
              "        154.,  155.,  156.,  157.,  158.,  159.,  160.,  161.,  162.,\n",
              "        163.,  164.,  165.,  166.,  167.,  168.,  169.,  170.,  171.,\n",
              "        172.,  173.,  174.,  175.,  176.,  177.,  178.,  179.,  180.,\n",
              "        181.,  182.,  183.,  184.,  185.,  186.,  187.,  188.,  189.,\n",
              "        190.,  191.,  192.,  193.,  194.,  195.,  196.,  197.,  198.,\n",
              "        199.,  200.,  201.,  202.,  203.,  204.,  205.,  206.,  207.,\n",
              "        208.,  209.,  210.,  211.,  212.,  213.,  214.,  215.,  216.,\n",
              "        217.,  218.,  219.,  220.,  221.,  222.,  223.,  224.,  225.,\n",
              "        226.,  227.,  228.,  229.,  230.,  231.,  232.,  233.,  234.,\n",
              "        235.,  236.,  237.,  238.,  239.,  240.,  241.,  242.,  243.,\n",
              "        244.,  245.,  246.,  247.,  248.,  249.,  250.,  251.,  252.,\n",
              "        253.,  254.,  255.,  256.,  257.,  258.,  259.,  260.,  261.,\n",
              "        262.,  263.,  264.,  265.,  266.,  267.,  268.,  269.,  270.,\n",
              "        271.,  272.,  273.,  274.,  275.,  276.,  277.,  278.,  279.,\n",
              "        280.,  281.,  282.,  283.,  284.,  285.,  286.,  287.,  288.,\n",
              "        289.,  290.,  291.,  292.,  293.,  294.,  295.,  296.,  297.,\n",
              "        298.,  299.,  300.,  301.,  302.,  303.,  304.,  305.,  306.,\n",
              "        307.,  308.,  309.,  310.,  311.,  312.,  313.,  314.,  315.,\n",
              "        316.,  317.,  318.,  319.,  320.,  321.,  322.,  323.,  324.,\n",
              "        325.,  326.,  327.,  328.,  329.,  330.,  331.,  332.,  333.,\n",
              "        334.,  335.,  336.,  337.,  338.,  339.,  340.,  341.,  342.,\n",
              "        343.,  344.,  345.,  346.,  347.,  348.,  349.,  350.,  351.,\n",
              "        352.,  353.,  354.,  355.,  356.,  357.,  358.,  359.,  360.,\n",
              "        361.,  362.,  363.,  364.,  365.,  366.,  367.,  368.,  369.,\n",
              "        370.,  371.,  372.,  373.,  374.,  375.,  376.,  377.,  378.,\n",
              "        379.,  380.,  381.,  382.,  383.,  384.,  385.,  386.,  387.,\n",
              "        388.,  389.,  390.,  391.,  392.,  393.,  394.,  395.,  396.,\n",
              "        397.,  398.,  399.,  400.,  401.,  402.,  403.,  404.,  405.,\n",
              "        406.,  407.,  408.,  409.,  410.,  411.,  412.,  413.,  414.,\n",
              "        415.,  416.,  417.,  418.,  419.,  420.,  421.,  422.,  423.,\n",
              "        424.,  425.,  426.,  427.,  428.,  429.,  430.,  431.,  432.,\n",
              "        433.,  434.,  435.,  436.,  437.,  438.,  439.,  440.,  441.,\n",
              "        442.,  443.,  444.,  445.,  446.,  447.,  448.,  449.,  450.,\n",
              "        451.,  452.,  453.,  454.,  455.,  456.,  457.,  458.,  459.,\n",
              "        460.,  461.,  462.,  463.,  464.,  465.,  466.,  467.,  468.,\n",
              "        469.,  470.,  471.,  472.,  473.,  474.,  475.,  476.,  477.,\n",
              "        478.,  479.,  480.,  481.,  482.,  483.,  484.,  485.,  486.,\n",
              "        487.,  488.,  489.,  490.,  491.,  492.,  493.,  494.,  495.,\n",
              "        496.,  497.,  498.,  499.,  500.,  501.,  502.,  503.,  504.,\n",
              "        505.,  506.,  507.,  508.,  509.,  510.,  511.,  512.,  513.,\n",
              "        514.,  515.,  516.,  517.,  518.,  519.,  520.,  521.,  522.,\n",
              "        523.,  524.,  525.,  526.,  527.,  528.,  529.,  530.,  531.,\n",
              "        532.,  533.,  534.,  535.,  536.,  537.,  538.,  539.,  540.,\n",
              "        541.,  542.,  543.,  544.,  545.,  546.,  547.,  548.,  549.,\n",
              "        550.,  551.,  552.,  553.,  554.,  555.,  556.,  557.,  558.,\n",
              "        559.,  560.,  561.,  562.,  563.,  564.,  565.,  566.,  567.,\n",
              "        568.,  569.,  570.,  571.,  572.,  573.,  574.,  575.,  576.,\n",
              "        577.,  578.,  579.,  580.,  581.,  582.,  583.,  584.,  585.,\n",
              "        586.,  587.,  588.,  589.,  590.,  591.,  592.,  593.,  594.,\n",
              "        595.,  596.,  597.,  598.,  599.,  600.,  601.,  602.,  603.,\n",
              "        604.,  605.,  606.,  607.,  608.,  609.,  610.,  611.,  612.,\n",
              "        613.,  614.,  615.,  616.,  617.,  618.,  619.,  620.,  621.,\n",
              "        622.,  623.,  624.,  625.,  626.,  627.,  628.,  629.,  630.,\n",
              "        631.,  632.,  633.,  634.,  635.,  636.,  637.,  638.,  639.,\n",
              "        640.,  641.,  642.,  643.,  644.,  645.,  646.,  647.,  648.,\n",
              "        649.,  650.,  651.,  652.,  653.,  654.,  655.,  656.,  657.,\n",
              "        658.,  659.,  660.,  661.,  662.,  663.,  664.,  665.,  666.,\n",
              "        667.,  668.,  669.,  670.,  671.,  672.,  673.,  674.,  675.,\n",
              "        676.,  677.,  678.,  679.,  680.,  681.,  682.,  683.,  684.,\n",
              "        685.,  686.,  687.,  688.,  689.,  690.,  691.,  692.,  693.,\n",
              "        694.,  695.,  696.,  697.,  698.,  699.,  700.,  701.,  702.,\n",
              "        703.,  704.,  705.,  706.,  707.,  708.,  709.,  710.,  711.,\n",
              "        712.,  713.,  714.,  715.,  716.,  717.,  718.,  719.,  720.,\n",
              "        721.,  722.,  723.,  724.,  725.,  726.,  727.,  728.,  729.,\n",
              "        730.,  731.,  732.,  733.,  734.,  735.,  736.,  737.,  738.,\n",
              "        739.,  740.,  741.,  742.,  743.,  744.,  745.,  746.,  747.,\n",
              "        748.,  749.,  750.,  751.,  752.,  753.,  754.,  755.,  756.,\n",
              "        757.,  758.,  759.,  760.,  761.,  762.,  763.,  764.,  765.,\n",
              "        766.,  767.,  768.,  769.,  770.,  771.,  772.,  773.,  774.,\n",
              "        775.,  776.,  777.,  778.,  779.,  780.,  781.,  782.,  783.,\n",
              "        784.,  785.,  786.,  787.,  788.,  789.,  790.,  791.,  792.,\n",
              "        793.,  794.,  795.,  796.,  797.,  798.,  799.,  800.,  801.,\n",
              "        802.,  803.,  804.,  805.,  806.,  807.,  808.,  809.,  810.,\n",
              "        811.,  812.,  813.,  814.,  815.,  816.,  817.,  818.,  819.,\n",
              "        820.,  821.,  822.,  823.,  824.,  825.,  826.,  827.,  828.,\n",
              "        829.,  830.,  831.,  832.,  833.,  834.,  835.,  836.,  837.,\n",
              "        838.,  839.,  840.,  841.,  842.,  843.,  844.,  845.,  846.,\n",
              "        847.,  848.,  849.,  850.,  851.,  852.,  853.,  854.,  855.,\n",
              "        856.,  857.,  858.,  859.,  860.,  861.,  862.,  863.,  864.,\n",
              "        865.,  866.,  867.,  868.,  869.,  870.,  871.,  872.,  873.,\n",
              "        874.,  875.,  876.,  877.,  878.,  879.,  880.,  881.,  882.,\n",
              "        883.,  884.,  885.,  886.,  887.,  888.,  889.,  890.,  891.,\n",
              "        892.,  893.,  894.,  895.,  896.,  897.,  898.,  899.,  900.,\n",
              "        901.,  902.,  903.,  904.,  905.,  906.,  907.,  908.,  909.,\n",
              "        910.,  911.,  912.,  913.,  914.,  915.,  916.,  917.,  918.,\n",
              "        919.,  920.,  921.,  922.,  923.,  924.,  925.,  926.,  927.,\n",
              "        928.,  929.,  930.,  931.,  932.,  933.,  934.,  935.,  936.,\n",
              "        937.,  938.,  939.,  940.,  941.,  942.,  943.,  944.,  945.,\n",
              "        946.,  947.,  948.,  949.,  950.,  951.,  952.,  953.,  954.,\n",
              "        955.,  956.,  957.,  958.,  959.,  960.,  961.,  962.,  963.,\n",
              "        964.,  965.,  966.,  967.,  968.,  969.,  970.,  971.,  972.,\n",
              "        973.,  974.,  975.,  976.,  977.,  978.,  979.,  980.,  981.,\n",
              "        982.,  983.,  984.,  985.,  986.,  987.,  988.,  989.,  990.,\n",
              "        991.,  992.,  993.,  994.,  995.,  996.,  997.,  998.,  999.,\n",
              "       1000.])"
            ]
          },
          "metadata": {
            "tags": []
          },
          "execution_count": 14
        }
      ]
    },
    {
      "cell_type": "markdown",
      "metadata": {
        "id": "OvhYxuC3zSsg",
        "colab_type": "text"
      },
      "source": [
        "\n",
        "We can see the number of operations, run time and miscellaneous details in a line by line fashion.\n",
        "This is a great tool for checking on performance bottlenecks, if you still need to gather more information about your code.\n",
        "\n",
        "**Line Profiler**\n",
        "\n",
        "\n",
        "Pros:\n",
        "- intiuitive\n",
        "- reports are detailed\n",
        "- can follow functions in third party libraries\n",
        "\n",
        "Cons:\n",
        "- huge overhead\n",
        "- because it is slow, this shouldn't be used for benchmarking\n",
        "- it isn't built in so, you'll have to import externally\n",
        "- timing issues arise with nested functions\n",
        "- not stackable"
      ]
    },
    {
      "cell_type": "markdown",
      "metadata": {
        "id": "ty52c1GvaFeE",
        "colab_type": "text"
      },
      "source": [
        "#Parallelization."
      ]
    },
    {
      "cell_type": "code",
      "metadata": {
        "colab_type": "code",
        "outputId": "1f9df7e6-abb7-4dbb-93a2-9e6f0956ee7c",
        "id": "UxyDAClxkMDQ",
        "colab": {
          "base_uri": "https://localhost:8080/",
          "height": 35
        }
      },
      "source": [
        "#We use cpu_count method to give us the max number of\n",
        "#CPUs available\n",
        "\n",
        "print( \"number of CPUs we can use: \", mp.cpu_count() )"
      ],
      "execution_count": 15,
      "outputs": [
        {
          "output_type": "stream",
          "text": [
            "number of CPUs we can use:  2\n"
          ],
          "name": "stdout"
        }
      ]
    },
    {
      "cell_type": "markdown",
      "metadata": {
        "id": "Yr9nTEDubQ6P",
        "colab_type": "text"
      },
      "source": [
        "We can run a simple code to see what happens when we run parallel processes\n",
        "\n",
        "With this there are two things we need to consider for parallelization:\n",
        "\n",
        "**Syncronuous** and **Asyncronous**\n",
        "\n",
        "A **synchronous** operation **blocks** a process till the operation completes.\n",
        "\n",
        "An **asynchronous** operation is **non-blocking** and only initiates the operation.\n",
        "\n",
        "\n",
        "There are methods we can consider with this:\n",
        "\n",
        "**Synchronous:**\n",
        "\n",
        "**apply( func, args, kwds )**,\n",
        "**map( func, iterable, chunksize )**,\n",
        "**starmap( func, iterable, chunksize )**\n",
        "\n",
        "**Asynchronous:**\n",
        "\n",
        "**apply_async( func, args, kwds, callback )**,\n",
        "**map_async( func, iterable, chunksize, callback )**,\n",
        "**starmap_async( func, iterable, chuncksize, callback )**\n",
        "\n",
        "For documentations: "
      ]
    },
    {
      "cell_type": "code",
      "metadata": {
        "id": "-2XXBpnAwJaz",
        "colab_type": "code",
        "outputId": "69810e22-c304-4f1e-e925-2754dd42cd5b",
        "colab": {
          "base_uri": "https://localhost:8080/",
          "height": 104
        }
      },
      "source": [
        "#coding example here\n",
        "\n",
        "def functionCount( count ):\n",
        "  time.sleep( 2 )\n",
        "  return count*count\n",
        "\n",
        "results_list = []\n",
        "def result_log( count ):\n",
        "  results_list.append( count )\n",
        "\n",
        "@custom_timing\n",
        "def pool_demo():\n",
        "  #this will automatically give us processes to work with\n",
        "  pool = mp.Pool( )\n",
        "  for i in range( 10 ):\n",
        "    #apply works by blocking until the result is ready\n",
        "    result_log( pool.apply( functionCount, args = ( i, ) ) )\n",
        "    \n",
        "  #this prevents any more tasks from being submitted into the pool\n",
        "  pool.close()\n",
        "\n",
        "  #this will wait for worker processes to exit\n",
        "  pool.join()\n",
        "  \n",
        "  print( \"outputting results from apply method:\\n\" )\n",
        "  print( results_list )\n",
        "\n",
        "if __name__ == '__main__':\n",
        "    pool_demo()"
      ],
      "execution_count": 16,
      "outputs": [
        {
          "output_type": "stream",
          "text": [
            "outputting results from apply method:\n",
            "\n",
            "[0, 1, 4, 9, 16, 25, 36, 49, 64, 81]\n",
            "function name: pool_demo\n",
            "runtime: 20.078526717999992\n"
          ],
          "name": "stdout"
        }
      ]
    },
    {
      "cell_type": "code",
      "metadata": {
        "id": "mXC-MV8oivMA",
        "colab_type": "code",
        "outputId": "b838fd3e-1237-49cf-8766-78716cdf6527",
        "colab": {
          "base_uri": "https://localhost:8080/",
          "height": 104
        }
      },
      "source": [
        "def functionCount( count ):\n",
        "  time.sleep( 2 )\n",
        "  return count*count\n",
        "\n",
        "apply_list = []\n",
        "results_list = []\n",
        "def result_log( count ):\n",
        "  results_list.append( count )\n",
        "\n",
        "@custom_timing\n",
        "def pool_demo():\n",
        "  #this will give us 4 processes to work with\n",
        "  pool = mp.Pool( 4 )\n",
        "  for i in range( 10 ):\n",
        "    #apply_sync works by processing and returning the results when it's ready\n",
        "    pool.apply_async( functionCount, args = ( i, ), callback = result_log )\n",
        "\n",
        "  #this prevents any more tasks from being submitted into the pool\n",
        "  pool.close()\n",
        "\n",
        "  #this will wait for worker processes to exit\n",
        "  pool.join()\n",
        "  \n",
        "  print( \"outputting results from apply_async method:\\n\")\n",
        "  print( results_list )\n",
        "  \n",
        "if __name__ == '__main__':\n",
        "    pool_demo()"
      ],
      "execution_count": 17,
      "outputs": [
        {
          "output_type": "stream",
          "text": [
            "outputting results from apply_async method:\n",
            "\n",
            "[4, 0, 9, 1, 25, 16, 36, 49, 81, 64]\n",
            "function name: pool_demo\n",
            "runtime: 6.051680066000003\n"
          ],
          "name": "stdout"
        }
      ]
    },
    {
      "cell_type": "markdown",
      "metadata": {
        "id": "jKpcyTLakfgC",
        "colab_type": "text"
      },
      "source": [
        "We can see that the numbers are initiated in order with **apply** method. \n",
        "\n",
        "However, this might not always be the case as **apply_async** method doesn't\n",
        "always output in the order that corresponds to the iterations.\n",
        "\n",
        "Note that with **apply_async** be using callback.\n",
        "\n",
        "This is why we have **map** and **apply** methods available if we need the \n",
        "processes to be blocked until the result is ready."
      ]
    },
    {
      "cell_type": "code",
      "metadata": {
        "id": "4wwAwJ5Vj1kZ",
        "colab_type": "code",
        "outputId": "2d1b2fb3-6ff4-4710-8167-944d11443d08",
        "colab": {
          "base_uri": "https://localhost:8080/",
          "height": 35
        }
      },
      "source": [
        "!pip install cython\n",
        "%load_ext Cython\n",
        "\n",
        "from distutils.core import setup\n",
        "from Cython.Build import cythonize"
      ],
      "execution_count": 18,
      "outputs": [
        {
          "output_type": "stream",
          "text": [
            "Requirement already satisfied: cython in /usr/local/lib/python3.6/dist-packages (0.29.10)\n"
          ],
          "name": "stdout"
        }
      ]
    },
    {
      "cell_type": "markdown",
      "metadata": {
        "id": "2K6KDraFQfHR",
        "colab_type": "text"
      },
      "source": [
        "Installing cython and loading the module\n",
        "\n",
        "#Cython\n",
        "\n",
        "The next thing to consider would be to use another language to run the python code.\n",
        "\n",
        "C + Python = Cython\n",
        "\n",
        "Cython addresses the shortcomings that exists in python:\n",
        "\n",
        "\n",
        "**execution speed, GIL-free concurrency, absence of type checking and not creating an executable.**\n",
        "\n",
        "\n",
        "3 things we'll be looking at:\n",
        "\n",
        "**def** - regular python function, calls from Python only.\n",
        "\n",
        "\n",
        "**cdef** - cython only functions, can't access these from python-only code, must access within Cython, since there will be no C translation to Python for these.\n",
        "\n",
        "\n",
        "**cpdef** - C and Python. Will create a C function and a wrapper for Python. Why not *always* use cpdef? In some cases, you might have C only pointer, like a C array."
      ]
    },
    {
      "cell_type": "markdown",
      "metadata": {
        "id": "aP-dDdU9AReb",
        "colab_type": "text"
      },
      "source": [
        "#def\n",
        "\n",
        "Let's use a sieve function since it will show us the speed between these 3 declarations."
      ]
    },
    {
      "cell_type": "code",
      "metadata": {
        "id": "Nq9kQTO9Ro90",
        "colab_type": "code",
        "colab": {}
      },
      "source": [
        "def sieve( size ):\n",
        "  upper_limit = int( math.sqrt( size ) )\n",
        "  \n",
        "  #initializing an array of zeroes for both prime and non prime arrays\n",
        "  #numpy will give us the means to create an array of appropriate size\n",
        "  non_prime = np.zeros( ( size ) )\n",
        "  prime = np.zeros( ( size ) )\n",
        "  \n",
        "  tally = 0\n",
        "  \n",
        "  for m in range( 2, size ):\n",
        "    \n",
        "    '''\n",
        "    this will take the numbers to compare against non primes to\n",
        "    create a list of prime numbers\n",
        "    '''\n",
        "    \n",
        "    if( m != non_prime[ m ] ):\n",
        "      prime[ tally ] = m\n",
        "      #for demo purposes we'll comment out this print statement\n",
        "      #print( '{}' .format( int( prime[ tally ] ) ) )\n",
        "      tally += 1\n",
        "      i = 0\n",
        "    \n",
        "    #this while statement will fill up the non prime numbers\n",
        "    while( ( i * m ) < size ):\n",
        "      if( i * m != non_prime[ i * m ] ):\n",
        "        non_prime[ i * m ] = i * m\n",
        "      i += 1\n",
        "\n",
        "\n",
        "def sieve_demo( size ):\n",
        "  primes = [True for _ in range( size + 1 ) ]\n",
        "  primes[0] = primes[1] = False\n",
        "  upper_limit = int(math.sqrt( size ))\n",
        "  for i in range(2, upper_limit+1):\n",
        "      if not primes[i]:\n",
        "          continue\n",
        "      for j in range(2*i, size+1, i):\n",
        "          primes[j] = False\n",
        "  return [x for x in range(2, size+1) if primes[x]]"
      ],
      "execution_count": 0,
      "outputs": []
    },
    {
      "cell_type": "code",
      "metadata": {
        "id": "L6KoScEgL3Vt",
        "colab_type": "code",
        "outputId": "30c84253-9daf-41e2-bc84-a16f309f95e2",
        "colab": {
          "base_uri": "https://localhost:8080/",
          "height": 52
        }
      },
      "source": [
        "%timeit sieve( 200000 )\n",
        "    \n",
        "%timeit sieve_demo( 200000 )"
      ],
      "execution_count": 20,
      "outputs": [
        {
          "output_type": "stream",
          "text": [
            "1 loop, best of 3: 759 ms per loop\n",
            "1 loop, best of 3: 248 ms per loop\n"
          ],
          "name": "stdout"
        }
      ]
    },
    {
      "cell_type": "markdown",
      "metadata": {
        "id": "RJwdwrICTqd_",
        "colab_type": "text"
      },
      "source": [
        "The timing is still pretty fast, all things considering. Now let's speed it up further.\n",
        "\n",
        "We'll take this same function and Cythonize it.\n",
        "\n",
        "For this we will use **cdef**. This will contain a lot of gotchas considering that\n",
        "we will have to make this code operate like **C code**."
      ]
    },
    {
      "cell_type": "markdown",
      "metadata": {
        "id": "V9-53MAMZO00",
        "colab_type": "text"
      },
      "source": [
        "#cdef\n",
        "\n",
        "because we'll be using c for this cythonized code, we'll also be using **malloc** and **free** for the arrays.\n",
        "\n",
        "**malloc** will give us the memory allocation for the arrays.\n",
        "\n",
        "\n",
        "**free** will free up the memory taken up array when we are done."
      ]
    },
    {
      "cell_type": "code",
      "metadata": {
        "id": "uTk9_6SCRvdI",
        "colab_type": "code",
        "colab": {}
      },
      "source": [
        "#this will be the cythonized version of sieve\n",
        "%%cython\n",
        "from libc.math cimport sqrt\n",
        "from libc.stdlib cimport malloc, free\n",
        "from libc.time cimport time,time_t\n",
        "\n",
        "cpdef void sieve_c( int size ):\n",
        "  upper_limit = int( sqrt( size ) )\n",
        "  \n",
        "  #we initialize non prime and prime as a pointer\n",
        "  #malloc will allow us to dynamically allocate memory\n",
        "  #we have 2 arrays with size+1 of 4 bytes\n",
        "  cdef int *non_prime = < int * > malloc( ( size + 1 ) * sizeof( int ) )\n",
        "  cdef int *prime = < int * > malloc( ( size + 1 ) * sizeof( int ) )\n",
        "  \n",
        "  cdef int tally = 0, i = 0\n",
        "  try:\n",
        "    for m in range( 2, size ):\n",
        "\n",
        "      '''\n",
        "      this will take the numbers to compare against non primes to\n",
        "      create a list of prime numbers\n",
        "      '''\n",
        "\n",
        "      if( m != non_prime[ m ] ):\n",
        "        prime[ tally ] = m\n",
        "        #for demo purposes we'll comment out this print statement\n",
        "        #print( '{}' .format( int( prime[ tally ] ) ) )\n",
        "        tally += 1\n",
        "        i = 0\n",
        "\n",
        "      #this while statement will fill up the non prime numbers\n",
        "      while( ( i * m ) < size ):\n",
        "        if( i * m != non_prime[ i * m ] ):\n",
        "          non_prime[ i * m ] = i * m\n",
        "        i += 1\n",
        "        \n",
        "  finally:\n",
        "    #we need to free up the allocated memory.\n",
        "    free( non_prime )\n",
        "    free( prime )\n",
        "\n",
        "\n",
        "#this is the better version of sieve\n",
        "cpdef void sieve_demo_c( int up_to ):  \n",
        "    cdef int i, j\n",
        "    cdef bint *primes = < bint * > malloc( ( up_to + 1 ) * sizeof( bint ) )\n",
        "    try:\n",
        "      for i in range( up_to+1 ):\n",
        "        primes[i] = 1\n",
        "        primes[0] = primes[1] = False\n",
        "        upper_limit = int( sqrt( up_to ) )\n",
        "        \n",
        "      for i in range( 2, upper_limit+1 ):\n",
        "          if not primes[i]:\n",
        "              continue\n",
        "          j = 2*i\n",
        "          while j < up_to + 1:\n",
        "              primes[j] = False\n",
        "              j += i\n",
        "    finally:\n",
        "      free( primes )\n"
      ],
      "execution_count": 0,
      "outputs": []
    },
    {
      "cell_type": "code",
      "metadata": {
        "id": "hbcP8g1qXDbe",
        "colab_type": "code",
        "outputId": "9b6a01a7-69a3-4206-a8f0-464a3f7b79cb",
        "colab": {
          "base_uri": "https://localhost:8080/",
          "height": 52
        }
      },
      "source": [
        "#this cythonized function works\n",
        "\n",
        "%timeit sieve_c( 200000 )\n",
        "%timeit sieve_demo_c( 200000 )"
      ],
      "execution_count": 22,
      "outputs": [
        {
          "output_type": "stream",
          "text": [
            "10 loops, best of 3: 38.2 ms per loop\n",
            "100 loops, best of 3: 8.21 ms per loop\n"
          ],
          "name": "stdout"
        }
      ]
    },
    {
      "cell_type": "markdown",
      "metadata": {
        "id": "dgXI75P0rLDt",
        "colab_type": "text"
      },
      "source": [
        "The speed is drastically improved from the original sieve function."
      ]
    },
    {
      "cell_type": "markdown",
      "metadata": {
        "id": "ALqHGEGKtXxg",
        "colab_type": "text"
      },
      "source": [
        "#cpdef\n",
        "\n",
        "**cpdef** version would not be too different since we would have the best of both worlds with python\n",
        "and C.\n",
        "\n",
        "This means that if we Cython code, the runtime will optimize towards C efficiency and if we use the code with python code, the runtime will be like that of python.\n",
        "\n",
        "While we get the flexibility of both python and cython with **cpdef**."
      ]
    },
    {
      "cell_type": "code",
      "metadata": {
        "id": "ukdjlM4oiFU6",
        "colab_type": "code",
        "colab": {}
      },
      "source": [
        "#coding example for cpdef here\n",
        "\n",
        "%%cython\n",
        "from libc.math cimport sqrt\n",
        "from libc.stdlib cimport malloc, free\n",
        "from libc.time cimport time,time_t\n",
        "\n",
        "\n",
        "cpdef sieve_cp( size ):\n",
        "  upper_limit = int( sqrt( size ) )\n",
        "  \n",
        "  \"\"\"\n",
        "    we initialize non prime and prime as a pointer\n",
        "    malloc will allow us to dynamically allocate memory\n",
        "    we have 2 arrays with size+1 of 4 bytes\n",
        "  \"\"\"\n",
        "  cpdef int *non_prime = < int * > malloc( ( size + 1 ) * sizeof( int ) )\n",
        "  cpdef int *prime = < int * > malloc( ( size + 1 ) * sizeof( int ) )\n",
        "  \n",
        "  cpdef int tally = 0, i = 0\n",
        "  try:\n",
        "    for m in range( 2, size ):\n",
        "\n",
        "      \"\"\"\n",
        "        this will take the numbers to compare against non primes to\n",
        "        create a list of prime numbers\n",
        "      \"\"\"\n",
        "\n",
        "      if( m != non_prime[ m ] ):\n",
        "        prime[ tally ] = m\n",
        "\n",
        "        #for demo purposes we'll comment out this print statement\n",
        "\n",
        "        #print( '{}' .format( int( prime[ tally ] ) ) )\n",
        "        tally += 1\n",
        "        i = 0\n",
        "\n",
        "      #this while statement will fill up the non prime numbers\n",
        "      while( ( i * m ) < size ):\n",
        "        if( i * m != non_prime[ i * m ] ):\n",
        "          non_prime[ i * m ] = i * m\n",
        "        i += 1\n",
        "  finally:\n",
        "    free( non_prime )\n",
        "    free( prime )\n",
        "  \n",
        "#this is the better version of sieve\n",
        "cpdef sieve_demo_cp( up_to ):  \n",
        "    cpdef int i, j\n",
        "    cpdef bint *primes = <bint *>malloc((up_to+1) * sizeof(bint))\n",
        "    try:\n",
        "      for i in range(up_to+1):\n",
        "          primes[i] = 1\n",
        "      primes[0] = primes[1] = False\n",
        "      upper_limit = int(sqrt(up_to))\n",
        "      for i in range(2, upper_limit+1):\n",
        "          if not primes[i]:\n",
        "              continue\n",
        "          j = 2*i\n",
        "          while j < up_to + 1:\n",
        "              primes[j] = False\n",
        "              j += i\n",
        "    finally:\n",
        "      free( primes )\n",
        "\n",
        "if __name__ == '__main__':\n",
        "  sieve_cp( 100 )"
      ],
      "execution_count": 0,
      "outputs": []
    },
    {
      "cell_type": "code",
      "metadata": {
        "id": "qjp4kI84TBj4",
        "colab_type": "code",
        "outputId": "a2d4bf3b-a9e8-48f2-862d-4fb66c50b731",
        "colab": {
          "base_uri": "https://localhost:8080/",
          "height": 52
        }
      },
      "source": [
        "%timeit sieve_cp( 200000 )\n",
        "%timeit sieve_demo_cp( 200000 )"
      ],
      "execution_count": 24,
      "outputs": [
        {
          "output_type": "stream",
          "text": [
            "10 loops, best of 3: 35.6 ms per loop\n",
            "10 loops, best of 3: 18.2 ms per loop\n"
          ],
          "name": "stdout"
        }
      ]
    },
    {
      "cell_type": "markdown",
      "metadata": {
        "id": "JJD_dAJMiUrj",
        "colab_type": "text"
      },
      "source": [
        ""
      ]
    },
    {
      "cell_type": "markdown",
      "metadata": {
        "id": "0eRuohJUQtur",
        "colab_type": "text"
      },
      "source": [
        "#caching\n",
        "\n",
        "Caching is a really great way to optimize expensive code. We'll be using a technique called memoization (or memoisation) to implement caching.\n",
        "\n",
        "To demonstrate this we'll be using a **Fibonacci function** since this function is really **expensive (slow and resource intensive)**."
      ]
    },
    {
      "cell_type": "code",
      "metadata": {
        "id": "lr3M1ycmRXNx",
        "colab_type": "code",
        "outputId": "b94440e4-3f0d-47fe-dd4d-82490bcd68e5",
        "colab": {
          "base_uri": "https://localhost:8080/",
          "height": 52
        }
      },
      "source": [
        "#implement memoization function here!\n",
        "\n",
        "def memoization( function ):\n",
        "  cache = dict()\n",
        "  \n",
        "  def memoized_function( *args ):\n",
        "    \"\"\"idea here is to take the argument and see if it exist in our cache\n",
        "       if the it does, we'll return the cache value. \"\"\"\n",
        "    if args in cache:\n",
        "      return cache[ args ]\n",
        "    \n",
        "    \n",
        "    result = function( *args )\n",
        "    cache[ args ] = result\n",
        "    \n",
        "    return result\n",
        "  \n",
        "  return memoized_function\n",
        "\n",
        "\n",
        "#fibonacci function\n",
        "@memoization\n",
        "def fibonacci( n ):\n",
        "  if n == 0:\n",
        "    return 0\n",
        "  elif n == 1:\n",
        "    return 1\n",
        "  return fibonacci( n - 1 ) + fibonacci( n - 2 )\n",
        "\n",
        "#for this example we could just use %timeit to demonstrate runtime\n",
        "%timeit fibonacci( 100 )"
      ],
      "execution_count": 25,
      "outputs": [
        {
          "output_type": "stream",
          "text": [
            "The slowest run took 469.16 times longer than the fastest. This could mean that an intermediate result is being cached.\n",
            "1000000 loops, best of 3: 725 ns per loop\n"
          ],
          "name": "stdout"
        }
      ]
    },
    {
      "cell_type": "markdown",
      "metadata": {
        "id": "xVlHdyvjTymY",
        "colab_type": "text"
      },
      "source": [
        "Here we have the fibonacci function. We'll run it first to see how it performs.\n",
        "\n",
        "Next we'll try using our decorator function: memoization and see how it performs.\n",
        "\n",
        "**BTW python has higher order functions built in which features this function:**\n",
        "\n",
        "**lru_cache( maxsize = 128, typed = False )**\n",
        "\n",
        "**Note: if you set maxsize = None. We are asking the decorator to behave like our memoization function that we looked at earlier.**\n",
        "\n",
        "the **lru** stands for **least recently used**\n",
        "\n",
        "In this implementation of cache, a cache is made with each item containing age bits. This indicate how recent the item is.\n",
        "\n",
        "NOTE: you'll notice that **typed** is set to **False**. If it was set to **True** it means that each items of different types will be cached separately.\n",
        "\n",
        "This means that given **f( 3 )** and **f( 3.0 )**, each will be handled as different calls with different results.\n",
        "\n",
        "Let's take the same function and try it out!"
      ]
    },
    {
      "cell_type": "code",
      "metadata": {
        "id": "LMeTMiluU4pu",
        "colab_type": "code",
        "outputId": "78613bae-d97b-422c-ae10-4cc197a877b1",
        "colab": {
          "base_uri": "https://localhost:8080/",
          "height": 52
        }
      },
      "source": [
        "from functools import lru_cache\n",
        "\n",
        "@lru_cache( maxsize = 32 )\n",
        "def fibonacci( n ):\n",
        "  if n == 0:\n",
        "    return 0\n",
        "  elif n == 1:\n",
        "    return 1\n",
        "  return fibonacci( n - 1 ) + fibonacci( n - 2 )\n",
        "\n",
        "\n",
        "#for this example we could just use %timeit to demonstrate runtime\n",
        "%timeit fibonacci( 100 )"
      ],
      "execution_count": 26,
      "outputs": [
        {
          "output_type": "stream",
          "text": [
            "The slowest run took 334.32 times longer than the fastest. This could mean that an intermediate result is being cached.\n",
            "1000000 loops, best of 3: 361 ns per loop\n"
          ],
          "name": "stdout"
        }
      ]
    },
    {
      "cell_type": "markdown",
      "metadata": {
        "id": "c04B-sMtV-20",
        "colab_type": "text"
      },
      "source": [
        "An even faster result! \n",
        "\n",
        "Caching is a great tool that can be used to optimize our code. \n",
        "\n",
        "We generally want to use this on expensive codes.\n",
        "\n",
        "for documentations:\n",
        "\n",
        "https://docs.python.org/3.4/library/functools.html"
      ]
    },
    {
      "cell_type": "markdown",
      "metadata": {
        "id": "istJb_Wddg-g",
        "colab_type": "text"
      },
      "source": [
        "#Numba\n",
        "\n",
        "Numba is a JIT ( Just In Time ) compiler for python.\n",
        "\n",
        "**A Just in Time implementation system initially translate programs to an intermediate language. Then, during execution, it compiles the intermediate language methods into machine code when they are called. The machine code version is kept for subsequent calls.**\n",
        "\n",
        "This is what the decorator looks like:\n",
        "\n",
        "@numba.**jit**( **signature = None,\n",
        "                        nopython = False,\n",
        "                        nogil = False,\n",
        "                        cache = False,\n",
        "                        forceobj = False,\n",
        "                        parallel = False,\n",
        "                        error_model = 'python',\n",
        "                        fastmath = False,\n",
        "                        locals = {}** )\n",
        "                        \n",
        "For **jit** tho we will only be looking at **signatures, nopython, cache, parallel.**\n",
        "\n",
        "There's no point in using **forceobj** since it just means we are forcing it into object mode ( which we don't want btw )\n",
        "\n",
        "**nogil** means we are taking off the global interpreter lock, that's a generally a bucket of worms we do not want to open.\n",
        "\n",
        "**error_model** controls the divide by zero behavior.\n",
        "\n",
        "**fast_math** allows the use of unsafe floating point transforms.\n",
        "\n"
      ]
    },
    {
      "cell_type": "code",
      "metadata": {
        "id": "m5BooGbrIOr7",
        "colab_type": "code",
        "outputId": "f3894416-140e-4a4b-df43-00707ae8a7e0",
        "colab": {
          "base_uri": "https://localhost:8080/",
          "height": 69
        }
      },
      "source": [
        "!pip install numba\n",
        "from numba import jit, njit\n",
        "import math\n",
        "import numpy as np"
      ],
      "execution_count": 27,
      "outputs": [
        {
          "output_type": "stream",
          "text": [
            "Requirement already satisfied: numba in /usr/local/lib/python3.6/dist-packages (0.40.1)\n",
            "Requirement already satisfied: numpy in /usr/local/lib/python3.6/dist-packages (from numba) (1.16.4)\n",
            "Requirement already satisfied: llvmlite>=0.25.0dev0 in /usr/local/lib/python3.6/dist-packages (from numba) (0.29.0)\n"
          ],
          "name": "stdout"
        }
      ]
    },
    {
      "cell_type": "markdown",
      "metadata": {
        "id": "svRnCp4gO_7N",
        "colab_type": "text"
      },
      "source": [
        "We'll need to install numba in order to use it!\n",
        "\n",
        "Now for numba you'll see that there is both **@jit** and **@njit.**\n",
        "\n",
        "**@jit: nopython mode\n",
        "         / object mode**\n",
        "         \n",
        "**@njit: nopython mode**\n",
        "\n",
        "There is a slight difference between the two:\n",
        "\n",
        "**@njit is shortened form of: @jit( nopython = True )**\n",
        "\n",
        "This nopython mode locks the interpreter from ever trying to handle it as a python object.\n",
        "\n",
        "It means that if a code requires the interpreter to handle it as an python object ( object mode ) @njit will return an error, whereas, if you use just @jit the interpreter will use object mode as necessary. Something to keep in mind.\n",
        "\n",
        "For this example let's take a previous code we know has a lot of loops and see if there's an improvement."
      ]
    },
    {
      "cell_type": "code",
      "metadata": {
        "id": "mA4hq-YFPD0z",
        "colab_type": "code",
        "outputId": "024835e1-194f-4b5d-aec6-ed4cad0343d3",
        "colab": {
          "base_uri": "https://localhost:8080/",
          "height": 52
        }
      },
      "source": [
        "from functools import wraps\n",
        "\n",
        "\n",
        "@njit\n",
        "def sieve_default( size ):\n",
        "  upper_limit = int( math.sqrt( size ) )\n",
        "  \n",
        "  #initializing an array of zeroes for both prime and non prime arrays\n",
        "  #numpy will give us the means to create an array of appropriate size\n",
        "  non_prime = np.zeros( ( size ) )\n",
        "  prime = np.zeros( ( size ) )\n",
        "  \n",
        "  tally = 0\n",
        "  \n",
        "  for m in range( 2, size ):\n",
        "    \n",
        "    '''\n",
        "    this will take the numbers to compare against non primes to\n",
        "    create a list of prime numbers\n",
        "    '''\n",
        "    \n",
        "    if( m != non_prime[ m ] ):\n",
        "      prime[ tally ] = m\n",
        "      #for demo purposes we'll comment out this print statement\n",
        "      #print( '{}' .format( int( prime[ tally ] ) ) )\n",
        "      tally += 1\n",
        "      i = 0\n",
        "    \n",
        "    #this while statement will fill up the non prime numbers\n",
        "    while( ( i * m ) < size ):\n",
        "      if( i * m != non_prime[ i * m ] ):\n",
        "        non_prime[ i * m ] = i * m\n",
        "      i += 1\n",
        "      \n",
        "#we'll comment out the output for the sake of the demo\n",
        "  \n",
        "%timeit sieve_default( 100 )"
      ],
      "execution_count": 28,
      "outputs": [
        {
          "output_type": "stream",
          "text": [
            "The slowest run took 232486.24 times longer than the fastest. This could mean that an intermediate result is being cached.\n",
            "1 loop, best of 3: 1.88 µs per loop\n"
          ],
          "name": "stdout"
        }
      ]
    },
    {
      "cell_type": "markdown",
      "metadata": {
        "id": "NjPx-OS74V-k",
        "colab_type": "text"
      },
      "source": [
        "#using signatures with @jit\n",
        "\n",
        "There's two types of compilations:\n",
        "\n",
        "**Lazy compilation:**\n",
        "\n",
        "This let's Numba decide how to optimize.\n",
        "\n",
        "**Eager compilation:**\n",
        "\n",
        "This tells Numba what data types to expect.\n",
        "\n",
        "\n",
        "Using signature is optional. \n",
        "\n",
        "However, it is a great way to maintain control over your function should the need arise.\n",
        "\n",
        "**For documentation:\n",
        "numba.pydata.org/numba-doc/0.17.0/user/jit.html**"
      ]
    },
    {
      "cell_type": "code",
      "metadata": {
        "id": "lLGun_J84smr",
        "colab_type": "code",
        "outputId": "e12fda09-adf3-46c4-da4a-ce0fb6308d80",
        "colab": {
          "base_uri": "https://localhost:8080/",
          "height": 52
        }
      },
      "source": [
        "#coding example here\n",
        "\n",
        "\n",
        "\n",
        "@jit( [ 'int32( int32, int32 )' ] )\n",
        "def simple_func( x, y ):\n",
        "  return x + y\n",
        "\n",
        "\"\"\"we could also use @njit( int32( int32, int32 ) ) or\n",
        "@jit( [ int32( int32, int32 ) ], nopython = True )\n",
        "\n",
        "the idea for this jit is that it will take the two parameters of int\n",
        "after the object is returned an int\n",
        "\n",
        "If we simply have: ( int32, int32 ) we would have eager compilation for the function.\n",
        "However, we are leaving it up to jit to infer the return type.\"\"\"\n",
        "\n",
        "%timeit simple_func( 3, 7 )\n",
        "\n",
        "#outputs 10"
      ],
      "execution_count": 29,
      "outputs": [
        {
          "output_type": "stream",
          "text": [
            "The slowest run took 11.80 times longer than the fastest. This could mean that an intermediate result is being cached.\n",
            "1000000 loops, best of 3: 477 ns per loop\n"
          ],
          "name": "stdout"
        }
      ]
    },
    {
      "cell_type": "markdown",
      "metadata": {
        "id": "Ovl3W5yDrPIe",
        "colab_type": "text"
      },
      "source": [
        "#Parallelization with Numba\n",
        "\n",
        "You can do parallel processing with Numba simply by doing this:\n",
        "\n",
        "**@njit( parallel = True )**\n",
        "\n",
        "We can also create diagnostics by calling:\n",
        "\n",
        "**parallel_diagnostics( level )**\n",
        "\n",
        "This diagnostic is a report on the optimizations being done during the parallelization process.\n",
        "\n",
        "\n",
        "**level** controls the verbosity of the diagnostic report. **1 being the least, whereas 4 being the most.**"
      ]
    },
    {
      "cell_type": "code",
      "metadata": {
        "id": "J7AZcLAJTRxX",
        "colab_type": "code",
        "outputId": "fd34bcc2-1770-4769-abe7-4059861329b4",
        "colab": {
          "base_uri": "https://localhost:8080/",
          "height": 201
        }
      },
      "source": [
        "from numba import prange\n",
        "#coding example here\n",
        "\n",
        "@njit( parallel = True )\n",
        "def square_num( x ):\n",
        "  square_inc = 0\n",
        "  for i in range( x ):\n",
        "    square_inc = square_inc + i ** 2\n",
        "  \n",
        "  return square_inc\n",
        "    \n",
        "square_num( 100 )"
      ],
      "execution_count": 43,
      "outputs": [
        {
          "output_type": "error",
          "ename": "AttributeError",
          "evalue": "ignored",
          "traceback": [
            "\u001b[0;31m---------------------------------------------------------------------------\u001b[0m",
            "\u001b[0;31mAttributeError\u001b[0m                            Traceback (most recent call last)",
            "\u001b[0;32m<ipython-input-43-d3339cef1e79>\u001b[0m in \u001b[0;36m<module>\u001b[0;34m()\u001b[0m\n\u001b[1;32m     28\u001b[0m \u001b[0mtest\u001b[0m\u001b[0;34m(\u001b[0m\u001b[0mnp\u001b[0m\u001b[0;34m.\u001b[0m\u001b[0marange\u001b[0m\u001b[0;34m(\u001b[0m\u001b[0;36m10\u001b[0m\u001b[0;34m)\u001b[0m\u001b[0;34m)\u001b[0m\u001b[0;34m\u001b[0m\u001b[0;34m\u001b[0m\u001b[0m\n\u001b[1;32m     29\u001b[0m \u001b[0;34m\u001b[0m\u001b[0m\n\u001b[0;32m---> 30\u001b[0;31m \u001b[0mtest\u001b[0m\u001b[0;34m.\u001b[0m\u001b[0mparallel_diagnostics\u001b[0m\u001b[0;34m(\u001b[0m\u001b[0mlevel\u001b[0m\u001b[0;34m=\u001b[0m\u001b[0;36m4\u001b[0m\u001b[0;34m)\u001b[0m\u001b[0;34m\u001b[0m\u001b[0;34m\u001b[0m\u001b[0m\n\u001b[0m",
            "\u001b[0;31mAttributeError\u001b[0m: 'CPUDispatcher' object has no attribute 'parallel_diagnostics'"
          ]
        }
      ]
    },
    {
      "cell_type": "markdown",
      "metadata": {
        "id": "P1qUKKBkrUIm",
        "colab_type": "text"
      },
      "source": [
        "#Caching with Numba\n",
        "\n",
        "You can do caching with Numba simply by doing this:\n",
        "\n",
        "@njit( cache = True )\n",
        "\n",
        "Details about the caching: //need details"
      ]
    },
    {
      "cell_type": "code",
      "metadata": {
        "id": "m3ORx_aZiMPg",
        "colab_type": "code",
        "outputId": "b48b121e-6b1f-447b-9d95-e2caea1c8955",
        "colab": {
          "base_uri": "https://localhost:8080/",
          "height": 139
        }
      },
      "source": [
        "#coding example here\n",
        "\n",
        "@jit( cache=True )\n",
        "def add( x, y ):\n",
        "  return x + y\n",
        "\n",
        "def add_without( x, y):\n",
        "  return x + y\n",
        "\n",
        "@jit( cache=True )\n",
        "def fibonacci( n ):\n",
        "  if n == 0:\n",
        "    return 0\n",
        "  elif n == 1:\n",
        "    return 1\n",
        "  return fibonacci( n - 1 ) + fibonacci( n - 2 )\n",
        "\n",
        "def fibonacci_without( n ):\n",
        "  if n == 0:\n",
        "    return 0\n",
        "  elif n == 1:\n",
        "    return 1\n",
        "  return fibonacci( n - 1 ) + fibonacci( n - 2 )\n",
        "\n",
        "#for this example we could just use %timeit to demonstrate runtime\n",
        "%timeit add( 10, 10 )\n",
        "%timeit add_without( 10, 10 )\n",
        "\n",
        "%timeit fibonacci( 30 )\n",
        "%timeit fibonacci_without( 30 )"
      ],
      "execution_count": 46,
      "outputs": [
        {
          "output_type": "stream",
          "text": [
            "The slowest run took 85711.21 times longer than the fastest. This could mean that an intermediate result is being cached.\n",
            "1000000 loops, best of 3: 458 ns per loop\n",
            "The slowest run took 5.58 times longer than the fastest. This could mean that an intermediate result is being cached.\n",
            "1000000 loops, best of 3: 505 ns per loop\n",
            "The slowest run took 13.19 times longer than the fastest. This could mean that an intermediate result is being cached.\n",
            "100 loops, best of 3: 8.58 ms per loop\n",
            "100 loops, best of 3: 8.52 ms per loop\n"
          ],
          "name": "stdout"
        }
      ]
    },
    {
      "cell_type": "markdown",
      "metadata": {
        "id": "XZyA8XfjZ0SS",
        "colab_type": "text"
      },
      "source": [
        "#using @cfunc with Numba\n",
        "\n",
        "@numba.**cfunc**( **signature, nopython = False, cache = False, locals = {}** )\n",
        "\n",
        "locals is a mapping of local variable names to Types and signatures.\n",
        "\n",
        "**note: c callbacks does not support object mode. This means we are running like it's @njit.**\n",
        "\n",
        "\n",
        "You can use numba to compile a function callable from c code.\n",
        "\n",
        "This will require you to use signatures.\n",
        "\n",
        "Signatures are data types that are specified for the decorator parameters.\n",
        "\n",
        "This example we will use cfunc and will use .ctypes to callback the object."
      ]
    },
    {
      "cell_type": "code",
      "metadata": {
        "id": "RvCUbk_ZiWd6",
        "colab_type": "code",
        "outputId": "efdfee69-4010-4149-d9b9-4b709c5944a7",
        "colab": {
          "base_uri": "https://localhost:8080/",
          "height": 69
        }
      },
      "source": [
        "from numba import cfunc\n",
        "#coding example here\n",
        "\n",
        "@cfunc( 'float64(float64, float64)' )\n",
        "def add( x, y ):\n",
        "  return x + y\n",
        "\n",
        "#we wrapped the add function using cfunc\n",
        "#and the outside will cast the type as float64 at the end\n",
        "\n",
        "#using ctypes to get callback from the function add.\n",
        "%timeit add.ctypes( 4.0, 5.0 )\n",
        "print( add.ctypes( 4.0, 5.0 ) )"
      ],
      "execution_count": 47,
      "outputs": [
        {
          "output_type": "stream",
          "text": [
            "The slowest run took 226.01 times longer than the fastest. This could mean that an intermediate result is being cached.\n",
            "1000000 loops, best of 3: 973 ns per loop\n",
            "9.0\n"
          ],
          "name": "stdout"
        }
      ]
    },
    {
      "cell_type": "markdown",
      "metadata": {
        "id": "YfzMSSmTbrWd",
        "colab_type": "text"
      },
      "source": [
        "#we could also use cfunc to deal with pointers and arrays\n",
        "\n"
      ]
    },
    {
      "cell_type": "code",
      "metadata": {
        "id": "SzyMGFXvb5ZR",
        "colab_type": "code",
        "colab": {}
      },
      "source": [
        "#run this to make sure it works!\n",
        "from numba import cfunc\n",
        "\n",
        "\"\"\"PLEASE RUN THIS TO MAKE SURE THIS WILL RUN!\"\"\"\n",
        "from numba import types, carray\n",
        "\n",
        "c_sig = types.void( types.CPointer( types.double ),\n",
        "                    types.CPointer( types.double ),\n",
        "                    types.intc, types.intc )\n",
        "\n",
        "@cfunc( c_sig )\n",
        "def array_example( arr1, arr2, x, y ):\n",
        "  array1 = carray( arr1, ( x, y ) )\n",
        "  array2 = carray( arr2, ( x, y ) )\n",
        "  \n",
        "  for i in range( x ):\n",
        "    for j in range( y ):\n",
        "      array2[ i, j ] = 2 * array1[ i , j ]\n",
        "      \n",
        "arr1 = []\n",
        "arr2 = []\n",
        "%timeit array_example.ctypes( arr1, arr2, 10, 10 )"
      ],
      "execution_count": 0,
      "outputs": []
    },
    {
      "cell_type": "markdown",
      "metadata": {
        "id": "GNsKkNLgBWZe",
        "colab_type": "text"
      },
      "source": [
        "#using @vectorize() with numba\n",
        "\n",
        "With numba we could use vectorize function to speed up the calculation for arrays.\n",
        "\n",
        "**@numba.vectorize( *, signatures=[], identity=None, nopython=True, target='cpu', forceobj=False, cache=False, locals={} )**\n",
        "\n",
        "In regards to signatures, they must be orderd from more specific to least specific. This is important to work with numpy's type-based dispatching.\n",
        "\n",
        "**targets: 'cpu', 'parallel', 'cuda' are available.**\n",
        "\n",
        "**note: signatures are required if target='parallel'.**\n",
        "\n",
        "For documentation: https://numba.pydata.org/numba-doc/latest/reference/jit-compilation.html\n",
        "( **this will apply to both vectorize and guvectorize** )"
      ]
    },
    {
      "cell_type": "code",
      "metadata": {
        "id": "Zy1vD9I2BgRF",
        "colab_type": "code",
        "colab": {}
      },
      "source": [
        "#\n",
        "from numba import vectorize\n",
        "\n",
        "\"\"\"few types of examples with vectorize signatures here\n",
        "   this call is wrong since it will run with the float64 version, leading to inefficient execution.\"\"\"\n",
        "\n",
        "@vectorize( [ 'float64( float64 )\", \"float32( float32 )' ] )\n",
        "\n",
        "\n",
        "\"\"\"this is correct way to call the vectorize signatures.\"\"\"\n",
        "\n",
        "@vectorize( [ 'float32( float32 )\", \"float64( float64 )' ] )\n",
        "\n",
        "\"\"\"we can include target to change the type of operations\n",
        "   with three flavors to choose from: 'cpu', 'parallel', 'cuda'\n",
        "\"\"\"\n",
        "\n",
        "@vectorize( [ 'float32( float32 )\", \"float64( float64 )' ], target='parallel' )"
      ],
      "execution_count": 0,
      "outputs": []
    },
    {
      "cell_type": "markdown",
      "metadata": {
        "id": "cY9k-cPFuc4U",
        "colab_type": "text"
      },
      "source": [
        "#using @guvectorize() with numba\n",
        "\n",
        "**@guvectorize()** is a generalized version of numba.vectorize().\n",
        "\n",
        "vectorize can handle scalar operands and return a scalar value. **@guvectorize() is designed to take in arguments of various dimensions!**\n",
        "\n",
        "\n",
        "**@numba.guvectorize( signatures, layout, *, nopython=True, target='cpu', forceobj=False, cache=False, locals={} )\n",
        "\n",
        "For **target**: **'cpu'** or **'parallel'** supports the use of **cache**."
      ]
    },
    {
      "cell_type": "code",
      "metadata": {
        "id": "C9rbrBYuu431",
        "colab_type": "code",
        "colab": {}
      },
      "source": [
        "#coding example here\n",
        "import numpy as np\n",
        "from numba import guvectorize\n",
        "\n",
        "\"\"\"This is a simple example of multi-array matrices operation using guvectorize.\n",
        "\n",
        "   The last bit specifies the symbolic form, the dimensionality and size relationships of the argument types and return types.\n",
        "   \n",
        "   notice how we have \"( m, n ), ( m, p )->( n, p )\" this allows us to make the multi array operations necessary.\n",
        "   Whereas, if we have ( n ), ()->( n ) this means we are asking for a scalar operation [ () implying scalar ]\n",
        "\"\"\"\n",
        "\n",
        "@guvectorize( [ 'void( float64[:,:], float64[:,:], float64[:,:])' ], '( m, n ), ( n, p )->( m, p )' )\n",
        "def func( a, b, result):\n",
        "  result = a * b\n",
        "  return result\n",
        "\n",
        "\n",
        "array1 = np.ones( 10, 10 )\n",
        "array2 = np.ones( 10, 10 )\n",
        "\n",
        "#this will output the results from the operation though it might be a case of 1's\n",
        "print( func( a, b, result) )"
      ],
      "execution_count": 0,
      "outputs": []
    },
    {
      "cell_type": "markdown",
      "metadata": {
        "id": "szc2s_dWboEU",
        "colab_type": "text"
      },
      "source": [
        "#Conclusion\n",
        "\n",
        "There are many ways to optimize code. Here are the general guidelines for optimization:\n",
        "\n",
        "\n",
        "*   Only optimize when there is a proven speed bottleneck.\n",
        "\n",
        "*   Keep things small because Python is expensive when it comes to bytecode instructions and variable look-up.\n",
        "\n",
        "*   Use natural or built in functions of python. For example a loop in map is faster than explicit loop, like say a for-loop. **Only use map(), filter(), or reduce() to replace an explicit for-loop**\n",
        "\n",
        "*   In-lining inner loops can save a lot of time.\n",
        "\n",
        "*   Local variables are faster than globals.\n",
        "\n",
        "*   **Always collect data** remember we have tools like timing functions, cProfiler, and Line Profiler that can check our code and identify bottle necks.\n",
        "\n",
        "\n",
        "\n",
        "\n",
        "\n"
      ]
    }
  ]
}